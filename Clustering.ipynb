{
 "cells": [
  {
   "cell_type": "code",
   "execution_count": 111,
   "metadata": {},
   "outputs": [],
   "source": [
    "import pandas as pd\n",
    "import numpy as np\n",
    "import sklearn.datasets as datasets\n",
    "import os\n",
    "\n",
    "\n",
    "from sklearn.datasets import make_classification\n",
    "from sklearn import metrics\n",
    "from sklearn import cluster, datasets, mixture\n",
    "from sklearn.neighbors import kneighbors_graph\n",
    "from sklearn.preprocessing import StandardScaler\n",
    "from itertools import cycle, islice\n",
    "from mpl_toolkits.mplot3d import Axes3D\n",
    "\n",
    "\n",
    "from numpy import where\n",
    "from numpy import unique\n",
    "\n",
    "from sklearn.decomposition import PCA\n",
    "from sklearn.decomposition import KernelPCA"
   ]
  },
  {
   "cell_type": "code",
   "execution_count": 112,
   "metadata": {},
   "outputs": [],
   "source": [
    "df = pd.read_csv(os.path.expanduser(\"~/Desktop/FinalData.csv\"))"
   ]
  },
  {
   "cell_type": "code",
   "execution_count": 113,
   "metadata": {},
   "outputs": [],
   "source": [
    "X = df[[\"Movehub Rating\",\"Purchase Power\",\"Health Care\",\"Pollution\",\"Quality of Life\",\n",
    "        \"Crime Rating\",\"Congestion Level\",\"Education\",\"Annual Temperature\"]]"
   ]
  },
  {
   "cell_type": "code",
   "execution_count": 114,
   "metadata": {},
   "outputs": [],
   "source": [
    "X_reduced = PCA(n_components=9).fit_transform(X)"
   ]
  },
  {
   "cell_type": "code",
   "execution_count": 115,
   "metadata": {},
   "outputs": [
    {
     "name": "stdout",
     "output_type": "stream",
     "text": [
      "Movehub Rating        79.772696\n",
      "Purchase Power        46.510980\n",
      "Health Care           66.321275\n",
      "Pollution             44.884020\n",
      "Quality of Life       60.021324\n",
      "Crime Rating          41.607892\n",
      "Congestion Level      27.357843\n",
      "Education             47.432598\n",
      "Annual Temperature    59.777549\n",
      "lat                   29.753758\n",
      "lng                    2.053508\n",
      "Cluster                3.205882\n",
      "dtype: float64\n"
     ]
    },
    {
     "name": "stderr",
     "output_type": "stream",
     "text": [
      "<ipython-input-115-e3d9fb3d9480>:6: RuntimeWarning: Explicit initial center position passed: performing only one init in k-means instead of n_init=100\n",
      "  model.fit(X_reduced)\n"
     ]
    }
   ],
   "source": [
    "from sklearn.cluster import KMeans\n",
    "startup = np.array([[60,30,50,30,50,33,22,40,47],[60,60,55,30,80,55,13,35,47],[90,60,55,60,80,33,44,60,70],\n",
    "           [79,46,66,44,60,41,27,47,29],[90,56,70,56,34,55,33,34,50],[79,56,77,33,55,50,33,55,70],\n",
    "          [60,46,66,33,52,30,44,55,59],[90,50,45,33,60,41,15,47,70]])\n",
    "model = KMeans(n_clusters=8, n_init=100, init=startup)\n",
    "model.fit(X_reduced)\n",
    "clusters = unique(model.labels_)\n",
    "df[\"Cluster\"] = model.labels_\n",
    "list = [[-9999,11.25,50,80,8.61,85.7,9,-9999,-9999]]\n",
    "print(df.mean(axis = 0))\n",
    "for i in range(len(list[0])):\n",
    "    if list[0][i] == -9999:\n",
    "        list[0][i] = df.mean(axis = 0)[i]\n",
    "prediction = model.predict(list)[0]"
   ]
  },
  {
   "cell_type": "code",
   "execution_count": 116,
   "metadata": {},
   "outputs": [
    {
     "name": "stdout",
     "output_type": "stream",
     "text": [
      "(array([  0,   2,   5,   6,   8,  14,  15,  16,  18,  19,  21,  23,  26,\n",
      "        30,  33,  40,  41,  44,  46,  47,  48,  49,  54,  60,  61,  62,\n",
      "        64,  66,  67,  68,  77,  78,  79,  80,  83,  84,  88, 100, 112,\n",
      "       114, 115, 117, 118, 119, 125, 131, 132, 139, 141, 165, 168]),)\n",
      "(array([  3,  22,  29,  32,  34,  35,  45,  56,  65,  69,  81,  93,  97,\n",
      "       107, 108, 126, 127, 186]),)\n",
      "(array([ 63,  71, 101, 136, 143, 145, 150, 151, 153, 160, 161, 175, 176,\n",
      "       177, 178, 195, 197, 199, 201]),)\n",
      "(array([ 10,  17,  43,  53,  57,  70,  73,  94,  98, 110, 116, 120, 128,\n",
      "       130, 134, 142, 152, 158, 167, 170, 184, 191, 194, 196]),)\n",
      "(array([ 31,  36,  51, 103, 104, 106, 122, 123, 148, 157, 164, 171]),)\n",
      "(array([  1,   4,   7,   9,  11,  12,  13,  20,  24,  25,  28,  37,  59,\n",
      "        75,  86,  92,  99, 133, 146, 149, 156, 163, 182, 190, 202]),)\n",
      "(array([ 74,  76,  87,  89,  90,  95, 109, 111, 113, 121, 124, 129, 135,\n",
      "       138, 147, 159, 162, 166, 172, 173, 174, 179, 180, 183, 185, 188,\n",
      "       189, 192, 193, 198, 200, 203]),)\n",
      "(array([ 27,  38,  39,  42,  50,  52,  55,  58,  72,  82,  85,  91,  96,\n",
      "       102, 105, 137, 140, 144, 154, 155, 169, 181, 187]),)\n"
     ]
    }
   ],
   "source": [
    "for cluster in clusters:\n",
    "    row_ix = where(model.labels_ == cluster)\n",
    "    print(row_ix)\n",
    "    if cluster == prediction:\n",
    "        targetCluster = row_ix"
   ]
  },
  {
   "cell_type": "code",
   "execution_count": 117,
   "metadata": {},
   "outputs": [
    {
     "name": "stdout",
     "output_type": "stream",
     "text": [
      "(array([  0,   2,   5,   6,   8,  14,  15,  16,  18,  19,  21,  23,  26,\n",
      "        30,  33,  40,  41,  44,  46,  47,  48,  49,  54,  60,  61,  62,\n",
      "        64,  66,  67,  68,  77,  78,  79,  80,  83,  84,  88, 100, 112,\n",
      "       114, 115, 117, 118, 119, 125, 131, 132, 139, 141, 165, 168]),)\n"
     ]
    }
   ],
   "source": [
    "print(targetCluster)"
   ]
  },
  {
   "cell_type": "code",
   "execution_count": null,
   "metadata": {},
   "outputs": [],
   "source": []
  }
 ],
 "metadata": {
  "kernelspec": {
   "display_name": "Python 3",
   "language": "python",
   "name": "python3"
  },
  "language_info": {
   "codemirror_mode": {
    "name": "ipython",
    "version": 3
   },
   "file_extension": ".py",
   "mimetype": "text/x-python",
   "name": "python",
   "nbconvert_exporter": "python",
   "pygments_lexer": "ipython3",
   "version": "3.8.3"
  }
 },
 "nbformat": 4,
 "nbformat_minor": 4
}
