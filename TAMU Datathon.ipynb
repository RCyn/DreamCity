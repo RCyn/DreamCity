{
 "cells": [
  {
   "cell_type": "code",
   "execution_count": 281,
   "metadata": {},
   "outputs": [],
   "source": [
    "###############################################     Libraries      ##############################"
   ]
  },
  {
   "cell_type": "code",
   "execution_count": 150,
   "metadata": {},
   "outputs": [],
   "source": [
    "import math\n",
    "import matplotlib as pp\n",
    "import numpy as np\n",
    "import seaborn\n",
    "from matplotlib import pyplot as plt\n",
    "import plotly as py\n",
    "import plotly.graph_objects as go\n",
    "import plotly.express as px\n",
    "import datetime as dt\n",
    "from plotly.subplots import make_subplots\n",
    "import os\n",
    "import pandas as pd\n",
    "\n",
    "import sklearn.datasets as datasets\n",
    "from sklearn.datasets import make_classification\n",
    "from sklearn import metrics\n",
    "from sklearn import cluster, datasets, mixture\n",
    "from sklearn.neighbors import kneighbors_graph\n",
    "from sklearn.preprocessing import StandardScaler\n",
    "from itertools import cycle, islice\n",
    "from mpl_toolkits.mplot3d import Axes3D\n",
    "\n",
    "\n",
    "from numpy import where\n",
    "from numpy import unique\n",
    "\n",
    "from sklearn.decomposition import PCA\n",
    "from sklearn.decomposition import KernelPCA\n"
   ]
  },
  {
   "cell_type": "code",
   "execution_count": 151,
   "metadata": {},
   "outputs": [],
   "source": [
    "######################################            Importing and Cleaning              ############################# "
   ]
  },
  {
   "cell_type": "code",
   "execution_count": 152,
   "metadata": {},
   "outputs": [],
   "source": [
    "user_input = [[75,4,5,8,77,88,99,-9999,-9999]]"
   ]
  },
  {
   "cell_type": "code",
   "execution_count": 153,
   "metadata": {},
   "outputs": [],
   "source": [
    "df = pd.read_csv(\"https://raw.githubusercontent.com/RCyn/DreamCity/main/FinalData.csv\")"
   ]
  },
  {
   "cell_type": "code",
   "execution_count": 154,
   "metadata": {},
   "outputs": [
    {
     "data": {
      "text/html": [
       "<div>\n",
       "<style scoped>\n",
       "    .dataframe tbody tr th:only-of-type {\n",
       "        vertical-align: middle;\n",
       "    }\n",
       "\n",
       "    .dataframe tbody tr th {\n",
       "        vertical-align: top;\n",
       "    }\n",
       "\n",
       "    .dataframe thead th {\n",
       "        text-align: right;\n",
       "    }\n",
       "</style>\n",
       "<table border=\"1\" class=\"dataframe\">\n",
       "  <thead>\n",
       "    <tr style=\"text-align: right;\">\n",
       "      <th></th>\n",
       "      <th>City</th>\n",
       "      <th>Movehub Rating</th>\n",
       "      <th>Purchase Power</th>\n",
       "      <th>Health Care</th>\n",
       "      <th>Pollution</th>\n",
       "      <th>Quality of Life</th>\n",
       "      <th>Crime Rating</th>\n",
       "      <th>Congestion Level</th>\n",
       "      <th>Education</th>\n",
       "      <th>Annual Temperature</th>\n",
       "      <th>lat</th>\n",
       "      <th>lng</th>\n",
       "      <th>Description</th>\n",
       "    </tr>\n",
       "  </thead>\n",
       "  <tbody>\n",
       "    <tr>\n",
       "      <th>0</th>\n",
       "      <td>Caracas</td>\n",
       "      <td>65.18</td>\n",
       "      <td>11.25</td>\n",
       "      <td>44.44</td>\n",
       "      <td>83.45</td>\n",
       "      <td>8.61</td>\n",
       "      <td>85.70</td>\n",
       "      <td>9</td>\n",
       "      <td>10.00</td>\n",
       "      <td>71.60</td>\n",
       "      <td>10.480594</td>\n",
       "      <td>-66.903606</td>\n",
       "      <td>This is a beautiful city with kind people and ...</td>\n",
       "    </tr>\n",
       "    <tr>\n",
       "      <th>1</th>\n",
       "      <td>Johannesburg</td>\n",
       "      <td>84.08</td>\n",
       "      <td>53.99</td>\n",
       "      <td>59.98</td>\n",
       "      <td>47.39</td>\n",
       "      <td>51.26</td>\n",
       "      <td>83.93</td>\n",
       "      <td>30</td>\n",
       "      <td>41.50</td>\n",
       "      <td>59.90</td>\n",
       "      <td>-26.204103</td>\n",
       "      <td>28.047305</td>\n",
       "      <td>This is a beautiful city with kind people and ...</td>\n",
       "    </tr>\n",
       "    <tr>\n",
       "      <th>2</th>\n",
       "      <td>Fortaleza</td>\n",
       "      <td>80.17</td>\n",
       "      <td>52.28</td>\n",
       "      <td>45.46</td>\n",
       "      <td>66.32</td>\n",
       "      <td>36.68</td>\n",
       "      <td>78.65</td>\n",
       "      <td>37</td>\n",
       "      <td>10.00</td>\n",
       "      <td>79.90</td>\n",
       "      <td>-3.732714</td>\n",
       "      <td>-38.526998</td>\n",
       "      <td>This is a beautiful city with kind people and ...</td>\n",
       "    </tr>\n",
       "    <tr>\n",
       "      <th>3</th>\n",
       "      <td>Mexico City</td>\n",
       "      <td>75.07</td>\n",
       "      <td>24.28</td>\n",
       "      <td>61.76</td>\n",
       "      <td>18.95</td>\n",
       "      <td>27.91</td>\n",
       "      <td>77.86</td>\n",
       "      <td>52</td>\n",
       "      <td>60.25</td>\n",
       "      <td>63.50</td>\n",
       "      <td>19.432608</td>\n",
       "      <td>-99.133208</td>\n",
       "      <td>This is a beautiful city with kind people and ...</td>\n",
       "    </tr>\n",
       "    <tr>\n",
       "      <th>4</th>\n",
       "      <td>Detroit</td>\n",
       "      <td>70.63</td>\n",
       "      <td>73.81</td>\n",
       "      <td>63.05</td>\n",
       "      <td>83.45</td>\n",
       "      <td>50.99</td>\n",
       "      <td>76.69</td>\n",
       "      <td>16</td>\n",
       "      <td>26.00</td>\n",
       "      <td>50.00</td>\n",
       "      <td>42.331427</td>\n",
       "      <td>-83.045754</td>\n",
       "      <td>This is a beautiful city with kind people and ...</td>\n",
       "    </tr>\n",
       "    <tr>\n",
       "      <th>...</th>\n",
       "      <td>...</td>\n",
       "      <td>...</td>\n",
       "      <td>...</td>\n",
       "      <td>...</td>\n",
       "      <td>...</td>\n",
       "      <td>...</td>\n",
       "      <td>...</td>\n",
       "      <td>...</td>\n",
       "      <td>...</td>\n",
       "      <td>...</td>\n",
       "      <td>...</td>\n",
       "      <td>...</td>\n",
       "      <td>...</td>\n",
       "    </tr>\n",
       "    <tr>\n",
       "      <th>199</th>\n",
       "      <td>Munich</td>\n",
       "      <td>86.00</td>\n",
       "      <td>63.28</td>\n",
       "      <td>88.43</td>\n",
       "      <td>43.08</td>\n",
       "      <td>90.08</td>\n",
       "      <td>15.34</td>\n",
       "      <td>30</td>\n",
       "      <td>97.00</td>\n",
       "      <td>46.40</td>\n",
       "      <td>48.135125</td>\n",
       "      <td>11.581980</td>\n",
       "      <td>This is a beautiful city with kind people and ...</td>\n",
       "    </tr>\n",
       "    <tr>\n",
       "      <th>200</th>\n",
       "      <td>Dusseldorf</td>\n",
       "      <td>83.45</td>\n",
       "      <td>72.52</td>\n",
       "      <td>75.98</td>\n",
       "      <td>8.61</td>\n",
       "      <td>88.02</td>\n",
       "      <td>15.34</td>\n",
       "      <td>24</td>\n",
       "      <td>48.75</td>\n",
       "      <td>50.40</td>\n",
       "      <td>51.227741</td>\n",
       "      <td>6.773456</td>\n",
       "      <td>This is a beautiful city with kind people and ...</td>\n",
       "    </tr>\n",
       "    <tr>\n",
       "      <th>201</th>\n",
       "      <td>Tokyo</td>\n",
       "      <td>80.00</td>\n",
       "      <td>47.57</td>\n",
       "      <td>71.53</td>\n",
       "      <td>30.54</td>\n",
       "      <td>69.29</td>\n",
       "      <td>13.91</td>\n",
       "      <td>42</td>\n",
       "      <td>98.50</td>\n",
       "      <td>59.70</td>\n",
       "      <td>35.676192</td>\n",
       "      <td>139.650311</td>\n",
       "      <td>This is a beautiful city with kind people and ...</td>\n",
       "    </tr>\n",
       "    <tr>\n",
       "      <th>202</th>\n",
       "      <td>Abu Dhabi</td>\n",
       "      <td>86.40</td>\n",
       "      <td>68.03</td>\n",
       "      <td>48.02</td>\n",
       "      <td>53.42</td>\n",
       "      <td>80.80</td>\n",
       "      <td>10.86</td>\n",
       "      <td>10</td>\n",
       "      <td>34.75</td>\n",
       "      <td>80.24</td>\n",
       "      <td>24.453884</td>\n",
       "      <td>54.377344</td>\n",
       "      <td>This is a beautiful city with kind people and ...</td>\n",
       "    </tr>\n",
       "    <tr>\n",
       "      <th>203</th>\n",
       "      <td>Malaga</td>\n",
       "      <td>84.30</td>\n",
       "      <td>45.77</td>\n",
       "      <td>69.17</td>\n",
       "      <td>30.55</td>\n",
       "      <td>67.90</td>\n",
       "      <td>9.11</td>\n",
       "      <td>20</td>\n",
       "      <td>54.50</td>\n",
       "      <td>65.12</td>\n",
       "      <td>36.721178</td>\n",
       "      <td>-4.421720</td>\n",
       "      <td>This is a beautiful city with kind people and ...</td>\n",
       "    </tr>\n",
       "  </tbody>\n",
       "</table>\n",
       "<p>204 rows × 13 columns</p>\n",
       "</div>"
      ],
      "text/plain": [
       "             City  Movehub Rating  Purchase Power  Health Care  Pollution  \\\n",
       "0         Caracas           65.18           11.25        44.44      83.45   \n",
       "1    Johannesburg           84.08           53.99        59.98      47.39   \n",
       "2       Fortaleza           80.17           52.28        45.46      66.32   \n",
       "3     Mexico City           75.07           24.28        61.76      18.95   \n",
       "4         Detroit           70.63           73.81        63.05      83.45   \n",
       "..            ...             ...             ...          ...        ...   \n",
       "199        Munich           86.00           63.28        88.43      43.08   \n",
       "200    Dusseldorf           83.45           72.52        75.98       8.61   \n",
       "201         Tokyo           80.00           47.57        71.53      30.54   \n",
       "202     Abu Dhabi           86.40           68.03        48.02      53.42   \n",
       "203        Malaga           84.30           45.77        69.17      30.55   \n",
       "\n",
       "     Quality of Life  Crime Rating  Congestion Level  Education  \\\n",
       "0               8.61         85.70                 9      10.00   \n",
       "1              51.26         83.93                30      41.50   \n",
       "2              36.68         78.65                37      10.00   \n",
       "3              27.91         77.86                52      60.25   \n",
       "4              50.99         76.69                16      26.00   \n",
       "..               ...           ...               ...        ...   \n",
       "199            90.08         15.34                30      97.00   \n",
       "200            88.02         15.34                24      48.75   \n",
       "201            69.29         13.91                42      98.50   \n",
       "202            80.80         10.86                10      34.75   \n",
       "203            67.90          9.11                20      54.50   \n",
       "\n",
       "     Annual Temperature        lat         lng  \\\n",
       "0                 71.60  10.480594  -66.903606   \n",
       "1                 59.90 -26.204103   28.047305   \n",
       "2                 79.90  -3.732714  -38.526998   \n",
       "3                 63.50  19.432608  -99.133208   \n",
       "4                 50.00  42.331427  -83.045754   \n",
       "..                  ...        ...         ...   \n",
       "199               46.40  48.135125   11.581980   \n",
       "200               50.40  51.227741    6.773456   \n",
       "201               59.70  35.676192  139.650311   \n",
       "202               80.24  24.453884   54.377344   \n",
       "203               65.12  36.721178   -4.421720   \n",
       "\n",
       "                                           Description  \n",
       "0    This is a beautiful city with kind people and ...  \n",
       "1    This is a beautiful city with kind people and ...  \n",
       "2    This is a beautiful city with kind people and ...  \n",
       "3    This is a beautiful city with kind people and ...  \n",
       "4    This is a beautiful city with kind people and ...  \n",
       "..                                                 ...  \n",
       "199  This is a beautiful city with kind people and ...  \n",
       "200  This is a beautiful city with kind people and ...  \n",
       "201  This is a beautiful city with kind people and ...  \n",
       "202  This is a beautiful city with kind people and ...  \n",
       "203  This is a beautiful city with kind people and ...  \n",
       "\n",
       "[204 rows x 13 columns]"
      ]
     },
     "execution_count": 154,
     "metadata": {},
     "output_type": "execute_result"
    }
   ],
   "source": [
    "df"
   ]
  },
  {
   "cell_type": "code",
   "execution_count": 155,
   "metadata": {},
   "outputs": [
    {
     "data": {
      "text/plain": [
       "True"
      ]
     },
     "execution_count": 155,
     "metadata": {},
     "output_type": "execute_result"
    }
   ],
   "source": [
    "\"Tokyo\" in df[\"City\"].tolist()"
   ]
  },
  {
   "cell_type": "code",
   "execution_count": 156,
   "metadata": {},
   "outputs": [],
   "source": [
    "col_1='Movehub Rating'\n",
    "col_2='Purchase Power'\n",
    "col_3='Health Care'\n",
    "col_4='Pollution'\n",
    "col_5='Quality of Life'\n",
    "col_6='Crime Rating'\n",
    "col_7='Congestion Level'\n",
    "col_8='Education'\n",
    "col_9='Annual Temperature'"
   ]
  },
  {
   "cell_type": "code",
   "execution_count": 157,
   "metadata": {},
   "outputs": [
    {
     "data": {
      "text/html": [
       "<div>\n",
       "<style scoped>\n",
       "    .dataframe tbody tr th:only-of-type {\n",
       "        vertical-align: middle;\n",
       "    }\n",
       "\n",
       "    .dataframe tbody tr th {\n",
       "        vertical-align: top;\n",
       "    }\n",
       "\n",
       "    .dataframe thead th {\n",
       "        text-align: right;\n",
       "    }\n",
       "</style>\n",
       "<table border=\"1\" class=\"dataframe\">\n",
       "  <thead>\n",
       "    <tr style=\"text-align: right;\">\n",
       "      <th></th>\n",
       "      <th>Movehub Rating</th>\n",
       "      <th>Purchase Power</th>\n",
       "      <th>Health Care</th>\n",
       "      <th>Pollution</th>\n",
       "      <th>Quality of Life</th>\n",
       "      <th>Crime Rating</th>\n",
       "      <th>Congestion Level</th>\n",
       "      <th>Education</th>\n",
       "      <th>Annual Temperature</th>\n",
       "    </tr>\n",
       "  </thead>\n",
       "  <tbody>\n",
       "    <tr>\n",
       "      <th>0</th>\n",
       "      <td>65.18</td>\n",
       "      <td>11.25</td>\n",
       "      <td>44.44</td>\n",
       "      <td>83.45</td>\n",
       "      <td>8.61</td>\n",
       "      <td>85.70</td>\n",
       "      <td>9</td>\n",
       "      <td>10.00</td>\n",
       "      <td>71.60</td>\n",
       "    </tr>\n",
       "    <tr>\n",
       "      <th>1</th>\n",
       "      <td>84.08</td>\n",
       "      <td>53.99</td>\n",
       "      <td>59.98</td>\n",
       "      <td>47.39</td>\n",
       "      <td>51.26</td>\n",
       "      <td>83.93</td>\n",
       "      <td>30</td>\n",
       "      <td>41.50</td>\n",
       "      <td>59.90</td>\n",
       "    </tr>\n",
       "    <tr>\n",
       "      <th>2</th>\n",
       "      <td>80.17</td>\n",
       "      <td>52.28</td>\n",
       "      <td>45.46</td>\n",
       "      <td>66.32</td>\n",
       "      <td>36.68</td>\n",
       "      <td>78.65</td>\n",
       "      <td>37</td>\n",
       "      <td>10.00</td>\n",
       "      <td>79.90</td>\n",
       "    </tr>\n",
       "    <tr>\n",
       "      <th>3</th>\n",
       "      <td>75.07</td>\n",
       "      <td>24.28</td>\n",
       "      <td>61.76</td>\n",
       "      <td>18.95</td>\n",
       "      <td>27.91</td>\n",
       "      <td>77.86</td>\n",
       "      <td>52</td>\n",
       "      <td>60.25</td>\n",
       "      <td>63.50</td>\n",
       "    </tr>\n",
       "    <tr>\n",
       "      <th>4</th>\n",
       "      <td>70.63</td>\n",
       "      <td>73.81</td>\n",
       "      <td>63.05</td>\n",
       "      <td>83.45</td>\n",
       "      <td>50.99</td>\n",
       "      <td>76.69</td>\n",
       "      <td>16</td>\n",
       "      <td>26.00</td>\n",
       "      <td>50.00</td>\n",
       "    </tr>\n",
       "    <tr>\n",
       "      <th>...</th>\n",
       "      <td>...</td>\n",
       "      <td>...</td>\n",
       "      <td>...</td>\n",
       "      <td>...</td>\n",
       "      <td>...</td>\n",
       "      <td>...</td>\n",
       "      <td>...</td>\n",
       "      <td>...</td>\n",
       "      <td>...</td>\n",
       "    </tr>\n",
       "    <tr>\n",
       "      <th>199</th>\n",
       "      <td>86.00</td>\n",
       "      <td>63.28</td>\n",
       "      <td>88.43</td>\n",
       "      <td>43.08</td>\n",
       "      <td>90.08</td>\n",
       "      <td>15.34</td>\n",
       "      <td>30</td>\n",
       "      <td>97.00</td>\n",
       "      <td>46.40</td>\n",
       "    </tr>\n",
       "    <tr>\n",
       "      <th>200</th>\n",
       "      <td>83.45</td>\n",
       "      <td>72.52</td>\n",
       "      <td>75.98</td>\n",
       "      <td>8.61</td>\n",
       "      <td>88.02</td>\n",
       "      <td>15.34</td>\n",
       "      <td>24</td>\n",
       "      <td>48.75</td>\n",
       "      <td>50.40</td>\n",
       "    </tr>\n",
       "    <tr>\n",
       "      <th>201</th>\n",
       "      <td>80.00</td>\n",
       "      <td>47.57</td>\n",
       "      <td>71.53</td>\n",
       "      <td>30.54</td>\n",
       "      <td>69.29</td>\n",
       "      <td>13.91</td>\n",
       "      <td>42</td>\n",
       "      <td>98.50</td>\n",
       "      <td>59.70</td>\n",
       "    </tr>\n",
       "    <tr>\n",
       "      <th>202</th>\n",
       "      <td>86.40</td>\n",
       "      <td>68.03</td>\n",
       "      <td>48.02</td>\n",
       "      <td>53.42</td>\n",
       "      <td>80.80</td>\n",
       "      <td>10.86</td>\n",
       "      <td>10</td>\n",
       "      <td>34.75</td>\n",
       "      <td>80.24</td>\n",
       "    </tr>\n",
       "    <tr>\n",
       "      <th>203</th>\n",
       "      <td>84.30</td>\n",
       "      <td>45.77</td>\n",
       "      <td>69.17</td>\n",
       "      <td>30.55</td>\n",
       "      <td>67.90</td>\n",
       "      <td>9.11</td>\n",
       "      <td>20</td>\n",
       "      <td>54.50</td>\n",
       "      <td>65.12</td>\n",
       "    </tr>\n",
       "  </tbody>\n",
       "</table>\n",
       "<p>204 rows × 9 columns</p>\n",
       "</div>"
      ],
      "text/plain": [
       "     Movehub Rating  Purchase Power  Health Care  Pollution  Quality of Life  \\\n",
       "0             65.18           11.25        44.44      83.45             8.61   \n",
       "1             84.08           53.99        59.98      47.39            51.26   \n",
       "2             80.17           52.28        45.46      66.32            36.68   \n",
       "3             75.07           24.28        61.76      18.95            27.91   \n",
       "4             70.63           73.81        63.05      83.45            50.99   \n",
       "..              ...             ...          ...        ...              ...   \n",
       "199           86.00           63.28        88.43      43.08            90.08   \n",
       "200           83.45           72.52        75.98       8.61            88.02   \n",
       "201           80.00           47.57        71.53      30.54            69.29   \n",
       "202           86.40           68.03        48.02      53.42            80.80   \n",
       "203           84.30           45.77        69.17      30.55            67.90   \n",
       "\n",
       "     Crime Rating  Congestion Level  Education  Annual Temperature  \n",
       "0           85.70                 9      10.00               71.60  \n",
       "1           83.93                30      41.50               59.90  \n",
       "2           78.65                37      10.00               79.90  \n",
       "3           77.86                52      60.25               63.50  \n",
       "4           76.69                16      26.00               50.00  \n",
       "..            ...               ...        ...                 ...  \n",
       "199         15.34                30      97.00               46.40  \n",
       "200         15.34                24      48.75               50.40  \n",
       "201         13.91                42      98.50               59.70  \n",
       "202         10.86                10      34.75               80.24  \n",
       "203          9.11                20      54.50               65.12  \n",
       "\n",
       "[204 rows x 9 columns]"
      ]
     },
     "execution_count": 157,
     "metadata": {},
     "output_type": "execute_result"
    }
   ],
   "source": [
    "val_df=df.loc[:, col_1:col_9]\n",
    "val_df"
   ]
  },
  {
   "cell_type": "code",
   "execution_count": 158,
   "metadata": {},
   "outputs": [],
   "source": [
    "######################################             End of Importing and Cleaning            ############################# "
   ]
  },
  {
   "cell_type": "code",
   "execution_count": 159,
   "metadata": {},
   "outputs": [],
   "source": [
    "#############################                         Clustering       ###################################################"
   ]
  },
  {
   "cell_type": "code",
   "execution_count": 160,
   "metadata": {},
   "outputs": [],
   "source": [
    "X_reduced = PCA(n_components=9).fit_transform(val_df)"
   ]
  },
  {
   "cell_type": "code",
   "execution_count": 161,
   "metadata": {},
   "outputs": [
    {
     "name": "stdout",
     "output_type": "stream",
     "text": [
      "Movehub Rating        79.772696\n",
      "Purchase Power        46.510980\n",
      "Health Care           66.321275\n",
      "Pollution             44.884020\n",
      "Quality of Life       60.021324\n",
      "Crime Rating          41.607892\n",
      "Congestion Level      27.357843\n",
      "Education             47.432598\n",
      "Annual Temperature    59.777549\n",
      "lat                   29.753758\n",
      "lng                    2.053508\n",
      "Cluster                3.872549\n",
      "dtype: float64\n"
     ]
    }
   ],
   "source": [
    "from sklearn.cluster import KMeans\n",
    "#startup = np.array([[60,30,50,30,50,33,22,40,47],[60,60,55,30,80,55,13,35,47],[90,60,55,60,80,33,44,60,70],\n",
    " #          [79,46,66,44,60,41,27,47,29],[90,56,70,56,34,55,33,34,50],[79,56,77,33,55,50,33,55,70],\n",
    " #         [60,46,66,33,52,30,44,55,59],[90,50,45,33,60,41,15,47,70]])\n",
    "model = KMeans(n_clusters=8, n_init=100)\n",
    "model.fit(X_reduced)\n",
    "clusters = unique(model.labels_)\n",
    "df[\"Cluster\"] = model.labels_\n",
    "print(df.mean(axis = 0))\n",
    "for i in range(len(user_input[0])):\n",
    "    if user_input[0][i] == -9999:\n",
    "        user_input[0][i] = df.mean(axis = 0)[i]\n",
    "prediction = model.predict(user_input)[0]"
   ]
  },
  {
   "cell_type": "code",
   "execution_count": 162,
   "metadata": {},
   "outputs": [
    {
     "data": {
      "image/png": "[encoded data removed]",
      "text/plain": [
       "<Figure size 432x288 with 1 Axes>"
      ]
     },
     "metadata": {
      "needs_background": "light"
     },
     "output_type": "display_data"
    }
   ],
   "source": [
    "for cluster in clusters:\n",
    "    row_ix = where(model.labels_ == cluster)\n",
    "    plt.scatter(X_reduced[row_ix, 0], X_reduced[row_ix, 1])\n",
    "    if cluster == prediction:\n",
    "        targetCluster = row_ix\n",
    "plt.show()"
   ]
  },
  {
   "cell_type": "code",
   "execution_count": 163,
   "metadata": {},
   "outputs": [
    {
     "name": "stdout",
     "output_type": "stream",
     "text": [
      "(array([  0,   2,   5,   6,  14,  15,  16,  19,  30,  33,  40,  41,  44,\n",
      "        46,  54,  62,  66,  68,  77,  88, 100, 114, 118, 119, 125, 131,\n",
      "       165], dtype=int64),)\n"
     ]
    }
   ],
   "source": [
    "print(targetCluster)"
   ]
  },
  {
   "cell_type": "code",
   "execution_count": 164,
   "metadata": {},
   "outputs": [],
   "source": [
    "######################################             End of Clustering            ############################# "
   ]
  },
  {
   "cell_type": "code",
   "execution_count": null,
   "metadata": {},
   "outputs": [],
   "source": []
  },
  {
   "cell_type": "code",
   "execution_count": 165,
   "metadata": {},
   "outputs": [],
   "source": [
    "######################################             Plot Making            ############################# "
   ]
  },
  {
   "cell_type": "code",
   "execution_count": 166,
   "metadata": {},
   "outputs": [],
   "source": [
    "def generate_score(val_df,importance,ideal_temp):\n",
    "    score=[]\n",
    "    for i in range(val_df.shape[0]):\n",
    "        score_num=0\n",
    "        score_num=score_num+sum([x*y for x,y in zip(val_df.loc[:,col_1:col_8].values.tolist()[i],importance)])\n",
    "        score_num=score_num+math.fabs(val_df.loc[:,col_9].values.tolist()[i]-ideal_temp)\n",
    "        score.append(score_num)\n",
    "    max_value=max(score)\n",
    "    for i in range(len(score)):\n",
    "        score[i]=score[i]/max_value*100\n",
    "    return score\n"
   ]
  },
  {
   "cell_type": "code",
   "execution_count": null,
   "metadata": {},
   "outputs": [],
   "source": []
  },
  {
   "cell_type": "code",
   "execution_count": 167,
   "metadata": {},
   "outputs": [],
   "source": [
    "importance=user_input[0]\n",
    "for i in range(len(importance)):\n",
    "    if importance[i]==-9999:\n",
    "        importance[i]=0\n",
    "ideal_temp=68\n",
    "generate_score(val_df,importance,ideal_temp)\n",
    "df['Score']=generate_score(val_df,importance,ideal_temp)"
   ]
  },
  {
   "cell_type": "code",
   "execution_count": 168,
   "metadata": {},
   "outputs": [],
   "source": [
    "#Parse df for ploting\n",
    "df_to_plot=df.iloc[[targetCluster[0][0]]]\n",
    "\n",
    "for i in range(1,len(targetCluster[0])):\n",
    "    df_to_plot=df_to_plot.append(df.iloc[[targetCluster[0][i]]])\n"
   ]
  },
  {
   "cell_type": "code",
   "execution_count": 169,
   "metadata": {},
   "outputs": [],
   "source": [
    "df_to_plot['Score']=generate_score(df_to_plot,importance,ideal_temp)"
   ]
  },
  {
   "cell_type": "code",
   "execution_count": 170,
   "metadata": {},
   "outputs": [
    {
     "data": {
      "text/html": [
       "<div>\n",
       "<style scoped>\n",
       "    .dataframe tbody tr th:only-of-type {\n",
       "        vertical-align: middle;\n",
       "    }\n",
       "\n",
       "    .dataframe tbody tr th {\n",
       "        vertical-align: top;\n",
       "    }\n",
       "\n",
       "    .dataframe thead th {\n",
       "        text-align: right;\n",
       "    }\n",
       "</style>\n",
       "<table border=\"1\" class=\"dataframe\">\n",
       "  <thead>\n",
       "    <tr style=\"text-align: right;\">\n",
       "      <th></th>\n",
       "      <th>City</th>\n",
       "      <th>Movehub Rating</th>\n",
       "      <th>Purchase Power</th>\n",
       "      <th>Health Care</th>\n",
       "      <th>Pollution</th>\n",
       "      <th>Quality of Life</th>\n",
       "      <th>Crime Rating</th>\n",
       "      <th>Congestion Level</th>\n",
       "      <th>Education</th>\n",
       "      <th>Annual Temperature</th>\n",
       "      <th>lat</th>\n",
       "      <th>lng</th>\n",
       "      <th>Description</th>\n",
       "      <th>Cluster</th>\n",
       "      <th>Score</th>\n",
       "    </tr>\n",
       "  </thead>\n",
       "  <tbody>\n",
       "    <tr>\n",
       "      <th>0</th>\n",
       "      <td>Caracas</td>\n",
       "      <td>65.18</td>\n",
       "      <td>11.25</td>\n",
       "      <td>44.44</td>\n",
       "      <td>83.45</td>\n",
       "      <td>8.61</td>\n",
       "      <td>85.70</td>\n",
       "      <td>9</td>\n",
       "      <td>10.00</td>\n",
       "      <td>71.6</td>\n",
       "      <td>10.480594</td>\n",
       "      <td>-66.903606</td>\n",
       "      <td>This is a beautiful city with kind people and ...</td>\n",
       "      <td>2</td>\n",
       "      <td>70.881110</td>\n",
       "    </tr>\n",
       "    <tr>\n",
       "      <th>2</th>\n",
       "      <td>Fortaleza</td>\n",
       "      <td>80.17</td>\n",
       "      <td>52.28</td>\n",
       "      <td>45.46</td>\n",
       "      <td>66.32</td>\n",
       "      <td>36.68</td>\n",
       "      <td>78.65</td>\n",
       "      <td>37</td>\n",
       "      <td>10.00</td>\n",
       "      <td>79.9</td>\n",
       "      <td>-3.732714</td>\n",
       "      <td>-38.526998</td>\n",
       "      <td>This is a beautiful city with kind people and ...</td>\n",
       "      <td>2</td>\n",
       "      <td>96.098492</td>\n",
       "    </tr>\n",
       "    <tr>\n",
       "      <th>5</th>\n",
       "      <td>Porto Alegre</td>\n",
       "      <td>70.46</td>\n",
       "      <td>19.07</td>\n",
       "      <td>51.01</td>\n",
       "      <td>86.16</td>\n",
       "      <td>31.87</td>\n",
       "      <td>76.46</td>\n",
       "      <td>35</td>\n",
       "      <td>10.00</td>\n",
       "      <td>67.1</td>\n",
       "      <td>-30.034647</td>\n",
       "      <td>-51.217658</td>\n",
       "      <td>This is a beautiful city with kind people and ...</td>\n",
       "      <td>2</td>\n",
       "      <td>89.438378</td>\n",
       "    </tr>\n",
       "    <tr>\n",
       "      <th>6</th>\n",
       "      <td>Karachi</td>\n",
       "      <td>67.81</td>\n",
       "      <td>14.63</td>\n",
       "      <td>51.57</td>\n",
       "      <td>69.63</td>\n",
       "      <td>18.50</td>\n",
       "      <td>74.36</td>\n",
       "      <td>9</td>\n",
       "      <td>26.00</td>\n",
       "      <td>78.8</td>\n",
       "      <td>24.860734</td>\n",
       "      <td>67.001136</td>\n",
       "      <td>This is a beautiful city with kind people and ...</td>\n",
       "      <td>2</td>\n",
       "      <td>73.945246</td>\n",
       "    </tr>\n",
       "    <tr>\n",
       "      <th>14</th>\n",
       "      <td>Rio De Janeiro</td>\n",
       "      <td>73.44</td>\n",
       "      <td>22.13</td>\n",
       "      <td>61.67</td>\n",
       "      <td>84.51</td>\n",
       "      <td>21.32</td>\n",
       "      <td>67.93</td>\n",
       "      <td>46</td>\n",
       "      <td>23.50</td>\n",
       "      <td>74.8</td>\n",
       "      <td>-22.906847</td>\n",
       "      <td>-43.172897</td>\n",
       "      <td>This is a beautiful city with kind people and ...</td>\n",
       "      <td>2</td>\n",
       "      <td>91.501218</td>\n",
       "    </tr>\n",
       "    <tr>\n",
       "      <th>15</th>\n",
       "      <td>Manila</td>\n",
       "      <td>68.31</td>\n",
       "      <td>14.80</td>\n",
       "      <td>80.56</td>\n",
       "      <td>65.22</td>\n",
       "      <td>13.14</td>\n",
       "      <td>66.36</td>\n",
       "      <td>71</td>\n",
       "      <td>36.25</td>\n",
       "      <td>83.1</td>\n",
       "      <td>14.599512</td>\n",
       "      <td>120.984220</td>\n",
       "      <td>This is a beautiful city with kind people and ...</td>\n",
       "      <td>2</td>\n",
       "      <td>100.000000</td>\n",
       "    </tr>\n",
       "    <tr>\n",
       "      <th>16</th>\n",
       "      <td>Sao Paulo</td>\n",
       "      <td>75.40</td>\n",
       "      <td>24.24</td>\n",
       "      <td>63.79</td>\n",
       "      <td>72.04</td>\n",
       "      <td>30.57</td>\n",
       "      <td>66.31</td>\n",
       "      <td>45</td>\n",
       "      <td>26.00</td>\n",
       "      <td>66.6</td>\n",
       "      <td>-23.550520</td>\n",
       "      <td>-46.633309</td>\n",
       "      <td>This is a beautiful city with kind people and ...</td>\n",
       "      <td>2</td>\n",
       "      <td>94.494273</td>\n",
       "    </tr>\n",
       "    <tr>\n",
       "      <th>19</th>\n",
       "      <td>Lima</td>\n",
       "      <td>73.19</td>\n",
       "      <td>23.22</td>\n",
       "      <td>53.70</td>\n",
       "      <td>58.49</td>\n",
       "      <td>22.67</td>\n",
       "      <td>65.31</td>\n",
       "      <td>57</td>\n",
       "      <td>26.50</td>\n",
       "      <td>66.6</td>\n",
       "      <td>-12.046373</td>\n",
       "      <td>-77.042754</td>\n",
       "      <td>This is a beautiful city with kind people and ...</td>\n",
       "      <td>2</td>\n",
       "      <td>95.353937</td>\n",
       "    </tr>\n",
       "    <tr>\n",
       "      <th>30</th>\n",
       "      <td>Dhaka</td>\n",
       "      <td>71.58</td>\n",
       "      <td>21.32</td>\n",
       "      <td>20.83</td>\n",
       "      <td>62.14</td>\n",
       "      <td>13.48</td>\n",
       "      <td>59.06</td>\n",
       "      <td>16</td>\n",
       "      <td>16.25</td>\n",
       "      <td>78.6</td>\n",
       "      <td>23.810332</td>\n",
       "      <td>90.412518</td>\n",
       "      <td>This is a beautiful city with kind people and ...</td>\n",
       "      <td>2</td>\n",
       "      <td>67.469241</td>\n",
       "    </tr>\n",
       "    <tr>\n",
       "      <th>33</th>\n",
       "      <td>Saint Petersburg</td>\n",
       "      <td>73.10</td>\n",
       "      <td>24.82</td>\n",
       "      <td>46.34</td>\n",
       "      <td>77.98</td>\n",
       "      <td>25.97</td>\n",
       "      <td>56.96</td>\n",
       "      <td>49</td>\n",
       "      <td>39.25</td>\n",
       "      <td>42.4</td>\n",
       "      <td>59.931058</td>\n",
       "      <td>30.360910</td>\n",
       "      <td>This is a beautiful city with kind people and ...</td>\n",
       "      <td>2</td>\n",
       "      <td>92.937197</td>\n",
       "    </tr>\n",
       "    <tr>\n",
       "      <th>40</th>\n",
       "      <td>Kiev</td>\n",
       "      <td>69.98</td>\n",
       "      <td>18.88</td>\n",
       "      <td>36.48</td>\n",
       "      <td>67.36</td>\n",
       "      <td>24.05</td>\n",
       "      <td>54.19</td>\n",
       "      <td>26</td>\n",
       "      <td>11.50</td>\n",
       "      <td>47.1</td>\n",
       "      <td>50.450100</td>\n",
       "      <td>30.523400</td>\n",
       "      <td>This is a beautiful city with kind people and ...</td>\n",
       "      <td>2</td>\n",
       "      <td>72.766060</td>\n",
       "    </tr>\n",
       "    <tr>\n",
       "      <th>41</th>\n",
       "      <td>Tehran</td>\n",
       "      <td>72.13</td>\n",
       "      <td>18.09</td>\n",
       "      <td>43.98</td>\n",
       "      <td>87.62</td>\n",
       "      <td>14.33</td>\n",
       "      <td>54.16</td>\n",
       "      <td>19</td>\n",
       "      <td>35.50</td>\n",
       "      <td>63.0</td>\n",
       "      <td>35.689197</td>\n",
       "      <td>51.388974</td>\n",
       "      <td>This is a beautiful city with kind people and ...</td>\n",
       "      <td>2</td>\n",
       "      <td>72.932124</td>\n",
       "    </tr>\n",
       "    <tr>\n",
       "      <th>44</th>\n",
       "      <td>Kharkiv</td>\n",
       "      <td>68.99</td>\n",
       "      <td>17.11</td>\n",
       "      <td>35.06</td>\n",
       "      <td>67.05</td>\n",
       "      <td>30.76</td>\n",
       "      <td>53.75</td>\n",
       "      <td>43</td>\n",
       "      <td>36.50</td>\n",
       "      <td>45.3</td>\n",
       "      <td>49.993500</td>\n",
       "      <td>36.230383</td>\n",
       "      <td>This is a beautiful city with kind people and ...</td>\n",
       "      <td>2</td>\n",
       "      <td>87.763090</td>\n",
       "    </tr>\n",
       "    <tr>\n",
       "      <th>46</th>\n",
       "      <td>Delhi</td>\n",
       "      <td>77.12</td>\n",
       "      <td>34.39</td>\n",
       "      <td>74.99</td>\n",
       "      <td>73.03</td>\n",
       "      <td>42.45</td>\n",
       "      <td>52.56</td>\n",
       "      <td>56</td>\n",
       "      <td>15.25</td>\n",
       "      <td>77.2</td>\n",
       "      <td>28.704059</td>\n",
       "      <td>77.102490</td>\n",
       "      <td>This is a beautiful city with kind people and ...</td>\n",
       "      <td>2</td>\n",
       "      <td>96.912004</td>\n",
       "    </tr>\n",
       "    <tr>\n",
       "      <th>54</th>\n",
       "      <td>Belo Horizonte</td>\n",
       "      <td>71.79</td>\n",
       "      <td>21.77</td>\n",
       "      <td>57.26</td>\n",
       "      <td>59.73</td>\n",
       "      <td>36.26</td>\n",
       "      <td>50.99</td>\n",
       "      <td>35</td>\n",
       "      <td>36.50</td>\n",
       "      <td>70.0</td>\n",
       "      <td>-19.916681</td>\n",
       "      <td>-43.934493</td>\n",
       "      <td>This is a beautiful city with kind people and ...</td>\n",
       "      <td>2</td>\n",
       "      <td>86.147217</td>\n",
       "    </tr>\n",
       "    <tr>\n",
       "      <th>62</th>\n",
       "      <td>Cairo</td>\n",
       "      <td>67.93</td>\n",
       "      <td>11.90</td>\n",
       "      <td>56.48</td>\n",
       "      <td>86.16</td>\n",
       "      <td>17.25</td>\n",
       "      <td>48.81</td>\n",
       "      <td>40</td>\n",
       "      <td>19.75</td>\n",
       "      <td>70.5</td>\n",
       "      <td>30.044420</td>\n",
       "      <td>31.235712</td>\n",
       "      <td>This is a beautiful city with kind people and ...</td>\n",
       "      <td>2</td>\n",
       "      <td>76.589874</td>\n",
       "    </tr>\n",
       "    <tr>\n",
       "      <th>66</th>\n",
       "      <td>Jakarta</td>\n",
       "      <td>69.15</td>\n",
       "      <td>17.38</td>\n",
       "      <td>38.33</td>\n",
       "      <td>57.91</td>\n",
       "      <td>15.66</td>\n",
       "      <td>48.27</td>\n",
       "      <td>53</td>\n",
       "      <td>18.25</td>\n",
       "      <td>80.1</td>\n",
       "      <td>-6.208763</td>\n",
       "      <td>106.845599</td>\n",
       "      <td>This is a beautiful city with kind people and ...</td>\n",
       "      <td>2</td>\n",
       "      <td>80.512953</td>\n",
       "    </tr>\n",
       "    <tr>\n",
       "      <th>68</th>\n",
       "      <td>Tirana</td>\n",
       "      <td>69.78</td>\n",
       "      <td>17.80</td>\n",
       "      <td>44.44</td>\n",
       "      <td>80.84</td>\n",
       "      <td>36.81</td>\n",
       "      <td>47.99</td>\n",
       "      <td>9</td>\n",
       "      <td>9.00</td>\n",
       "      <td>59.4</td>\n",
       "      <td>41.327546</td>\n",
       "      <td>19.818698</td>\n",
       "      <td>This is a beautiful city with kind people and ...</td>\n",
       "      <td>2</td>\n",
       "      <td>67.017780</td>\n",
       "    </tr>\n",
       "    <tr>\n",
       "      <th>77</th>\n",
       "      <td>Ulaanbaatar</td>\n",
       "      <td>68.29</td>\n",
       "      <td>15.35</td>\n",
       "      <td>43.06</td>\n",
       "      <td>55.87</td>\n",
       "      <td>24.50</td>\n",
       "      <td>46.87</td>\n",
       "      <td>10</td>\n",
       "      <td>15.00</td>\n",
       "      <td>31.3</td>\n",
       "      <td>47.886399</td>\n",
       "      <td>106.905744</td>\n",
       "      <td>This is a beautiful city with kind people and ...</td>\n",
       "      <td>2</td>\n",
       "      <td>62.584743</td>\n",
       "    </tr>\n",
       "    <tr>\n",
       "      <th>88</th>\n",
       "      <td>Kolkata</td>\n",
       "      <td>75.35</td>\n",
       "      <td>28.80</td>\n",
       "      <td>31.29</td>\n",
       "      <td>72.59</td>\n",
       "      <td>25.64</td>\n",
       "      <td>43.33</td>\n",
       "      <td>19</td>\n",
       "      <td>18.75</td>\n",
       "      <td>80.1</td>\n",
       "      <td>22.572646</td>\n",
       "      <td>88.363895</td>\n",
       "      <td>This is a beautiful city with kind people and ...</td>\n",
       "      <td>2</td>\n",
       "      <td>69.392321</td>\n",
       "    </tr>\n",
       "    <tr>\n",
       "      <th>100</th>\n",
       "      <td>Pune</td>\n",
       "      <td>79.20</td>\n",
       "      <td>37.96</td>\n",
       "      <td>66.62</td>\n",
       "      <td>79.24</td>\n",
       "      <td>43.84</td>\n",
       "      <td>41.37</td>\n",
       "      <td>59</td>\n",
       "      <td>12.75</td>\n",
       "      <td>77.0</td>\n",
       "      <td>18.520430</td>\n",
       "      <td>73.856744</td>\n",
       "      <td>This is a beautiful city with kind people and ...</td>\n",
       "      <td>2</td>\n",
       "      <td>94.511850</td>\n",
       "    </tr>\n",
       "    <tr>\n",
       "      <th>114</th>\n",
       "      <td>Belgrade</td>\n",
       "      <td>71.65</td>\n",
       "      <td>21.46</td>\n",
       "      <td>52.53</td>\n",
       "      <td>77.08</td>\n",
       "      <td>35.69</td>\n",
       "      <td>37.97</td>\n",
       "      <td>9</td>\n",
       "      <td>9.00</td>\n",
       "      <td>54.5</td>\n",
       "      <td>44.786568</td>\n",
       "      <td>20.448922</td>\n",
       "      <td>This is a beautiful city with kind people and ...</td>\n",
       "      <td>2</td>\n",
       "      <td>63.344822</td>\n",
       "    </tr>\n",
       "    <tr>\n",
       "      <th>118</th>\n",
       "      <td>Baku</td>\n",
       "      <td>66.42</td>\n",
       "      <td>11.38</td>\n",
       "      <td>28.70</td>\n",
       "      <td>49.47</td>\n",
       "      <td>17.20</td>\n",
       "      <td>36.69</td>\n",
       "      <td>16</td>\n",
       "      <td>9.00</td>\n",
       "      <td>59.2</td>\n",
       "      <td>40.409262</td>\n",
       "      <td>49.867092</td>\n",
       "      <td>This is a beautiful city with kind people and ...</td>\n",
       "      <td>2</td>\n",
       "      <td>55.883862</td>\n",
       "    </tr>\n",
       "    <tr>\n",
       "      <th>119</th>\n",
       "      <td>Varna</td>\n",
       "      <td>71.11</td>\n",
       "      <td>20.34</td>\n",
       "      <td>50.23</td>\n",
       "      <td>80.84</td>\n",
       "      <td>36.03</td>\n",
       "      <td>36.46</td>\n",
       "      <td>26</td>\n",
       "      <td>9.00</td>\n",
       "      <td>54.1</td>\n",
       "      <td>43.214050</td>\n",
       "      <td>27.914733</td>\n",
       "      <td>This is a beautiful city with kind people and ...</td>\n",
       "      <td>2</td>\n",
       "      <td>70.481826</td>\n",
       "    </tr>\n",
       "    <tr>\n",
       "      <th>125</th>\n",
       "      <td>Mumbai</td>\n",
       "      <td>77.13</td>\n",
       "      <td>28.83</td>\n",
       "      <td>58.41</td>\n",
       "      <td>70.49</td>\n",
       "      <td>26.43</td>\n",
       "      <td>34.63</td>\n",
       "      <td>65</td>\n",
       "      <td>36.25</td>\n",
       "      <td>80.8</td>\n",
       "      <td>19.075984</td>\n",
       "      <td>72.877656</td>\n",
       "      <td>This is a beautiful city with kind people and ...</td>\n",
       "      <td>2</td>\n",
       "      <td>92.099347</td>\n",
       "    </tr>\n",
       "    <tr>\n",
       "      <th>131</th>\n",
       "      <td>Bucharest</td>\n",
       "      <td>72.28</td>\n",
       "      <td>22.85</td>\n",
       "      <td>52.05</td>\n",
       "      <td>74.57</td>\n",
       "      <td>29.45</td>\n",
       "      <td>33.41</td>\n",
       "      <td>52</td>\n",
       "      <td>15.00</td>\n",
       "      <td>51.4</td>\n",
       "      <td>44.430449</td>\n",
       "      <td>26.097934</td>\n",
       "      <td>This is a beautiful city with kind people and ...</td>\n",
       "      <td>2</td>\n",
       "      <td>80.347241</td>\n",
       "    </tr>\n",
       "    <tr>\n",
       "      <th>165</th>\n",
       "      <td>Minsk</td>\n",
       "      <td>68.41</td>\n",
       "      <td>16.14</td>\n",
       "      <td>50.00</td>\n",
       "      <td>66.89</td>\n",
       "      <td>51.66</td>\n",
       "      <td>26.82</td>\n",
       "      <td>32</td>\n",
       "      <td>10.00</td>\n",
       "      <td>44.1</td>\n",
       "      <td>53.900601</td>\n",
       "      <td>27.558972</td>\n",
       "      <td>This is a beautiful city with kind people and ...</td>\n",
       "      <td>2</td>\n",
       "      <td>73.587307</td>\n",
       "    </tr>\n",
       "  </tbody>\n",
       "</table>\n",
       "</div>"
      ],
      "text/plain": [
       "                 City  Movehub Rating  Purchase Power  Health Care  Pollution  \\\n",
       "0             Caracas           65.18           11.25        44.44      83.45   \n",
       "2           Fortaleza           80.17           52.28        45.46      66.32   \n",
       "5        Porto Alegre           70.46           19.07        51.01      86.16   \n",
       "6             Karachi           67.81           14.63        51.57      69.63   \n",
       "14     Rio De Janeiro           73.44           22.13        61.67      84.51   \n",
       "15             Manila           68.31           14.80        80.56      65.22   \n",
       "16          Sao Paulo           75.40           24.24        63.79      72.04   \n",
       "19               Lima           73.19           23.22        53.70      58.49   \n",
       "30              Dhaka           71.58           21.32        20.83      62.14   \n",
       "33   Saint Petersburg           73.10           24.82        46.34      77.98   \n",
       "40               Kiev           69.98           18.88        36.48      67.36   \n",
       "41             Tehran           72.13           18.09        43.98      87.62   \n",
       "44            Kharkiv           68.99           17.11        35.06      67.05   \n",
       "46              Delhi           77.12           34.39        74.99      73.03   \n",
       "54     Belo Horizonte           71.79           21.77        57.26      59.73   \n",
       "62              Cairo           67.93           11.90        56.48      86.16   \n",
       "66            Jakarta           69.15           17.38        38.33      57.91   \n",
       "68             Tirana           69.78           17.80        44.44      80.84   \n",
       "77        Ulaanbaatar           68.29           15.35        43.06      55.87   \n",
       "88            Kolkata           75.35           28.80        31.29      72.59   \n",
       "100              Pune           79.20           37.96        66.62      79.24   \n",
       "114          Belgrade           71.65           21.46        52.53      77.08   \n",
       "118              Baku           66.42           11.38        28.70      49.47   \n",
       "119             Varna           71.11           20.34        50.23      80.84   \n",
       "125            Mumbai           77.13           28.83        58.41      70.49   \n",
       "131         Bucharest           72.28           22.85        52.05      74.57   \n",
       "165             Minsk           68.41           16.14        50.00      66.89   \n",
       "\n",
       "     Quality of Life  Crime Rating  Congestion Level  Education  \\\n",
       "0               8.61         85.70                 9      10.00   \n",
       "2              36.68         78.65                37      10.00   \n",
       "5              31.87         76.46                35      10.00   \n",
       "6              18.50         74.36                 9      26.00   \n",
       "14             21.32         67.93                46      23.50   \n",
       "15             13.14         66.36                71      36.25   \n",
       "16             30.57         66.31                45      26.00   \n",
       "19             22.67         65.31                57      26.50   \n",
       "30             13.48         59.06                16      16.25   \n",
       "33             25.97         56.96                49      39.25   \n",
       "40             24.05         54.19                26      11.50   \n",
       "41             14.33         54.16                19      35.50   \n",
       "44             30.76         53.75                43      36.50   \n",
       "46             42.45         52.56                56      15.25   \n",
       "54             36.26         50.99                35      36.50   \n",
       "62             17.25         48.81                40      19.75   \n",
       "66             15.66         48.27                53      18.25   \n",
       "68             36.81         47.99                 9       9.00   \n",
       "77             24.50         46.87                10      15.00   \n",
       "88             25.64         43.33                19      18.75   \n",
       "100            43.84         41.37                59      12.75   \n",
       "114            35.69         37.97                 9       9.00   \n",
       "118            17.20         36.69                16       9.00   \n",
       "119            36.03         36.46                26       9.00   \n",
       "125            26.43         34.63                65      36.25   \n",
       "131            29.45         33.41                52      15.00   \n",
       "165            51.66         26.82                32      10.00   \n",
       "\n",
       "     Annual Temperature        lat         lng  \\\n",
       "0                  71.6  10.480594  -66.903606   \n",
       "2                  79.9  -3.732714  -38.526998   \n",
       "5                  67.1 -30.034647  -51.217658   \n",
       "6                  78.8  24.860734   67.001136   \n",
       "14                 74.8 -22.906847  -43.172897   \n",
       "15                 83.1  14.599512  120.984220   \n",
       "16                 66.6 -23.550520  -46.633309   \n",
       "19                 66.6 -12.046373  -77.042754   \n",
       "30                 78.6  23.810332   90.412518   \n",
       "33                 42.4  59.931058   30.360910   \n",
       "40                 47.1  50.450100   30.523400   \n",
       "41                 63.0  35.689197   51.388974   \n",
       "44                 45.3  49.993500   36.230383   \n",
       "46                 77.2  28.704059   77.102490   \n",
       "54                 70.0 -19.916681  -43.934493   \n",
       "62                 70.5  30.044420   31.235712   \n",
       "66                 80.1  -6.208763  106.845599   \n",
       "68                 59.4  41.327546   19.818698   \n",
       "77                 31.3  47.886399  106.905744   \n",
       "88                 80.1  22.572646   88.363895   \n",
       "100                77.0  18.520430   73.856744   \n",
       "114                54.5  44.786568   20.448922   \n",
       "118                59.2  40.409262   49.867092   \n",
       "119                54.1  43.214050   27.914733   \n",
       "125                80.8  19.075984   72.877656   \n",
       "131                51.4  44.430449   26.097934   \n",
       "165                44.1  53.900601   27.558972   \n",
       "\n",
       "                                           Description  Cluster       Score  \n",
       "0    This is a beautiful city with kind people and ...        2   70.881110  \n",
       "2    This is a beautiful city with kind people and ...        2   96.098492  \n",
       "5    This is a beautiful city with kind people and ...        2   89.438378  \n",
       "6    This is a beautiful city with kind people and ...        2   73.945246  \n",
       "14   This is a beautiful city with kind people and ...        2   91.501218  \n",
       "15   This is a beautiful city with kind people and ...        2  100.000000  \n",
       "16   This is a beautiful city with kind people and ...        2   94.494273  \n",
       "19   This is a beautiful city with kind people and ...        2   95.353937  \n",
       "30   This is a beautiful city with kind people and ...        2   67.469241  \n",
       "33   This is a beautiful city with kind people and ...        2   92.937197  \n",
       "40   This is a beautiful city with kind people and ...        2   72.766060  \n",
       "41   This is a beautiful city with kind people and ...        2   72.932124  \n",
       "44   This is a beautiful city with kind people and ...        2   87.763090  \n",
       "46   This is a beautiful city with kind people and ...        2   96.912004  \n",
       "54   This is a beautiful city with kind people and ...        2   86.147217  \n",
       "62   This is a beautiful city with kind people and ...        2   76.589874  \n",
       "66   This is a beautiful city with kind people and ...        2   80.512953  \n",
       "68   This is a beautiful city with kind people and ...        2   67.017780  \n",
       "77   This is a beautiful city with kind people and ...        2   62.584743  \n",
       "88   This is a beautiful city with kind people and ...        2   69.392321  \n",
       "100  This is a beautiful city with kind people and ...        2   94.511850  \n",
       "114  This is a beautiful city with kind people and ...        2   63.344822  \n",
       "118  This is a beautiful city with kind people and ...        2   55.883862  \n",
       "119  This is a beautiful city with kind people and ...        2   70.481826  \n",
       "125  This is a beautiful city with kind people and ...        2   92.099347  \n",
       "131  This is a beautiful city with kind people and ...        2   80.347241  \n",
       "165  This is a beautiful city with kind people and ...        2   73.587307  "
      ]
     },
     "execution_count": 170,
     "metadata": {},
     "output_type": "execute_result"
    }
   ],
   "source": [
    "df_to_plot"
   ]
  },
  {
   "cell_type": "code",
   "execution_count": 174,
   "metadata": {},
   "outputs": [],
   "source": [
    "features = ['Movehub Rating', 'Purchase Power', 'Health Care', 'Quality of Life', 'Pollution', 'Crime Rating','Congestion Level','Education','Annual Temperature','Description']"
   ]
  },
  {
   "cell_type": "code",
   "execution_count": 177,
   "metadata": {},
   "outputs": [],
   "source": [
    "def create_graph(df):\n",
    "    fig = px.scatter_mapbox(df.sort_values('Score', ascending=False).round(),\n",
    "                        lat=\"lat\", lon=\"lng\", color=\"Score\", hover_name=\"City\",\n",
    "                        hover_data=features,\n",
    "                        size_max=15, zoom=1,\n",
    "                        mapbox_style=\"carto-positron\")\n",
    "    fig.show()"
   ]
  },
  {
   "cell_type": "code",
   "execution_count": 178,
   "metadata": {},
   "outputs": [
    {
     "data": {
      "application/vnd.plotly.v1+json": {
       "config": {
        "plotlyServerURL": "https://plot.ly"
       },
       "data": [
        {
         "customdata": [
          [
           68,
           15,
           81,
           13,
           65,
           66,
           71,
           36,
           83,
           "This is a beautiful city with kind people and pleasant weather."
          ],
          [
           77,
           34,
           75,
           42,
           73,
           53,
           56,
           15,
           77,
           "This is a beautiful city with kind people and pleasant weather."
          ],
          [
           80,
           52,
           45,
           37,
           66,
           79,
           37,
           10,
           80,
           "This is a beautiful city with kind people and pleasant weather."
          ],
          [
           73,
           23,
           54,
           23,
           58,
           65,
           57,
           26,
           67,
           "This is a beautiful city with kind people and pleasant weather."
          ],
          [
           79,
           38,
           67,
           44,
           79,
           41,
           59,
           13,
           77,
           "This is a beautiful city with kind people and pleasant weather."
          ],
          [
           75,
           24,
           64,
           31,
           72,
           66,
           45,
           26,
           67,
           "This is a beautiful city with kind people and pleasant weather."
          ],
          [
           73,
           25,
           46,
           26,
           78,
           57,
           49,
           39,
           42,
           "This is a beautiful city with kind people and pleasant weather."
          ],
          [
           77,
           29,
           58,
           26,
           70,
           35,
           65,
           36,
           81,
           "This is a beautiful city with kind people and pleasant weather."
          ],
          [
           73,
           22,
           62,
           21,
           85,
           68,
           46,
           24,
           75,
           "This is a beautiful city with kind people and pleasant weather."
          ],
          [
           70,
           19,
           51,
           32,
           86,
           76,
           35,
           10,
           67,
           "This is a beautiful city with kind people and pleasant weather."
          ],
          [
           69,
           17,
           35,
           31,
           67,
           54,
           43,
           36,
           45,
           "This is a beautiful city with kind people and pleasant weather."
          ],
          [
           72,
           22,
           57,
           36,
           60,
           51,
           35,
           36,
           70,
           "This is a beautiful city with kind people and pleasant weather."
          ],
          [
           69,
           17,
           38,
           16,
           58,
           48,
           53,
           18,
           80,
           "This is a beautiful city with kind people and pleasant weather."
          ],
          [
           72,
           23,
           52,
           29,
           75,
           33,
           52,
           15,
           51,
           "This is a beautiful city with kind people and pleasant weather."
          ],
          [
           68,
           12,
           56,
           17,
           86,
           49,
           40,
           20,
           70,
           "This is a beautiful city with kind people and pleasant weather."
          ],
          [
           68,
           15,
           52,
           18,
           70,
           74,
           9,
           26,
           79,
           "This is a beautiful city with kind people and pleasant weather."
          ],
          [
           68,
           16,
           50,
           52,
           67,
           27,
           32,
           10,
           44,
           "This is a beautiful city with kind people and pleasant weather."
          ],
          [
           72,
           18,
           44,
           14,
           88,
           54,
           19,
           36,
           63,
           "This is a beautiful city with kind people and pleasant weather."
          ],
          [
           70,
           19,
           36,
           24,
           67,
           54,
           26,
           12,
           47,
           "This is a beautiful city with kind people and pleasant weather."
          ],
          [
           65,
           11,
           44,
           9,
           83,
           86,
           9,
           10,
           72,
           "This is a beautiful city with kind people and pleasant weather."
          ],
          [
           71,
           20,
           50,
           36,
           81,
           36,
           26,
           9,
           54,
           "This is a beautiful city with kind people and pleasant weather."
          ],
          [
           75,
           29,
           31,
           26,
           73,
           43,
           19,
           19,
           80,
           "This is a beautiful city with kind people and pleasant weather."
          ],
          [
           72,
           21,
           21,
           13,
           62,
           59,
           16,
           16,
           79,
           "This is a beautiful city with kind people and pleasant weather."
          ],
          [
           70,
           18,
           44,
           37,
           81,
           48,
           9,
           9,
           59,
           "This is a beautiful city with kind people and pleasant weather."
          ],
          [
           72,
           21,
           53,
           36,
           77,
           38,
           9,
           9,
           54,
           "This is a beautiful city with kind people and pleasant weather."
          ],
          [
           68,
           15,
           43,
           24,
           56,
           47,
           10,
           15,
           31,
           "This is a beautiful city with kind people and pleasant weather."
          ],
          [
           66,
           11,
           29,
           17,
           49,
           37,
           16,
           9,
           59,
           "This is a beautiful city with kind people and pleasant weather."
          ]
         ],
         "hovertemplate": "<b>%{hovertext}</b><br><br>lat=%{lat}<br>lng=%{lon}<br>Movehub Rating=%{customdata[0]}<br>Purchase Power=%{customdata[1]}<br>Health Care=%{customdata[2]}<br>Quality of Life=%{customdata[3]}<br>Pollution=%{customdata[4]}<br>Crime Rating=%{customdata[5]}<br>Congestion Level=%{customdata[6]}<br>Education=%{customdata[7]}<br>Annual Temperature=%{customdata[8]}<br>Description=%{customdata[9]}<br>Score=%{marker.color}<extra></extra>",
         "hovertext": [
          "Manila",
          "Delhi",
          "Fortaleza",
          "Lima",
          "Pune",
          "Sao Paulo",
          "Saint Petersburg",
          "Mumbai",
          "Rio De Janeiro",
          "Porto Alegre",
          "Kharkiv",
          "Belo Horizonte",
          "Jakarta",
          "Bucharest",
          "Cairo",
          "Karachi",
          "Minsk",
          "Tehran",
          "Kiev",
          "Caracas",
          "Varna",
          "Kolkata",
          "Dhaka",
          "Tirana",
          "Belgrade",
          "Ulaanbaatar",
          "Baku"
         ],
         "lat": [
          15,
          29,
          -4,
          -12,
          19,
          -24,
          60,
          19,
          -23,
          -30,
          50,
          -20,
          -6,
          44,
          30,
          25,
          54,
          36,
          50,
          10,
          43,
          23,
          24,
          41,
          45,
          48,
          40
         ],
         "legendgroup": "",
         "lon": [
          121,
          77,
          -39,
          -77,
          74,
          -47,
          30,
          73,
          -43,
          -51,
          36,
          -44,
          107,
          26,
          31,
          67,
          28,
          51,
          31,
          -67,
          28,
          88,
          90,
          20,
          20,
          107,
          50
         ],
         "marker": {
          "color": [
           100,
           97,
           96,
           95,
           95,
           94,
           93,
           92,
           92,
           89,
           88,
           86,
           81,
           80,
           77,
           74,
           74,
           73,
           73,
           71,
           70,
           69,
           67,
           67,
           63,
           63,
           56
          ],
          "coloraxis": "coloraxis"
         },
         "mode": "markers",
         "name": "",
         "showlegend": false,
         "subplot": "mapbox",
         "type": "scattermapbox"
        }
       ],
       "layout": {
        "coloraxis": {
         "colorbar": {
          "title": {
           "text": "Score"
          }
         },
         "colorscale": [
          [
           0,
           "#0d0887"
          ],
          [
           0.1111111111111111,
           "#46039f"
          ],
          [
           0.2222222222222222,
           "#7201a8"
          ],
          [
           0.3333333333333333,
           "#9c179e"
          ],
          [
           0.4444444444444444,
           "#bd3786"
          ],
          [
           0.5555555555555556,
           "#d8576b"
          ],
          [
           0.6666666666666666,
           "#ed7953"
          ],
          [
           0.7777777777777778,
           "#fb9f3a"
          ],
          [
           0.8888888888888888,
           "#fdca26"
          ],
          [
           1,
           "#f0f921"
          ]
         ]
        },
        "legend": {
         "tracegroupgap": 0
        },
        "mapbox": {
         "center": {
          "lat": 21.703703703703702,
          "lon": 29.14814814814815
         },
         "domain": {
          "x": [
           0,
           1
          ],
          "y": [
           0,
           1
          ]
         },
         "style": "carto-positron",
         "zoom": 1
        },
        "margin": {
         "t": 60
        },
        "template": {
         "data": {
          "bar": [
           {
            "error_x": {
             "color": "#2a3f5f"
            },
            "error_y": {
             "color": "#2a3f5f"
            },
            "marker": {
             "line": {
              "color": "#E5ECF6",
              "width": 0.5
             }
            },
            "type": "bar"
           }
          ],
          "barpolar": [
           {
            "marker": {
             "line": {
              "color": "#E5ECF6",
              "width": 0.5
             }
            },
            "type": "barpolar"
           }
          ],
          "carpet": [
           {
            "aaxis": {
             "endlinecolor": "#2a3f5f",
             "gridcolor": "white",
             "linecolor": "white",
             "minorgridcolor": "white",
             "startlinecolor": "#2a3f5f"
            },
            "baxis": {
             "endlinecolor": "#2a3f5f",
             "gridcolor": "white",
             "linecolor": "white",
             "minorgridcolor": "white",
             "startlinecolor": "#2a3f5f"
            },
            "type": "carpet"
           }
          ],
          "choropleth": [
           {
            "colorbar": {
             "outlinewidth": 0,
             "ticks": ""
            },
            "type": "choropleth"
           }
          ],
          "contour": [
           {
            "colorbar": {
             "outlinewidth": 0,
             "ticks": ""
            },
            "colorscale": [
             [
              0,
              "#0d0887"
             ],
             [
              0.1111111111111111,
              "#46039f"
             ],
             [
              0.2222222222222222,
              "#7201a8"
             ],
             [
              0.3333333333333333,
              "#9c179e"
             ],
             [
              0.4444444444444444,
              "#bd3786"
             ],
             [
              0.5555555555555556,
              "#d8576b"
             ],
             [
              0.6666666666666666,
              "#ed7953"
             ],
             [
              0.7777777777777778,
              "#fb9f3a"
             ],
             [
              0.8888888888888888,
              "#fdca26"
             ],
             [
              1,
              "#f0f921"
             ]
            ],
            "type": "contour"
           }
          ],
          "contourcarpet": [
           {
            "colorbar": {
             "outlinewidth": 0,
             "ticks": ""
            },
            "type": "contourcarpet"
           }
          ],
          "heatmap": [
           {
            "colorbar": {
             "outlinewidth": 0,
             "ticks": ""
            },
            "colorscale": [
             [
              0,
              "#0d0887"
             ],
             [
              0.1111111111111111,
              "#46039f"
             ],
             [
              0.2222222222222222,
              "#7201a8"
             ],
             [
              0.3333333333333333,
              "#9c179e"
             ],
             [
              0.4444444444444444,
              "#bd3786"
             ],
             [
              0.5555555555555556,
              "#d8576b"
             ],
             [
              0.6666666666666666,
              "#ed7953"
             ],
             [
              0.7777777777777778,
              "#fb9f3a"
             ],
             [
              0.8888888888888888,
              "#fdca26"
             ],
             [
              1,
              "#f0f921"
             ]
            ],
            "type": "heatmap"
           }
          ],
          "heatmapgl": [
           {
            "colorbar": {
             "outlinewidth": 0,
             "ticks": ""
            },
            "colorscale": [
             [
              0,
              "#0d0887"
             ],
             [
              0.1111111111111111,
              "#46039f"
             ],
             [
              0.2222222222222222,
              "#7201a8"
             ],
             [
              0.3333333333333333,
              "#9c179e"
             ],
             [
              0.4444444444444444,
              "#bd3786"
             ],
             [
              0.5555555555555556,
              "#d8576b"
             ],
             [
              0.6666666666666666,
              "#ed7953"
             ],
             [
              0.7777777777777778,
              "#fb9f3a"
             ],
             [
              0.8888888888888888,
              "#fdca26"
             ],
             [
              1,
              "#f0f921"
             ]
            ],
            "type": "heatmapgl"
           }
          ],
          "histogram": [
           {
            "marker": {
             "colorbar": {
              "outlinewidth": 0,
              "ticks": ""
             }
            },
            "type": "histogram"
           }
          ],
          "histogram2d": [
           {
            "colorbar": {
             "outlinewidth": 0,
             "ticks": ""
            },
            "colorscale": [
             [
              0,
              "#0d0887"
             ],
             [
              0.1111111111111111,
              "#46039f"
             ],
             [
              0.2222222222222222,
              "#7201a8"
             ],
             [
              0.3333333333333333,
              "#9c179e"
             ],
             [
              0.4444444444444444,
              "#bd3786"
             ],
             [
              0.5555555555555556,
              "#d8576b"
             ],
             [
              0.6666666666666666,
              "#ed7953"
             ],
             [
              0.7777777777777778,
              "#fb9f3a"
             ],
             [
              0.8888888888888888,
              "#fdca26"
             ],
             [
              1,
              "#f0f921"
             ]
            ],
            "type": "histogram2d"
           }
          ],
          "histogram2dcontour": [
           {
            "colorbar": {
             "outlinewidth": 0,
             "ticks": ""
            },
            "colorscale": [
             [
              0,
              "#0d0887"
             ],
             [
              0.1111111111111111,
              "#46039f"
             ],
             [
              0.2222222222222222,
              "#7201a8"
             ],
             [
              0.3333333333333333,
              "#9c179e"
             ],
             [
              0.4444444444444444,
              "#bd3786"
             ],
             [
              0.5555555555555556,
              "#d8576b"
             ],
             [
              0.6666666666666666,
              "#ed7953"
             ],
             [
              0.7777777777777778,
              "#fb9f3a"
             ],
             [
              0.8888888888888888,
              "#fdca26"
             ],
             [
              1,
              "#f0f921"
             ]
            ],
            "type": "histogram2dcontour"
           }
          ],
          "mesh3d": [
           {
            "colorbar": {
             "outlinewidth": 0,
             "ticks": ""
            },
            "type": "mesh3d"
           }
          ],
          "parcoords": [
           {
            "line": {
             "colorbar": {
              "outlinewidth": 0,
              "ticks": ""
             }
            },
            "type": "parcoords"
           }
          ],
          "pie": [
           {
            "automargin": true,
            "type": "pie"
           }
          ],
          "scatter": [
           {
            "marker": {
             "colorbar": {
              "outlinewidth": 0,
              "ticks": ""
             }
            },
            "type": "scatter"
           }
          ],
          "scatter3d": [
           {
            "line": {
             "colorbar": {
              "outlinewidth": 0,
              "ticks": ""
             }
            },
            "marker": {
             "colorbar": {
              "outlinewidth": 0,
              "ticks": ""
             }
            },
            "type": "scatter3d"
           }
          ],
          "scattercarpet": [
           {
            "marker": {
             "colorbar": {
              "outlinewidth": 0,
              "ticks": ""
             }
            },
            "type": "scattercarpet"
           }
          ],
          "scattergeo": [
           {
            "marker": {
             "colorbar": {
              "outlinewidth": 0,
              "ticks": ""
             }
            },
            "type": "scattergeo"
           }
          ],
          "scattergl": [
           {
            "marker": {
             "colorbar": {
              "outlinewidth": 0,
              "ticks": ""
             }
            },
            "type": "scattergl"
           }
          ],
          "scattermapbox": [
           {
            "marker": {
             "colorbar": {
              "outlinewidth": 0,
              "ticks": ""
             }
            },
            "type": "scattermapbox"
           }
          ],
          "scatterpolar": [
           {
            "marker": {
             "colorbar": {
              "outlinewidth": 0,
              "ticks": ""
             }
            },
            "type": "scatterpolar"
           }
          ],
          "scatterpolargl": [
           {
            "marker": {
             "colorbar": {
              "outlinewidth": 0,
              "ticks": ""
             }
            },
            "type": "scatterpolargl"
           }
          ],
          "scatterternary": [
           {
            "marker": {
             "colorbar": {
              "outlinewidth": 0,
              "ticks": ""
             }
            },
            "type": "scatterternary"
           }
          ],
          "surface": [
           {
            "colorbar": {
             "outlinewidth": 0,
             "ticks": ""
            },
            "colorscale": [
             [
              0,
              "#0d0887"
             ],
             [
              0.1111111111111111,
              "#46039f"
             ],
             [
              0.2222222222222222,
              "#7201a8"
             ],
             [
              0.3333333333333333,
              "#9c179e"
             ],
             [
              0.4444444444444444,
              "#bd3786"
             ],
             [
              0.5555555555555556,
              "#d8576b"
             ],
             [
              0.6666666666666666,
              "#ed7953"
             ],
             [
              0.7777777777777778,
              "#fb9f3a"
             ],
             [
              0.8888888888888888,
              "#fdca26"
             ],
             [
              1,
              "#f0f921"
             ]
            ],
            "type": "surface"
           }
          ],
          "table": [
           {
            "cells": {
             "fill": {
              "color": "#EBF0F8"
             },
             "line": {
              "color": "white"
             }
            },
            "header": {
             "fill": {
              "color": "#C8D4E3"
             },
             "line": {
              "color": "white"
             }
            },
            "type": "table"
           }
          ]
         },
         "layout": {
          "annotationdefaults": {
           "arrowcolor": "#2a3f5f",
           "arrowhead": 0,
           "arrowwidth": 1
          },
          "coloraxis": {
           "colorbar": {
            "outlinewidth": 0,
            "ticks": ""
           }
          },
          "colorscale": {
           "diverging": [
            [
             0,
             "#8e0152"
            ],
            [
             0.1,
             "#c51b7d"
            ],
            [
             0.2,
             "#de77ae"
            ],
            [
             0.3,
             "#f1b6da"
            ],
            [
             0.4,
             "#fde0ef"
            ],
            [
             0.5,
             "#f7f7f7"
            ],
            [
             0.6,
             "#e6f5d0"
            ],
            [
             0.7,
             "#b8e186"
            ],
            [
             0.8,
             "#7fbc41"
            ],
            [
             0.9,
             "#4d9221"
            ],
            [
             1,
             "#276419"
            ]
           ],
           "sequential": [
            [
             0,
             "#0d0887"
            ],
            [
             0.1111111111111111,
             "#46039f"
            ],
            [
             0.2222222222222222,
             "#7201a8"
            ],
            [
             0.3333333333333333,
             "#9c179e"
            ],
            [
             0.4444444444444444,
             "#bd3786"
            ],
            [
             0.5555555555555556,
             "#d8576b"
            ],
            [
             0.6666666666666666,
             "#ed7953"
            ],
            [
             0.7777777777777778,
             "#fb9f3a"
            ],
            [
             0.8888888888888888,
             "#fdca26"
            ],
            [
             1,
             "#f0f921"
            ]
           ],
           "sequentialminus": [
            [
             0,
             "#0d0887"
            ],
            [
             0.1111111111111111,
             "#46039f"
            ],
            [
             0.2222222222222222,
             "#7201a8"
            ],
            [
             0.3333333333333333,
             "#9c179e"
            ],
            [
             0.4444444444444444,
             "#bd3786"
            ],
            [
             0.5555555555555556,
             "#d8576b"
            ],
            [
             0.6666666666666666,
             "#ed7953"
            ],
            [
             0.7777777777777778,
             "#fb9f3a"
            ],
            [
             0.8888888888888888,
             "#fdca26"
            ],
            [
             1,
             "#f0f921"
            ]
           ]
          },
          "colorway": [
           "#636efa",
           "#EF553B",
           "#00cc96",
           "#ab63fa",
           "#FFA15A",
           "#19d3f3",
           "#FF6692",
           "#B6E880",
           "#FF97FF",
           "#FECB52"
          ],
          "font": {
           "color": "#2a3f5f"
          },
          "geo": {
           "bgcolor": "white",
           "lakecolor": "white",
           "landcolor": "#E5ECF6",
           "showlakes": true,
           "showland": true,
           "subunitcolor": "white"
          },
          "hoverlabel": {
           "align": "left"
          },
          "hovermode": "closest",
          "mapbox": {
           "style": "light"
          },
          "paper_bgcolor": "white",
          "plot_bgcolor": "#E5ECF6",
          "polar": {
           "angularaxis": {
            "gridcolor": "white",
            "linecolor": "white",
            "ticks": ""
           },
           "bgcolor": "#E5ECF6",
           "radialaxis": {
            "gridcolor": "white",
            "linecolor": "white",
            "ticks": ""
           }
          },
          "scene": {
           "xaxis": {
            "backgroundcolor": "#E5ECF6",
            "gridcolor": "white",
            "gridwidth": 2,
            "linecolor": "white",
            "showbackground": true,
            "ticks": "",
            "zerolinecolor": "white"
           },
           "yaxis": {
            "backgroundcolor": "#E5ECF6",
            "gridcolor": "white",
            "gridwidth": 2,
            "linecolor": "white",
            "showbackground": true,
            "ticks": "",
            "zerolinecolor": "white"
           },
           "zaxis": {
            "backgroundcolor": "#E5ECF6",
            "gridcolor": "white",
            "gridwidth": 2,
            "linecolor": "white",
            "showbackground": true,
            "ticks": "",
            "zerolinecolor": "white"
           }
          },
          "shapedefaults": {
           "line": {
            "color": "#2a3f5f"
           }
          },
          "ternary": {
           "aaxis": {
            "gridcolor": "white",
            "linecolor": "white",
            "ticks": ""
           },
           "baxis": {
            "gridcolor": "white",
            "linecolor": "white",
            "ticks": ""
           },
           "bgcolor": "#E5ECF6",
           "caxis": {
            "gridcolor": "white",
            "linecolor": "white",
            "ticks": ""
           }
          },
          "title": {
           "x": 0.05
          },
          "xaxis": {
           "automargin": true,
           "gridcolor": "white",
           "linecolor": "white",
           "ticks": "",
           "title": {
            "standoff": 15
           },
           "zerolinecolor": "white",
           "zerolinewidth": 2
          },
          "yaxis": {
           "automargin": true,
           "gridcolor": "white",
           "linecolor": "white",
           "ticks": "",
           "title": {
            "standoff": 15
           },
           "zerolinecolor": "white",
           "zerolinewidth": 2
          }
         }
        }
       }
      },
      "text/html": [
       "<div>                            <div id=\"240e4c5f-612d-4a8c-9b81-40e402abeb21\" class=\"plotly-graph-div\" style=\"height:525px; width:100%;\"></div>            <script type=\"text/javascript\">                require([\"plotly\"], function(Plotly) {                    window.PLOTLYENV=window.PLOTLYENV || {};                                    if (document.getElementById(\"240e4c5f-612d-4a8c-9b81-40e402abeb21\")) {                    Plotly.newPlot(                        \"240e4c5f-612d-4a8c-9b81-40e402abeb21\",                        [{\"customdata\": [[68.0, 15.0, 81.0, 13.0, 65.0, 66.0, 71, 36.0, 83.0, \"This is a beautiful city with kind people and pleasant weather.\"], [77.0, 34.0, 75.0, 42.0, 73.0, 53.0, 56, 15.0, 77.0, \"This is a beautiful city with kind people and pleasant weather.\"], [80.0, 52.0, 45.0, 37.0, 66.0, 79.0, 37, 10.0, 80.0, \"This is a beautiful city with kind people and pleasant weather.\"], [73.0, 23.0, 54.0, 23.0, 58.0, 65.0, 57, 26.0, 67.0, \"This is a beautiful city with kind people and pleasant weather.\"], [79.0, 38.0, 67.0, 44.0, 79.0, 41.0, 59, 13.0, 77.0, \"This is a beautiful city with kind people and pleasant weather.\"], [75.0, 24.0, 64.0, 31.0, 72.0, 66.0, 45, 26.0, 67.0, \"This is a beautiful city with kind people and pleasant weather.\"], [73.0, 25.0, 46.0, 26.0, 78.0, 57.0, 49, 39.0, 42.0, \"This is a beautiful city with kind people and pleasant weather.\"], [77.0, 29.0, 58.0, 26.0, 70.0, 35.0, 65, 36.0, 81.0, \"This is a beautiful city with kind people and pleasant weather.\"], [73.0, 22.0, 62.0, 21.0, 85.0, 68.0, 46, 24.0, 75.0, \"This is a beautiful city with kind people and pleasant weather.\"], [70.0, 19.0, 51.0, 32.0, 86.0, 76.0, 35, 10.0, 67.0, \"This is a beautiful city with kind people and pleasant weather.\"], [69.0, 17.0, 35.0, 31.0, 67.0, 54.0, 43, 36.0, 45.0, \"This is a beautiful city with kind people and pleasant weather.\"], [72.0, 22.0, 57.0, 36.0, 60.0, 51.0, 35, 36.0, 70.0, \"This is a beautiful city with kind people and pleasant weather.\"], [69.0, 17.0, 38.0, 16.0, 58.0, 48.0, 53, 18.0, 80.0, \"This is a beautiful city with kind people and pleasant weather.\"], [72.0, 23.0, 52.0, 29.0, 75.0, 33.0, 52, 15.0, 51.0, \"This is a beautiful city with kind people and pleasant weather.\"], [68.0, 12.0, 56.0, 17.0, 86.0, 49.0, 40, 20.0, 70.0, \"This is a beautiful city with kind people and pleasant weather.\"], [68.0, 15.0, 52.0, 18.0, 70.0, 74.0, 9, 26.0, 79.0, \"This is a beautiful city with kind people and pleasant weather.\"], [68.0, 16.0, 50.0, 52.0, 67.0, 27.0, 32, 10.0, 44.0, \"This is a beautiful city with kind people and pleasant weather.\"], [72.0, 18.0, 44.0, 14.0, 88.0, 54.0, 19, 36.0, 63.0, \"This is a beautiful city with kind people and pleasant weather.\"], [70.0, 19.0, 36.0, 24.0, 67.0, 54.0, 26, 12.0, 47.0, \"This is a beautiful city with kind people and pleasant weather.\"], [65.0, 11.0, 44.0, 9.0, 83.0, 86.0, 9, 10.0, 72.0, \"This is a beautiful city with kind people and pleasant weather.\"], [71.0, 20.0, 50.0, 36.0, 81.0, 36.0, 26, 9.0, 54.0, \"This is a beautiful city with kind people and pleasant weather.\"], [75.0, 29.0, 31.0, 26.0, 73.0, 43.0, 19, 19.0, 80.0, \"This is a beautiful city with kind people and pleasant weather.\"], [72.0, 21.0, 21.0, 13.0, 62.0, 59.0, 16, 16.0, 79.0, \"This is a beautiful city with kind people and pleasant weather.\"], [70.0, 18.0, 44.0, 37.0, 81.0, 48.0, 9, 9.0, 59.0, \"This is a beautiful city with kind people and pleasant weather.\"], [72.0, 21.0, 53.0, 36.0, 77.0, 38.0, 9, 9.0, 54.0, \"This is a beautiful city with kind people and pleasant weather.\"], [68.0, 15.0, 43.0, 24.0, 56.0, 47.0, 10, 15.0, 31.0, \"This is a beautiful city with kind people and pleasant weather.\"], [66.0, 11.0, 29.0, 17.0, 49.0, 37.0, 16, 9.0, 59.0, \"This is a beautiful city with kind people and pleasant weather.\"]], \"hovertemplate\": \"<b>%{hovertext}</b><br><br>lat=%{lat}<br>lng=%{lon}<br>Movehub Rating=%{customdata[0]}<br>Purchase Power=%{customdata[1]}<br>Health Care=%{customdata[2]}<br>Quality of Life=%{customdata[3]}<br>Pollution=%{customdata[4]}<br>Crime Rating=%{customdata[5]}<br>Congestion Level=%{customdata[6]}<br>Education=%{customdata[7]}<br>Annual Temperature=%{customdata[8]}<br>Description=%{customdata[9]}<br>Score=%{marker.color}<extra></extra>\", \"hovertext\": [\"Manila\", \"Delhi\", \"Fortaleza\", \"Lima\", \"Pune\", \"Sao Paulo\", \"Saint Petersburg\", \"Mumbai\", \"Rio De Janeiro\", \"Porto Alegre\", \"Kharkiv\", \"Belo Horizonte\", \"Jakarta\", \"Bucharest\", \"Cairo\", \"Karachi\", \"Minsk\", \"Tehran\", \"Kiev\", \"Caracas\", \"Varna\", \"Kolkata\", \"Dhaka\", \"Tirana\", \"Belgrade\", \"Ulaanbaatar\", \"Baku\"], \"lat\": [15.0, 29.0, -4.0, -12.0, 19.0, -24.0, 60.0, 19.0, -23.0, -30.0, 50.0, -20.0, -6.0, 44.0, 30.0, 25.0, 54.0, 36.0, 50.0, 10.0, 43.0, 23.0, 24.0, 41.0, 45.0, 48.0, 40.0], \"legendgroup\": \"\", \"lon\": [121.0, 77.0, -39.0, -77.0, 74.0, -47.0, 30.0, 73.0, -43.0, -51.0, 36.0, -44.0, 107.0, 26.0, 31.0, 67.0, 28.0, 51.0, 31.0, -67.0, 28.0, 88.0, 90.0, 20.0, 20.0, 107.0, 50.0], \"marker\": {\"color\": [100.0, 97.0, 96.0, 95.0, 95.0, 94.0, 93.0, 92.0, 92.0, 89.0, 88.0, 86.0, 81.0, 80.0, 77.0, 74.0, 74.0, 73.0, 73.0, 71.0, 70.0, 69.0, 67.0, 67.0, 63.0, 63.0, 56.0], \"coloraxis\": \"coloraxis\"}, \"mode\": \"markers\", \"name\": \"\", \"showlegend\": false, \"subplot\": \"mapbox\", \"type\": \"scattermapbox\"}],                        {\"coloraxis\": {\"colorbar\": {\"title\": {\"text\": \"Score\"}}, \"colorscale\": [[0.0, \"#0d0887\"], [0.1111111111111111, \"#46039f\"], [0.2222222222222222, \"#7201a8\"], [0.3333333333333333, \"#9c179e\"], [0.4444444444444444, \"#bd3786\"], [0.5555555555555556, \"#d8576b\"], [0.6666666666666666, \"#ed7953\"], [0.7777777777777778, \"#fb9f3a\"], [0.8888888888888888, \"#fdca26\"], [1.0, \"#f0f921\"]]}, \"legend\": {\"tracegroupgap\": 0}, \"mapbox\": {\"center\": {\"lat\": 21.703703703703702, \"lon\": 29.14814814814815}, \"domain\": {\"x\": [0.0, 1.0], \"y\": [0.0, 1.0]}, \"style\": \"carto-positron\", \"zoom\": 1}, \"margin\": {\"t\": 60}, \"template\": {\"data\": {\"bar\": [{\"error_x\": {\"color\": \"#2a3f5f\"}, \"error_y\": {\"color\": \"#2a3f5f\"}, \"marker\": {\"line\": {\"color\": \"#E5ECF6\", \"width\": 0.5}}, \"type\": \"bar\"}], \"barpolar\": [{\"marker\": {\"line\": {\"color\": \"#E5ECF6\", \"width\": 0.5}}, \"type\": \"barpolar\"}], \"carpet\": [{\"aaxis\": {\"endlinecolor\": \"#2a3f5f\", \"gridcolor\": \"white\", \"linecolor\": \"white\", \"minorgridcolor\": \"white\", \"startlinecolor\": \"#2a3f5f\"}, \"baxis\": {\"endlinecolor\": \"#2a3f5f\", \"gridcolor\": \"white\", \"linecolor\": \"white\", \"minorgridcolor\": \"white\", \"startlinecolor\": \"#2a3f5f\"}, \"type\": \"carpet\"}], \"choropleth\": [{\"colorbar\": {\"outlinewidth\": 0, \"ticks\": \"\"}, \"type\": \"choropleth\"}], \"contour\": [{\"colorbar\": {\"outlinewidth\": 0, \"ticks\": \"\"}, \"colorscale\": [[0.0, \"#0d0887\"], [0.1111111111111111, \"#46039f\"], [0.2222222222222222, \"#7201a8\"], [0.3333333333333333, \"#9c179e\"], [0.4444444444444444, \"#bd3786\"], [0.5555555555555556, \"#d8576b\"], [0.6666666666666666, \"#ed7953\"], [0.7777777777777778, \"#fb9f3a\"], [0.8888888888888888, \"#fdca26\"], [1.0, \"#f0f921\"]], \"type\": \"contour\"}], \"contourcarpet\": [{\"colorbar\": {\"outlinewidth\": 0, \"ticks\": \"\"}, \"type\": \"contourcarpet\"}], \"heatmap\": [{\"colorbar\": {\"outlinewidth\": 0, \"ticks\": \"\"}, \"colorscale\": [[0.0, \"#0d0887\"], [0.1111111111111111, \"#46039f\"], [0.2222222222222222, \"#7201a8\"], [0.3333333333333333, \"#9c179e\"], [0.4444444444444444, \"#bd3786\"], [0.5555555555555556, \"#d8576b\"], [0.6666666666666666, \"#ed7953\"], [0.7777777777777778, \"#fb9f3a\"], [0.8888888888888888, \"#fdca26\"], [1.0, \"#f0f921\"]], \"type\": \"heatmap\"}], \"heatmapgl\": [{\"colorbar\": {\"outlinewidth\": 0, \"ticks\": \"\"}, \"colorscale\": [[0.0, \"#0d0887\"], [0.1111111111111111, \"#46039f\"], [0.2222222222222222, \"#7201a8\"], [0.3333333333333333, \"#9c179e\"], [0.4444444444444444, \"#bd3786\"], [0.5555555555555556, \"#d8576b\"], [0.6666666666666666, \"#ed7953\"], [0.7777777777777778, \"#fb9f3a\"], [0.8888888888888888, \"#fdca26\"], [1.0, \"#f0f921\"]], \"type\": \"heatmapgl\"}], \"histogram\": [{\"marker\": {\"colorbar\": {\"outlinewidth\": 0, \"ticks\": \"\"}}, \"type\": \"histogram\"}], \"histogram2d\": [{\"colorbar\": {\"outlinewidth\": 0, \"ticks\": \"\"}, \"colorscale\": [[0.0, \"#0d0887\"], [0.1111111111111111, \"#46039f\"], [0.2222222222222222, \"#7201a8\"], [0.3333333333333333, \"#9c179e\"], [0.4444444444444444, \"#bd3786\"], [0.5555555555555556, \"#d8576b\"], [0.6666666666666666, \"#ed7953\"], [0.7777777777777778, \"#fb9f3a\"], [0.8888888888888888, \"#fdca26\"], [1.0, \"#f0f921\"]], \"type\": \"histogram2d\"}], \"histogram2dcontour\": [{\"colorbar\": {\"outlinewidth\": 0, \"ticks\": \"\"}, \"colorscale\": [[0.0, \"#0d0887\"], [0.1111111111111111, \"#46039f\"], [0.2222222222222222, \"#7201a8\"], [0.3333333333333333, \"#9c179e\"], [0.4444444444444444, \"#bd3786\"], [0.5555555555555556, \"#d8576b\"], [0.6666666666666666, \"#ed7953\"], [0.7777777777777778, \"#fb9f3a\"], [0.8888888888888888, \"#fdca26\"], [1.0, \"#f0f921\"]], \"type\": \"histogram2dcontour\"}], \"mesh3d\": [{\"colorbar\": {\"outlinewidth\": 0, \"ticks\": \"\"}, \"type\": \"mesh3d\"}], \"parcoords\": [{\"line\": {\"colorbar\": {\"outlinewidth\": 0, \"ticks\": \"\"}}, \"type\": \"parcoords\"}], \"pie\": [{\"automargin\": true, \"type\": \"pie\"}], \"scatter\": [{\"marker\": {\"colorbar\": {\"outlinewidth\": 0, \"ticks\": \"\"}}, \"type\": \"scatter\"}], \"scatter3d\": [{\"line\": {\"colorbar\": {\"outlinewidth\": 0, \"ticks\": \"\"}}, \"marker\": {\"colorbar\": {\"outlinewidth\": 0, \"ticks\": \"\"}}, \"type\": \"scatter3d\"}], \"scattercarpet\": [{\"marker\": {\"colorbar\": {\"outlinewidth\": 0, \"ticks\": \"\"}}, \"type\": \"scattercarpet\"}], \"scattergeo\": [{\"marker\": {\"colorbar\": {\"outlinewidth\": 0, \"ticks\": \"\"}}, \"type\": \"scattergeo\"}], \"scattergl\": [{\"marker\": {\"colorbar\": {\"outlinewidth\": 0, \"ticks\": \"\"}}, \"type\": \"scattergl\"}], \"scattermapbox\": [{\"marker\": {\"colorbar\": {\"outlinewidth\": 0, \"ticks\": \"\"}}, \"type\": \"scattermapbox\"}], \"scatterpolar\": [{\"marker\": {\"colorbar\": {\"outlinewidth\": 0, \"ticks\": \"\"}}, \"type\": \"scatterpolar\"}], \"scatterpolargl\": [{\"marker\": {\"colorbar\": {\"outlinewidth\": 0, \"ticks\": \"\"}}, \"type\": \"scatterpolargl\"}], \"scatterternary\": [{\"marker\": {\"colorbar\": {\"outlinewidth\": 0, \"ticks\": \"\"}}, \"type\": \"scatterternary\"}], \"surface\": [{\"colorbar\": {\"outlinewidth\": 0, \"ticks\": \"\"}, \"colorscale\": [[0.0, \"#0d0887\"], [0.1111111111111111, \"#46039f\"], [0.2222222222222222, \"#7201a8\"], [0.3333333333333333, \"#9c179e\"], [0.4444444444444444, \"#bd3786\"], [0.5555555555555556, \"#d8576b\"], [0.6666666666666666, \"#ed7953\"], [0.7777777777777778, \"#fb9f3a\"], [0.8888888888888888, \"#fdca26\"], [1.0, \"#f0f921\"]], \"type\": \"surface\"}], \"table\": [{\"cells\": {\"fill\": {\"color\": \"#EBF0F8\"}, \"line\": {\"color\": \"white\"}}, \"header\": {\"fill\": {\"color\": \"#C8D4E3\"}, \"line\": {\"color\": \"white\"}}, \"type\": \"table\"}]}, \"layout\": {\"annotationdefaults\": {\"arrowcolor\": \"#2a3f5f\", \"arrowhead\": 0, \"arrowwidth\": 1}, \"coloraxis\": {\"colorbar\": {\"outlinewidth\": 0, \"ticks\": \"\"}}, \"colorscale\": {\"diverging\": [[0, \"#8e0152\"], [0.1, \"#c51b7d\"], [0.2, \"#de77ae\"], [0.3, \"#f1b6da\"], [0.4, \"#fde0ef\"], [0.5, \"#f7f7f7\"], [0.6, \"#e6f5d0\"], [0.7, \"#b8e186\"], [0.8, \"#7fbc41\"], [0.9, \"#4d9221\"], [1, \"#276419\"]], \"sequential\": [[0.0, \"#0d0887\"], [0.1111111111111111, \"#46039f\"], [0.2222222222222222, \"#7201a8\"], [0.3333333333333333, \"#9c179e\"], [0.4444444444444444, \"#bd3786\"], [0.5555555555555556, \"#d8576b\"], [0.6666666666666666, \"#ed7953\"], [0.7777777777777778, \"#fb9f3a\"], [0.8888888888888888, \"#fdca26\"], [1.0, \"#f0f921\"]], \"sequentialminus\": [[0.0, \"#0d0887\"], [0.1111111111111111, \"#46039f\"], [0.2222222222222222, \"#7201a8\"], [0.3333333333333333, \"#9c179e\"], [0.4444444444444444, \"#bd3786\"], [0.5555555555555556, \"#d8576b\"], [0.6666666666666666, \"#ed7953\"], [0.7777777777777778, \"#fb9f3a\"], [0.8888888888888888, \"#fdca26\"], [1.0, \"#f0f921\"]]}, \"colorway\": [\"#636efa\", \"#EF553B\", \"#00cc96\", \"#ab63fa\", \"#FFA15A\", \"#19d3f3\", \"#FF6692\", \"#B6E880\", \"#FF97FF\", \"#FECB52\"], \"font\": {\"color\": \"#2a3f5f\"}, \"geo\": {\"bgcolor\": \"white\", \"lakecolor\": \"white\", \"landcolor\": \"#E5ECF6\", \"showlakes\": true, \"showland\": true, \"subunitcolor\": \"white\"}, \"hoverlabel\": {\"align\": \"left\"}, \"hovermode\": \"closest\", \"mapbox\": {\"style\": \"light\"}, \"paper_bgcolor\": \"white\", \"plot_bgcolor\": \"#E5ECF6\", \"polar\": {\"angularaxis\": {\"gridcolor\": \"white\", \"linecolor\": \"white\", \"ticks\": \"\"}, \"bgcolor\": \"#E5ECF6\", \"radialaxis\": {\"gridcolor\": \"white\", \"linecolor\": \"white\", \"ticks\": \"\"}}, \"scene\": {\"xaxis\": {\"backgroundcolor\": \"#E5ECF6\", \"gridcolor\": \"white\", \"gridwidth\": 2, \"linecolor\": \"white\", \"showbackground\": true, \"ticks\": \"\", \"zerolinecolor\": \"white\"}, \"yaxis\": {\"backgroundcolor\": \"#E5ECF6\", \"gridcolor\": \"white\", \"gridwidth\": 2, \"linecolor\": \"white\", \"showbackground\": true, \"ticks\": \"\", \"zerolinecolor\": \"white\"}, \"zaxis\": {\"backgroundcolor\": \"#E5ECF6\", \"gridcolor\": \"white\", \"gridwidth\": 2, \"linecolor\": \"white\", \"showbackground\": true, \"ticks\": \"\", \"zerolinecolor\": \"white\"}}, \"shapedefaults\": {\"line\": {\"color\": \"#2a3f5f\"}}, \"ternary\": {\"aaxis\": {\"gridcolor\": \"white\", \"linecolor\": \"white\", \"ticks\": \"\"}, \"baxis\": {\"gridcolor\": \"white\", \"linecolor\": \"white\", \"ticks\": \"\"}, \"bgcolor\": \"#E5ECF6\", \"caxis\": {\"gridcolor\": \"white\", \"linecolor\": \"white\", \"ticks\": \"\"}}, \"title\": {\"x\": 0.05}, \"xaxis\": {\"automargin\": true, \"gridcolor\": \"white\", \"linecolor\": \"white\", \"ticks\": \"\", \"title\": {\"standoff\": 15}, \"zerolinecolor\": \"white\", \"zerolinewidth\": 2}, \"yaxis\": {\"automargin\": true, \"gridcolor\": \"white\", \"linecolor\": \"white\", \"ticks\": \"\", \"title\": {\"standoff\": 15}, \"zerolinecolor\": \"white\", \"zerolinewidth\": 2}}}},                        {\"responsive\": true}                    ).then(function(){\n",
       "                            \n",
       "var gd = document.getElementById('240e4c5f-612d-4a8c-9b81-40e402abeb21');\n",
       "var x = new MutationObserver(function (mutations, observer) {{\n",
       "        var display = window.getComputedStyle(gd).display;\n",
       "        if (!display || display === 'none') {{\n",
       "            console.log([gd, 'removed!']);\n",
       "            Plotly.purge(gd);\n",
       "            observer.disconnect();\n",
       "        }}\n",
       "}});\n",
       "\n",
       "// Listen for the removal of the full notebook cells\n",
       "var notebookContainer = gd.closest('#notebook-container');\n",
       "if (notebookContainer) {{\n",
       "    x.observe(notebookContainer, {childList: true});\n",
       "}}\n",
       "\n",
       "// Listen for the clearing of the current output cell\n",
       "var outputEl = gd.closest('.output');\n",
       "if (outputEl) {{\n",
       "    x.observe(outputEl, {childList: true});\n",
       "}}\n",
       "\n",
       "                        })                };                });            </script>        </div>"
      ]
     },
     "metadata": {},
     "output_type": "display_data"
    }
   ],
   "source": [
    "create_graph(df_to_plot)"
   ]
  },
  {
   "cell_type": "code",
   "execution_count": 25,
   "metadata": {},
   "outputs": [
    {
     "data": {
      "text/html": [
       "<div>\n",
       "<style scoped>\n",
       "    .dataframe tbody tr th:only-of-type {\n",
       "        vertical-align: middle;\n",
       "    }\n",
       "\n",
       "    .dataframe tbody tr th {\n",
       "        vertical-align: top;\n",
       "    }\n",
       "\n",
       "    .dataframe thead th {\n",
       "        text-align: right;\n",
       "    }\n",
       "</style>\n",
       "<table border=\"1\" class=\"dataframe\">\n",
       "  <thead>\n",
       "    <tr style=\"text-align: right;\">\n",
       "      <th></th>\n",
       "      <th>City</th>\n",
       "      <th>Score</th>\n",
       "      <th>Movehub Rating</th>\n",
       "      <th>Purchase Power</th>\n",
       "      <th>Health Care</th>\n",
       "      <th>Quality of Life</th>\n",
       "      <th>Pollution</th>\n",
       "      <th>Crime Rating</th>\n",
       "      <th>Congestion Level</th>\n",
       "      <th>Education</th>\n",
       "      <th>Annual Temperature</th>\n",
       "    </tr>\n",
       "  </thead>\n",
       "  <tbody>\n",
       "    <tr>\n",
       "      <th>17</th>\n",
       "      <td>Los Angeles</td>\n",
       "      <td>100.0</td>\n",
       "      <td>87.0</td>\n",
       "      <td>63.0</td>\n",
       "      <td>69.0</td>\n",
       "      <td>63.0</td>\n",
       "      <td>75.0</td>\n",
       "      <td>66.0</td>\n",
       "      <td>42</td>\n",
       "      <td>81.0</td>\n",
       "      <td>65.0</td>\n",
       "    </tr>\n",
       "    <tr>\n",
       "      <th>43</th>\n",
       "      <td>Paris</td>\n",
       "      <td>96.0</td>\n",
       "      <td>96.0</td>\n",
       "      <td>47.0</td>\n",
       "      <td>83.0</td>\n",
       "      <td>53.0</td>\n",
       "      <td>59.0</td>\n",
       "      <td>54.0</td>\n",
       "      <td>39</td>\n",
       "      <td>94.0</td>\n",
       "      <td>54.0</td>\n",
       "    </tr>\n",
       "    <tr>\n",
       "      <th>57</th>\n",
       "      <td>London</td>\n",
       "      <td>95.0</td>\n",
       "      <td>100.0</td>\n",
       "      <td>53.0</td>\n",
       "      <td>70.0</td>\n",
       "      <td>48.0</td>\n",
       "      <td>58.0</td>\n",
       "      <td>50.0</td>\n",
       "      <td>38</td>\n",
       "      <td>99.0</td>\n",
       "      <td>50.0</td>\n",
       "    </tr>\n",
       "    <tr>\n",
       "      <th>63</th>\n",
       "      <td>Melbourne</td>\n",
       "      <td>95.0</td>\n",
       "      <td>93.0</td>\n",
       "      <td>55.0</td>\n",
       "      <td>77.0</td>\n",
       "      <td>69.0</td>\n",
       "      <td>30.0</td>\n",
       "      <td>49.0</td>\n",
       "      <td>30</td>\n",
       "      <td>98.0</td>\n",
       "      <td>59.0</td>\n",
       "    </tr>\n",
       "    <tr>\n",
       "      <th>12</th>\n",
       "      <td>Cape Town</td>\n",
       "      <td>95.0</td>\n",
       "      <td>88.0</td>\n",
       "      <td>60.0</td>\n",
       "      <td>72.0</td>\n",
       "      <td>79.0</td>\n",
       "      <td>76.0</td>\n",
       "      <td>68.0</td>\n",
       "      <td>32</td>\n",
       "      <td>40.0</td>\n",
       "      <td>61.0</td>\n",
       "    </tr>\n",
       "    <tr>\n",
       "      <th>...</th>\n",
       "      <td>...</td>\n",
       "      <td>...</td>\n",
       "      <td>...</td>\n",
       "      <td>...</td>\n",
       "      <td>...</td>\n",
       "      <td>...</td>\n",
       "      <td>...</td>\n",
       "      <td>...</td>\n",
       "      <td>...</td>\n",
       "      <td>...</td>\n",
       "      <td>...</td>\n",
       "    </tr>\n",
       "    <tr>\n",
       "      <th>47</th>\n",
       "      <td>Lahore</td>\n",
       "      <td>53.0</td>\n",
       "      <td>67.0</td>\n",
       "      <td>12.0</td>\n",
       "      <td>49.0</td>\n",
       "      <td>29.0</td>\n",
       "      <td>31.0</td>\n",
       "      <td>52.0</td>\n",
       "      <td>9</td>\n",
       "      <td>14.0</td>\n",
       "      <td>76.0</td>\n",
       "    </tr>\n",
       "    <tr>\n",
       "      <th>114</th>\n",
       "      <td>Belgrade</td>\n",
       "      <td>52.0</td>\n",
       "      <td>72.0</td>\n",
       "      <td>21.0</td>\n",
       "      <td>53.0</td>\n",
       "      <td>36.0</td>\n",
       "      <td>77.0</td>\n",
       "      <td>38.0</td>\n",
       "      <td>9</td>\n",
       "      <td>9.0</td>\n",
       "      <td>54.0</td>\n",
       "    </tr>\n",
       "    <tr>\n",
       "      <th>77</th>\n",
       "      <td>Ulaanbaatar</td>\n",
       "      <td>52.0</td>\n",
       "      <td>68.0</td>\n",
       "      <td>15.0</td>\n",
       "      <td>43.0</td>\n",
       "      <td>24.0</td>\n",
       "      <td>56.0</td>\n",
       "      <td>47.0</td>\n",
       "      <td>10</td>\n",
       "      <td>15.0</td>\n",
       "      <td>31.0</td>\n",
       "    </tr>\n",
       "    <tr>\n",
       "      <th>118</th>\n",
       "      <td>Baku</td>\n",
       "      <td>46.0</td>\n",
       "      <td>66.0</td>\n",
       "      <td>11.0</td>\n",
       "      <td>29.0</td>\n",
       "      <td>17.0</td>\n",
       "      <td>49.0</td>\n",
       "      <td>37.0</td>\n",
       "      <td>16</td>\n",
       "      <td>9.0</td>\n",
       "      <td>59.0</td>\n",
       "    </tr>\n",
       "    <tr>\n",
       "      <th>48</th>\n",
       "      <td>Hanoi</td>\n",
       "      <td>46.0</td>\n",
       "      <td>67.0</td>\n",
       "      <td>12.0</td>\n",
       "      <td>21.0</td>\n",
       "      <td>5.0</td>\n",
       "      <td>24.0</td>\n",
       "      <td>52.0</td>\n",
       "      <td>13</td>\n",
       "      <td>10.0</td>\n",
       "      <td>74.0</td>\n",
       "    </tr>\n",
       "  </tbody>\n",
       "</table>\n",
       "<p>204 rows × 11 columns</p>\n",
       "</div>"
      ],
      "text/plain": [
       "            City  Score  Movehub Rating  Purchase Power  Health Care  \\\n",
       "17   Los Angeles  100.0            87.0            63.0         69.0   \n",
       "43         Paris   96.0            96.0            47.0         83.0   \n",
       "57        London   95.0           100.0            53.0         70.0   \n",
       "63     Melbourne   95.0            93.0            55.0         77.0   \n",
       "12     Cape Town   95.0            88.0            60.0         72.0   \n",
       "..           ...    ...             ...             ...          ...   \n",
       "47        Lahore   53.0            67.0            12.0         49.0   \n",
       "114     Belgrade   52.0            72.0            21.0         53.0   \n",
       "77   Ulaanbaatar   52.0            68.0            15.0         43.0   \n",
       "118         Baku   46.0            66.0            11.0         29.0   \n",
       "48         Hanoi   46.0            67.0            12.0         21.0   \n",
       "\n",
       "     Quality of Life  Pollution  Crime Rating  Congestion Level  Education  \\\n",
       "17              63.0       75.0          66.0                42       81.0   \n",
       "43              53.0       59.0          54.0                39       94.0   \n",
       "57              48.0       58.0          50.0                38       99.0   \n",
       "63              69.0       30.0          49.0                30       98.0   \n",
       "12              79.0       76.0          68.0                32       40.0   \n",
       "..               ...        ...           ...               ...        ...   \n",
       "47              29.0       31.0          52.0                 9       14.0   \n",
       "114             36.0       77.0          38.0                 9        9.0   \n",
       "77              24.0       56.0          47.0                10       15.0   \n",
       "118             17.0       49.0          37.0                16        9.0   \n",
       "48               5.0       24.0          52.0                13       10.0   \n",
       "\n",
       "     Annual Temperature  \n",
       "17                 65.0  \n",
       "43                 54.0  \n",
       "57                 50.0  \n",
       "63                 59.0  \n",
       "12                 61.0  \n",
       "..                  ...  \n",
       "47                 76.0  \n",
       "114                54.0  \n",
       "77                 31.0  \n",
       "118                59.0  \n",
       "48                 74.0  \n",
       "\n",
       "[204 rows x 11 columns]"
      ]
     },
     "execution_count": 25,
     "metadata": {},
     "output_type": "execute_result"
    }
   ],
   "source": [
    "df.sort_values('Score', ascending=False)[['City', 'Score'] + features].round()"
   ]
  },
  {
   "cell_type": "code",
   "execution_count": 109,
   "metadata": {},
   "outputs": [],
   "source": [
    "######################################             End of Plot Making            ############################# "
   ]
  },
  {
   "cell_type": "code",
   "execution_count": 110,
   "metadata": {},
   "outputs": [],
   "source": [
    "######################################             Start of Feeling Lucky Plot          ###################"
   ]
  },
  {
   "cell_type": "code",
   "execution_count": 179,
   "metadata": {},
   "outputs": [],
   "source": [
    "user_input_city=\"Paris\""
   ]
  },
  {
   "cell_type": "code",
   "execution_count": 180,
   "metadata": {},
   "outputs": [
    {
     "data": {
      "text/html": [
       "<div>\n",
       "<style scoped>\n",
       "    .dataframe tbody tr th:only-of-type {\n",
       "        vertical-align: middle;\n",
       "    }\n",
       "\n",
       "    .dataframe tbody tr th {\n",
       "        vertical-align: top;\n",
       "    }\n",
       "\n",
       "    .dataframe thead th {\n",
       "        text-align: right;\n",
       "    }\n",
       "</style>\n",
       "<table border=\"1\" class=\"dataframe\">\n",
       "  <thead>\n",
       "    <tr style=\"text-align: right;\">\n",
       "      <th></th>\n",
       "      <th>City</th>\n",
       "      <th>Movehub Rating</th>\n",
       "      <th>Purchase Power</th>\n",
       "      <th>Health Care</th>\n",
       "      <th>Pollution</th>\n",
       "      <th>Quality of Life</th>\n",
       "      <th>Crime Rating</th>\n",
       "      <th>Congestion Level</th>\n",
       "      <th>Education</th>\n",
       "      <th>Annual Temperature</th>\n",
       "      <th>lat</th>\n",
       "      <th>lng</th>\n",
       "      <th>Description</th>\n",
       "      <th>Cluster</th>\n",
       "      <th>Score</th>\n",
       "    </tr>\n",
       "  </thead>\n",
       "  <tbody>\n",
       "    <tr>\n",
       "      <th>0</th>\n",
       "      <td>Caracas</td>\n",
       "      <td>65.18</td>\n",
       "      <td>11.25</td>\n",
       "      <td>44.44</td>\n",
       "      <td>83.45</td>\n",
       "      <td>8.61</td>\n",
       "      <td>85.70</td>\n",
       "      <td>9</td>\n",
       "      <td>10.00</td>\n",
       "      <td>71.60</td>\n",
       "      <td>10.480594</td>\n",
       "      <td>-66.903606</td>\n",
       "      <td>This is a beautiful city with kind people and ...</td>\n",
       "      <td>2</td>\n",
       "      <td>58.438719</td>\n",
       "    </tr>\n",
       "    <tr>\n",
       "      <th>1</th>\n",
       "      <td>Johannesburg</td>\n",
       "      <td>84.08</td>\n",
       "      <td>53.99</td>\n",
       "      <td>59.98</td>\n",
       "      <td>47.39</td>\n",
       "      <td>51.26</td>\n",
       "      <td>83.93</td>\n",
       "      <td>30</td>\n",
       "      <td>41.50</td>\n",
       "      <td>59.90</td>\n",
       "      <td>-26.204103</td>\n",
       "      <td>28.047305</td>\n",
       "      <td>This is a beautiful city with kind people and ...</td>\n",
       "      <td>1</td>\n",
       "      <td>89.120106</td>\n",
       "    </tr>\n",
       "    <tr>\n",
       "      <th>2</th>\n",
       "      <td>Fortaleza</td>\n",
       "      <td>80.17</td>\n",
       "      <td>52.28</td>\n",
       "      <td>45.46</td>\n",
       "      <td>66.32</td>\n",
       "      <td>36.68</td>\n",
       "      <td>78.65</td>\n",
       "      <td>37</td>\n",
       "      <td>10.00</td>\n",
       "      <td>79.90</td>\n",
       "      <td>-3.732714</td>\n",
       "      <td>-38.526998</td>\n",
       "      <td>This is a beautiful city with kind people and ...</td>\n",
       "      <td>2</td>\n",
       "      <td>79.229470</td>\n",
       "    </tr>\n",
       "    <tr>\n",
       "      <th>3</th>\n",
       "      <td>Mexico City</td>\n",
       "      <td>75.07</td>\n",
       "      <td>24.28</td>\n",
       "      <td>61.76</td>\n",
       "      <td>18.95</td>\n",
       "      <td>27.91</td>\n",
       "      <td>77.86</td>\n",
       "      <td>52</td>\n",
       "      <td>60.25</td>\n",
       "      <td>63.50</td>\n",
       "      <td>19.432608</td>\n",
       "      <td>-99.133208</td>\n",
       "      <td>This is a beautiful city with kind people and ...</td>\n",
       "      <td>1</td>\n",
       "      <td>88.051446</td>\n",
       "    </tr>\n",
       "    <tr>\n",
       "      <th>4</th>\n",
       "      <td>Detroit</td>\n",
       "      <td>70.63</td>\n",
       "      <td>73.81</td>\n",
       "      <td>63.05</td>\n",
       "      <td>83.45</td>\n",
       "      <td>50.99</td>\n",
       "      <td>76.69</td>\n",
       "      <td>16</td>\n",
       "      <td>26.00</td>\n",
       "      <td>50.00</td>\n",
       "      <td>42.331427</td>\n",
       "      <td>-83.045754</td>\n",
       "      <td>This is a beautiful city with kind people and ...</td>\n",
       "      <td>4</td>\n",
       "      <td>76.234893</td>\n",
       "    </tr>\n",
       "    <tr>\n",
       "      <th>...</th>\n",
       "      <td>...</td>\n",
       "      <td>...</td>\n",
       "      <td>...</td>\n",
       "      <td>...</td>\n",
       "      <td>...</td>\n",
       "      <td>...</td>\n",
       "      <td>...</td>\n",
       "      <td>...</td>\n",
       "      <td>...</td>\n",
       "      <td>...</td>\n",
       "      <td>...</td>\n",
       "      <td>...</td>\n",
       "      <td>...</td>\n",
       "      <td>...</td>\n",
       "      <td>...</td>\n",
       "    </tr>\n",
       "    <tr>\n",
       "      <th>199</th>\n",
       "      <td>Munich</td>\n",
       "      <td>86.00</td>\n",
       "      <td>63.28</td>\n",
       "      <td>88.43</td>\n",
       "      <td>43.08</td>\n",
       "      <td>90.08</td>\n",
       "      <td>15.34</td>\n",
       "      <td>30</td>\n",
       "      <td>97.00</td>\n",
       "      <td>46.40</td>\n",
       "      <td>48.135125</td>\n",
       "      <td>11.581980</td>\n",
       "      <td>This is a beautiful city with kind people and ...</td>\n",
       "      <td>3</td>\n",
       "      <td>88.695613</td>\n",
       "    </tr>\n",
       "    <tr>\n",
       "      <th>200</th>\n",
       "      <td>Dusseldorf</td>\n",
       "      <td>83.45</td>\n",
       "      <td>72.52</td>\n",
       "      <td>75.98</td>\n",
       "      <td>8.61</td>\n",
       "      <td>88.02</td>\n",
       "      <td>15.34</td>\n",
       "      <td>24</td>\n",
       "      <td>48.75</td>\n",
       "      <td>50.40</td>\n",
       "      <td>51.227741</td>\n",
       "      <td>6.773456</td>\n",
       "      <td>This is a beautiful city with kind people and ...</td>\n",
       "      <td>7</td>\n",
       "      <td>75.268827</td>\n",
       "    </tr>\n",
       "    <tr>\n",
       "      <th>201</th>\n",
       "      <td>Tokyo</td>\n",
       "      <td>80.00</td>\n",
       "      <td>47.57</td>\n",
       "      <td>71.53</td>\n",
       "      <td>30.54</td>\n",
       "      <td>69.29</td>\n",
       "      <td>13.91</td>\n",
       "      <td>42</td>\n",
       "      <td>98.50</td>\n",
       "      <td>59.70</td>\n",
       "      <td>35.676192</td>\n",
       "      <td>139.650311</td>\n",
       "      <td>This is a beautiful city with kind people and ...</td>\n",
       "      <td>3</td>\n",
       "      <td>84.222674</td>\n",
       "    </tr>\n",
       "    <tr>\n",
       "      <th>202</th>\n",
       "      <td>Abu Dhabi</td>\n",
       "      <td>86.40</td>\n",
       "      <td>68.03</td>\n",
       "      <td>48.02</td>\n",
       "      <td>53.42</td>\n",
       "      <td>80.80</td>\n",
       "      <td>10.86</td>\n",
       "      <td>10</td>\n",
       "      <td>34.75</td>\n",
       "      <td>80.24</td>\n",
       "      <td>24.453884</td>\n",
       "      <td>54.377344</td>\n",
       "      <td>This is a beautiful city with kind people and ...</td>\n",
       "      <td>7</td>\n",
       "      <td>65.462643</td>\n",
       "    </tr>\n",
       "    <tr>\n",
       "      <th>203</th>\n",
       "      <td>Malaga</td>\n",
       "      <td>84.30</td>\n",
       "      <td>45.77</td>\n",
       "      <td>69.17</td>\n",
       "      <td>30.55</td>\n",
       "      <td>67.90</td>\n",
       "      <td>9.11</td>\n",
       "      <td>20</td>\n",
       "      <td>54.50</td>\n",
       "      <td>65.12</td>\n",
       "      <td>36.721178</td>\n",
       "      <td>-4.421720</td>\n",
       "      <td>This is a beautiful city with kind people and ...</td>\n",
       "      <td>7</td>\n",
       "      <td>67.156898</td>\n",
       "    </tr>\n",
       "  </tbody>\n",
       "</table>\n",
       "<p>204 rows × 15 columns</p>\n",
       "</div>"
      ],
      "text/plain": [
       "             City  Movehub Rating  Purchase Power  Health Care  Pollution  \\\n",
       "0         Caracas           65.18           11.25        44.44      83.45   \n",
       "1    Johannesburg           84.08           53.99        59.98      47.39   \n",
       "2       Fortaleza           80.17           52.28        45.46      66.32   \n",
       "3     Mexico City           75.07           24.28        61.76      18.95   \n",
       "4         Detroit           70.63           73.81        63.05      83.45   \n",
       "..            ...             ...             ...          ...        ...   \n",
       "199        Munich           86.00           63.28        88.43      43.08   \n",
       "200    Dusseldorf           83.45           72.52        75.98       8.61   \n",
       "201         Tokyo           80.00           47.57        71.53      30.54   \n",
       "202     Abu Dhabi           86.40           68.03        48.02      53.42   \n",
       "203        Malaga           84.30           45.77        69.17      30.55   \n",
       "\n",
       "     Quality of Life  Crime Rating  Congestion Level  Education  \\\n",
       "0               8.61         85.70                 9      10.00   \n",
       "1              51.26         83.93                30      41.50   \n",
       "2              36.68         78.65                37      10.00   \n",
       "3              27.91         77.86                52      60.25   \n",
       "4              50.99         76.69                16      26.00   \n",
       "..               ...           ...               ...        ...   \n",
       "199            90.08         15.34                30      97.00   \n",
       "200            88.02         15.34                24      48.75   \n",
       "201            69.29         13.91                42      98.50   \n",
       "202            80.80         10.86                10      34.75   \n",
       "203            67.90          9.11                20      54.50   \n",
       "\n",
       "     Annual Temperature        lat         lng  \\\n",
       "0                 71.60  10.480594  -66.903606   \n",
       "1                 59.90 -26.204103   28.047305   \n",
       "2                 79.90  -3.732714  -38.526998   \n",
       "3                 63.50  19.432608  -99.133208   \n",
       "4                 50.00  42.331427  -83.045754   \n",
       "..                  ...        ...         ...   \n",
       "199               46.40  48.135125   11.581980   \n",
       "200               50.40  51.227741    6.773456   \n",
       "201               59.70  35.676192  139.650311   \n",
       "202               80.24  24.453884   54.377344   \n",
       "203               65.12  36.721178   -4.421720   \n",
       "\n",
       "                                           Description  Cluster      Score  \n",
       "0    This is a beautiful city with kind people and ...        2  58.438719  \n",
       "1    This is a beautiful city with kind people and ...        1  89.120106  \n",
       "2    This is a beautiful city with kind people and ...        2  79.229470  \n",
       "3    This is a beautiful city with kind people and ...        1  88.051446  \n",
       "4    This is a beautiful city with kind people and ...        4  76.234893  \n",
       "..                                                 ...      ...        ...  \n",
       "199  This is a beautiful city with kind people and ...        3  88.695613  \n",
       "200  This is a beautiful city with kind people and ...        7  75.268827  \n",
       "201  This is a beautiful city with kind people and ...        3  84.222674  \n",
       "202  This is a beautiful city with kind people and ...        7  65.462643  \n",
       "203  This is a beautiful city with kind people and ...        7  67.156898  \n",
       "\n",
       "[204 rows x 15 columns]"
      ]
     },
     "execution_count": 180,
     "metadata": {},
     "output_type": "execute_result"
    }
   ],
   "source": [
    "df"
   ]
  },
  {
   "cell_type": "code",
   "execution_count": 181,
   "metadata": {},
   "outputs": [
    {
     "data": {
      "text/plain": [
       "43"
      ]
     },
     "execution_count": 181,
     "metadata": {},
     "output_type": "execute_result"
    }
   ],
   "source": [
    "df.index[df['City']==\"Paris\"][0]"
   ]
  },
  {
   "cell_type": "code",
   "execution_count": 182,
   "metadata": {},
   "outputs": [
    {
     "data": {
      "text/plain": [
       "5"
      ]
     },
     "execution_count": 182,
     "metadata": {},
     "output_type": "execute_result"
    }
   ],
   "source": [
    "df.loc[43,\"Cluster\"]"
   ]
  },
  {
   "cell_type": "code",
   "execution_count": 183,
   "metadata": {},
   "outputs": [],
   "source": [
    "def find_df(user_input_city):\n",
    "    index_num=df.index[df['City']==user_input_city][0]\n",
    "    cluster_num=df.loc[index_num,\"Cluster\"]\n",
    "    df_temp=df\n",
    "    rows_to_drop=[]\n",
    "    for i in range(len(df_temp)):\n",
    "        if df_temp.loc[i,\"Cluster\"] !=cluster_num:\n",
    "            rows_to_drop.append(i)\n",
    "    return df_temp.drop(rows_to_drop)\n"
   ]
  },
  {
   "cell_type": "code",
   "execution_count": 184,
   "metadata": {},
   "outputs": [
    {
     "data": {
      "text/html": [
       "<div>\n",
       "<style scoped>\n",
       "    .dataframe tbody tr th:only-of-type {\n",
       "        vertical-align: middle;\n",
       "    }\n",
       "\n",
       "    .dataframe tbody tr th {\n",
       "        vertical-align: top;\n",
       "    }\n",
       "\n",
       "    .dataframe thead th {\n",
       "        text-align: right;\n",
       "    }\n",
       "</style>\n",
       "<table border=\"1\" class=\"dataframe\">\n",
       "  <thead>\n",
       "    <tr style=\"text-align: right;\">\n",
       "      <th></th>\n",
       "      <th>City</th>\n",
       "      <th>Movehub Rating</th>\n",
       "      <th>Purchase Power</th>\n",
       "      <th>Health Care</th>\n",
       "      <th>Pollution</th>\n",
       "      <th>Quality of Life</th>\n",
       "      <th>Crime Rating</th>\n",
       "      <th>Congestion Level</th>\n",
       "      <th>Education</th>\n",
       "      <th>Annual Temperature</th>\n",
       "      <th>lat</th>\n",
       "      <th>lng</th>\n",
       "      <th>Description</th>\n",
       "      <th>Cluster</th>\n",
       "      <th>Score</th>\n",
       "    </tr>\n",
       "  </thead>\n",
       "  <tbody>\n",
       "    <tr>\n",
       "      <th>17</th>\n",
       "      <td>Los Angeles</td>\n",
       "      <td>86.86</td>\n",
       "      <td>62.75</td>\n",
       "      <td>68.61</td>\n",
       "      <td>75.20</td>\n",
       "      <td>62.82</td>\n",
       "      <td>65.74</td>\n",
       "      <td>42</td>\n",
       "      <td>81.25</td>\n",
       "      <td>65.4</td>\n",
       "      <td>34.052234</td>\n",
       "      <td>-118.243685</td>\n",
       "      <td>This is a beautiful city with kind people and ...</td>\n",
       "      <td>5</td>\n",
       "      <td>100.000000</td>\n",
       "    </tr>\n",
       "    <tr>\n",
       "      <th>43</th>\n",
       "      <td>Paris</td>\n",
       "      <td>95.92</td>\n",
       "      <td>47.08</td>\n",
       "      <td>83.33</td>\n",
       "      <td>59.18</td>\n",
       "      <td>52.62</td>\n",
       "      <td>53.75</td>\n",
       "      <td>39</td>\n",
       "      <td>94.25</td>\n",
       "      <td>54.1</td>\n",
       "      <td>48.856614</td>\n",
       "      <td>2.352222</td>\n",
       "      <td>This is a beautiful city with kind people and ...</td>\n",
       "      <td>5</td>\n",
       "      <td>96.404374</td>\n",
       "    </tr>\n",
       "    <tr>\n",
       "      <th>57</th>\n",
       "      <td>London</td>\n",
       "      <td>100.00</td>\n",
       "      <td>53.17</td>\n",
       "      <td>69.53</td>\n",
       "      <td>57.95</td>\n",
       "      <td>47.89</td>\n",
       "      <td>50.14</td>\n",
       "      <td>38</td>\n",
       "      <td>99.25</td>\n",
       "      <td>50.5</td>\n",
       "      <td>51.507351</td>\n",
       "      <td>-0.127758</td>\n",
       "      <td>This is a beautiful city with kind people and ...</td>\n",
       "      <td>5</td>\n",
       "      <td>95.308963</td>\n",
       "    </tr>\n",
       "    <tr>\n",
       "      <th>70</th>\n",
       "      <td>Birmingham</td>\n",
       "      <td>80.85</td>\n",
       "      <td>46.41</td>\n",
       "      <td>75.23</td>\n",
       "      <td>66.53</td>\n",
       "      <td>75.40</td>\n",
       "      <td>47.51</td>\n",
       "      <td>28</td>\n",
       "      <td>63.25</td>\n",
       "      <td>48.6</td>\n",
       "      <td>33.518589</td>\n",
       "      <td>-86.810357</td>\n",
       "      <td>This is a beautiful city with kind people and ...</td>\n",
       "      <td>5</td>\n",
       "      <td>87.053750</td>\n",
       "    </tr>\n",
       "    <tr>\n",
       "      <th>73</th>\n",
       "      <td>Nice</td>\n",
       "      <td>82.55</td>\n",
       "      <td>49.52</td>\n",
       "      <td>87.95</td>\n",
       "      <td>59.19</td>\n",
       "      <td>68.34</td>\n",
       "      <td>47.27</td>\n",
       "      <td>31</td>\n",
       "      <td>64.50</td>\n",
       "      <td>58.6</td>\n",
       "      <td>43.710173</td>\n",
       "      <td>7.261953</td>\n",
       "      <td>This is a beautiful city with kind people and ...</td>\n",
       "      <td>5</td>\n",
       "      <td>86.774289</td>\n",
       "    </tr>\n",
       "    <tr>\n",
       "      <th>98</th>\n",
       "      <td>Barcelona</td>\n",
       "      <td>83.37</td>\n",
       "      <td>45.68</td>\n",
       "      <td>58.47</td>\n",
       "      <td>71.75</td>\n",
       "      <td>47.18</td>\n",
       "      <td>41.47</td>\n",
       "      <td>29</td>\n",
       "      <td>84.25</td>\n",
       "      <td>64.8</td>\n",
       "      <td>36.088106</td>\n",
       "      <td>-95.924131</td>\n",
       "      <td>This is a beautiful city with kind people and ...</td>\n",
       "      <td>5</td>\n",
       "      <td>81.430564</td>\n",
       "    </tr>\n",
       "    <tr>\n",
       "      <th>103</th>\n",
       "      <td>Galway</td>\n",
       "      <td>83.19</td>\n",
       "      <td>58.59</td>\n",
       "      <td>52.97</td>\n",
       "      <td>52.47</td>\n",
       "      <td>77.85</td>\n",
       "      <td>40.78</td>\n",
       "      <td>9</td>\n",
       "      <td>75.00</td>\n",
       "      <td>49.6</td>\n",
       "      <td>53.270668</td>\n",
       "      <td>-9.056790</td>\n",
       "      <td>This is a beautiful city with kind people and ...</td>\n",
       "      <td>5</td>\n",
       "      <td>80.495800</td>\n",
       "    </tr>\n",
       "    <tr>\n",
       "      <th>104</th>\n",
       "      <td>Boston</td>\n",
       "      <td>82.20</td>\n",
       "      <td>59.28</td>\n",
       "      <td>78.04</td>\n",
       "      <td>61.77</td>\n",
       "      <td>82.81</td>\n",
       "      <td>40.69</td>\n",
       "      <td>26</td>\n",
       "      <td>91.00</td>\n",
       "      <td>51.7</td>\n",
       "      <td>42.360083</td>\n",
       "      <td>-71.058880</td>\n",
       "      <td>This is a beautiful city with kind people and ...</td>\n",
       "      <td>5</td>\n",
       "      <td>91.662505</td>\n",
       "    </tr>\n",
       "    <tr>\n",
       "      <th>110</th>\n",
       "      <td>Madrid</td>\n",
       "      <td>85.37</td>\n",
       "      <td>54.07</td>\n",
       "      <td>73.51</td>\n",
       "      <td>55.77</td>\n",
       "      <td>59.87</td>\n",
       "      <td>39.34</td>\n",
       "      <td>23</td>\n",
       "      <td>79.75</td>\n",
       "      <td>59.0</td>\n",
       "      <td>40.416775</td>\n",
       "      <td>-3.703790</td>\n",
       "      <td>This is a beautiful city with kind people and ...</td>\n",
       "      <td>5</td>\n",
       "      <td>81.882091</td>\n",
       "    </tr>\n",
       "    <tr>\n",
       "      <th>130</th>\n",
       "      <td>Malmo</td>\n",
       "      <td>81.37</td>\n",
       "      <td>52.56</td>\n",
       "      <td>87.96</td>\n",
       "      <td>83.45</td>\n",
       "      <td>60.32</td>\n",
       "      <td>33.97</td>\n",
       "      <td>15</td>\n",
       "      <td>87.00</td>\n",
       "      <td>46.6</td>\n",
       "      <td>55.604981</td>\n",
       "      <td>13.003822</td>\n",
       "      <td>This is a beautiful city with kind people and ...</td>\n",
       "      <td>5</td>\n",
       "      <td>78.519368</td>\n",
       "    </tr>\n",
       "    <tr>\n",
       "      <th>152</th>\n",
       "      <td>Amsterdam</td>\n",
       "      <td>84.00</td>\n",
       "      <td>47.18</td>\n",
       "      <td>68.06</td>\n",
       "      <td>53.42</td>\n",
       "      <td>72.85</td>\n",
       "      <td>29.76</td>\n",
       "      <td>26</td>\n",
       "      <td>82.00</td>\n",
       "      <td>48.6</td>\n",
       "      <td>52.367573</td>\n",
       "      <td>4.904139</td>\n",
       "      <td>This is a beautiful city with kind people and ...</td>\n",
       "      <td>5</td>\n",
       "      <td>83.378219</td>\n",
       "    </tr>\n",
       "    <tr>\n",
       "      <th>157</th>\n",
       "      <td>Basel</td>\n",
       "      <td>84.20</td>\n",
       "      <td>78.17</td>\n",
       "      <td>79.74</td>\n",
       "      <td>59.18</td>\n",
       "      <td>88.27</td>\n",
       "      <td>28.12</td>\n",
       "      <td>26</td>\n",
       "      <td>68.00</td>\n",
       "      <td>50.0</td>\n",
       "      <td>47.559599</td>\n",
       "      <td>7.588576</td>\n",
       "      <td>This is a beautiful city with kind people and ...</td>\n",
       "      <td>5</td>\n",
       "      <td>85.735245</td>\n",
       "    </tr>\n",
       "    <tr>\n",
       "      <th>164</th>\n",
       "      <td>Cologne</td>\n",
       "      <td>82.18</td>\n",
       "      <td>59.18</td>\n",
       "      <td>67.88</td>\n",
       "      <td>68.41</td>\n",
       "      <td>82.82</td>\n",
       "      <td>27.08</td>\n",
       "      <td>26</td>\n",
       "      <td>65.75</td>\n",
       "      <td>50.2</td>\n",
       "      <td>50.937531</td>\n",
       "      <td>6.960279</td>\n",
       "      <td>This is a beautiful city with kind people and ...</td>\n",
       "      <td>5</td>\n",
       "      <td>82.581124</td>\n",
       "    </tr>\n",
       "    <tr>\n",
       "      <th>171</th>\n",
       "      <td>Hamburg</td>\n",
       "      <td>84.66</td>\n",
       "      <td>61.13</td>\n",
       "      <td>82.41</td>\n",
       "      <td>67.78</td>\n",
       "      <td>87.18</td>\n",
       "      <td>25.52</td>\n",
       "      <td>34</td>\n",
       "      <td>57.00</td>\n",
       "      <td>47.3</td>\n",
       "      <td>53.551085</td>\n",
       "      <td>9.993682</td>\n",
       "      <td>This is a beautiful city with kind people and ...</td>\n",
       "      <td>5</td>\n",
       "      <td>85.768271</td>\n",
       "    </tr>\n",
       "    <tr>\n",
       "      <th>176</th>\n",
       "      <td>Cambridge</td>\n",
       "      <td>82.15</td>\n",
       "      <td>54.76</td>\n",
       "      <td>81.48</td>\n",
       "      <td>57.18</td>\n",
       "      <td>70.61</td>\n",
       "      <td>24.22</td>\n",
       "      <td>30</td>\n",
       "      <td>99.25</td>\n",
       "      <td>47.3</td>\n",
       "      <td>42.373616</td>\n",
       "      <td>-71.109733</td>\n",
       "      <td>This is a beautiful city with kind people and ...</td>\n",
       "      <td>5</td>\n",
       "      <td>85.443973</td>\n",
       "    </tr>\n",
       "    <tr>\n",
       "      <th>184</th>\n",
       "      <td>Seoul</td>\n",
       "      <td>82.43</td>\n",
       "      <td>54.30</td>\n",
       "      <td>75.00</td>\n",
       "      <td>85.59</td>\n",
       "      <td>60.28</td>\n",
       "      <td>21.35</td>\n",
       "      <td>40</td>\n",
       "      <td>92.50</td>\n",
       "      <td>54.5</td>\n",
       "      <td>37.566535</td>\n",
       "      <td>126.977969</td>\n",
       "      <td>This is a beautiful city with kind people and ...</td>\n",
       "      <td>5</td>\n",
       "      <td>84.793801</td>\n",
       "    </tr>\n",
       "    <tr>\n",
       "      <th>196</th>\n",
       "      <td>Taipei</td>\n",
       "      <td>77.42</td>\n",
       "      <td>38.19</td>\n",
       "      <td>88.89</td>\n",
       "      <td>87.62</td>\n",
       "      <td>52.35</td>\n",
       "      <td>15.71</td>\n",
       "      <td>35</td>\n",
       "      <td>85.75</td>\n",
       "      <td>73.4</td>\n",
       "      <td>25.032969</td>\n",
       "      <td>121.565418</td>\n",
       "      <td>This is a beautiful city with kind people and ...</td>\n",
       "      <td>5</td>\n",
       "      <td>76.122196</td>\n",
       "    </tr>\n",
       "  </tbody>\n",
       "</table>\n",
       "</div>"
      ],
      "text/plain": [
       "            City  Movehub Rating  Purchase Power  Health Care  Pollution  \\\n",
       "17   Los Angeles           86.86           62.75        68.61      75.20   \n",
       "43         Paris           95.92           47.08        83.33      59.18   \n",
       "57        London          100.00           53.17        69.53      57.95   \n",
       "70    Birmingham           80.85           46.41        75.23      66.53   \n",
       "73          Nice           82.55           49.52        87.95      59.19   \n",
       "98     Barcelona           83.37           45.68        58.47      71.75   \n",
       "103       Galway           83.19           58.59        52.97      52.47   \n",
       "104       Boston           82.20           59.28        78.04      61.77   \n",
       "110       Madrid           85.37           54.07        73.51      55.77   \n",
       "130        Malmo           81.37           52.56        87.96      83.45   \n",
       "152    Amsterdam           84.00           47.18        68.06      53.42   \n",
       "157        Basel           84.20           78.17        79.74      59.18   \n",
       "164      Cologne           82.18           59.18        67.88      68.41   \n",
       "171      Hamburg           84.66           61.13        82.41      67.78   \n",
       "176    Cambridge           82.15           54.76        81.48      57.18   \n",
       "184        Seoul           82.43           54.30        75.00      85.59   \n",
       "196       Taipei           77.42           38.19        88.89      87.62   \n",
       "\n",
       "     Quality of Life  Crime Rating  Congestion Level  Education  \\\n",
       "17             62.82         65.74                42      81.25   \n",
       "43             52.62         53.75                39      94.25   \n",
       "57             47.89         50.14                38      99.25   \n",
       "70             75.40         47.51                28      63.25   \n",
       "73             68.34         47.27                31      64.50   \n",
       "98             47.18         41.47                29      84.25   \n",
       "103            77.85         40.78                 9      75.00   \n",
       "104            82.81         40.69                26      91.00   \n",
       "110            59.87         39.34                23      79.75   \n",
       "130            60.32         33.97                15      87.00   \n",
       "152            72.85         29.76                26      82.00   \n",
       "157            88.27         28.12                26      68.00   \n",
       "164            82.82         27.08                26      65.75   \n",
       "171            87.18         25.52                34      57.00   \n",
       "176            70.61         24.22                30      99.25   \n",
       "184            60.28         21.35                40      92.50   \n",
       "196            52.35         15.71                35      85.75   \n",
       "\n",
       "     Annual Temperature        lat         lng  \\\n",
       "17                 65.4  34.052234 -118.243685   \n",
       "43                 54.1  48.856614    2.352222   \n",
       "57                 50.5  51.507351   -0.127758   \n",
       "70                 48.6  33.518589  -86.810357   \n",
       "73                 58.6  43.710173    7.261953   \n",
       "98                 64.8  36.088106  -95.924131   \n",
       "103                49.6  53.270668   -9.056790   \n",
       "104                51.7  42.360083  -71.058880   \n",
       "110                59.0  40.416775   -3.703790   \n",
       "130                46.6  55.604981   13.003822   \n",
       "152                48.6  52.367573    4.904139   \n",
       "157                50.0  47.559599    7.588576   \n",
       "164                50.2  50.937531    6.960279   \n",
       "171                47.3  53.551085    9.993682   \n",
       "176                47.3  42.373616  -71.109733   \n",
       "184                54.5  37.566535  126.977969   \n",
       "196                73.4  25.032969  121.565418   \n",
       "\n",
       "                                           Description  Cluster       Score  \n",
       "17   This is a beautiful city with kind people and ...        5  100.000000  \n",
       "43   This is a beautiful city with kind people and ...        5   96.404374  \n",
       "57   This is a beautiful city with kind people and ...        5   95.308963  \n",
       "70   This is a beautiful city with kind people and ...        5   87.053750  \n",
       "73   This is a beautiful city with kind people and ...        5   86.774289  \n",
       "98   This is a beautiful city with kind people and ...        5   81.430564  \n",
       "103  This is a beautiful city with kind people and ...        5   80.495800  \n",
       "104  This is a beautiful city with kind people and ...        5   91.662505  \n",
       "110  This is a beautiful city with kind people and ...        5   81.882091  \n",
       "130  This is a beautiful city with kind people and ...        5   78.519368  \n",
       "152  This is a beautiful city with kind people and ...        5   83.378219  \n",
       "157  This is a beautiful city with kind people and ...        5   85.735245  \n",
       "164  This is a beautiful city with kind people and ...        5   82.581124  \n",
       "171  This is a beautiful city with kind people and ...        5   85.768271  \n",
       "176  This is a beautiful city with kind people and ...        5   85.443973  \n",
       "184  This is a beautiful city with kind people and ...        5   84.793801  \n",
       "196  This is a beautiful city with kind people and ...        5   76.122196  "
      ]
     },
     "execution_count": 184,
     "metadata": {},
     "output_type": "execute_result"
    }
   ],
   "source": [
    "find_df(user_input_city)"
   ]
  },
  {
   "cell_type": "code",
   "execution_count": 185,
   "metadata": {},
   "outputs": [],
   "source": [
    "def create_lucky_graph(df):\n",
    "    fig = px.scatter_mapbox(df.sort_values('Cluster', ascending=False).round(),\n",
    "                        lat=\"lat\", lon=\"lng\", color=\"Cluster\", hover_name=\"City\",\n",
    "                        hover_data=features,\n",
    "                        size_max=15, zoom=1,\n",
    "                        mapbox_style=\"carto-positron\")\n",
    "    fig.update_layout(coloraxis_showscale=False)\n",
    "    fig.show()"
   ]
  },
  {
   "cell_type": "code",
   "execution_count": 186,
   "metadata": {},
   "outputs": [
    {
     "data": {
      "application/vnd.plotly.v1+json": {
       "config": {
        "plotlyServerURL": "https://plot.ly"
       },
       "data": [
        {
         "customdata": [
          [
           87,
           63,
           69,
           63,
           75,
           66,
           42,
           81,
           65,
           "This is a beautiful city with kind people and pleasant weather."
          ],
          [
           81,
           53,
           88,
           60,
           83,
           34,
           15,
           87,
           47,
           "This is a beautiful city with kind people and pleasant weather."
          ],
          [
           82,
           54,
           75,
           60,
           86,
           21,
           40,
           92,
           54,
           "This is a beautiful city with kind people and pleasant weather."
          ],
          [
           82,
           55,
           81,
           71,
           57,
           24,
           30,
           99,
           47,
           "This is a beautiful city with kind people and pleasant weather."
          ],
          [
           85,
           61,
           82,
           87,
           68,
           26,
           34,
           57,
           47,
           "This is a beautiful city with kind people and pleasant weather."
          ],
          [
           82,
           59,
           68,
           83,
           68,
           27,
           26,
           66,
           50,
           "This is a beautiful city with kind people and pleasant weather."
          ],
          [
           84,
           78,
           80,
           88,
           59,
           28,
           26,
           68,
           50,
           "This is a beautiful city with kind people and pleasant weather."
          ],
          [
           84,
           47,
           68,
           73,
           53,
           30,
           26,
           82,
           49,
           "This is a beautiful city with kind people and pleasant weather."
          ],
          [
           85,
           54,
           74,
           60,
           56,
           39,
           23,
           80,
           59,
           "This is a beautiful city with kind people and pleasant weather."
          ],
          [
           96,
           47,
           83,
           53,
           59,
           54,
           39,
           94,
           54,
           "This is a beautiful city with kind people and pleasant weather."
          ],
          [
           82,
           59,
           78,
           83,
           62,
           41,
           26,
           91,
           52,
           "This is a beautiful city with kind people and pleasant weather."
          ],
          [
           83,
           59,
           53,
           78,
           52,
           41,
           9,
           75,
           50,
           "This is a beautiful city with kind people and pleasant weather."
          ],
          [
           83,
           46,
           58,
           47,
           72,
           41,
           29,
           84,
           65,
           "This is a beautiful city with kind people and pleasant weather."
          ],
          [
           83,
           50,
           88,
           68,
           59,
           47,
           31,
           64,
           59,
           "This is a beautiful city with kind people and pleasant weather."
          ],
          [
           81,
           46,
           75,
           75,
           67,
           48,
           28,
           63,
           49,
           "This is a beautiful city with kind people and pleasant weather."
          ],
          [
           100,
           53,
           70,
           48,
           58,
           50,
           38,
           99,
           50,
           "This is a beautiful city with kind people and pleasant weather."
          ],
          [
           77,
           38,
           89,
           52,
           88,
           16,
           35,
           86,
           73,
           "This is a beautiful city with kind people and pleasant weather."
          ]
         ],
         "hovertemplate": "<b>%{hovertext}</b><br><br>lat=%{lat}<br>lng=%{lon}<br>Movehub Rating=%{customdata[0]}<br>Purchase Power=%{customdata[1]}<br>Health Care=%{customdata[2]}<br>Quality of Life=%{customdata[3]}<br>Pollution=%{customdata[4]}<br>Crime Rating=%{customdata[5]}<br>Congestion Level=%{customdata[6]}<br>Education=%{customdata[7]}<br>Annual Temperature=%{customdata[8]}<br>Description=%{customdata[9]}<br>Cluster=%{marker.color}<extra></extra>",
         "hovertext": [
          "Los Angeles",
          "Malmo",
          "Seoul",
          "Cambridge",
          "Hamburg",
          "Cologne",
          "Basel",
          "Amsterdam",
          "Madrid",
          "Paris",
          "Boston",
          "Galway",
          "Barcelona",
          "Nice",
          "Birmingham",
          "London",
          "Taipei"
         ],
         "lat": [
          34,
          56,
          38,
          42,
          54,
          51,
          48,
          52,
          40,
          49,
          42,
          53,
          36,
          44,
          34,
          52,
          25
         ],
         "legendgroup": "",
         "lon": [
          -118,
          13,
          127,
          -71,
          10,
          7,
          8,
          5,
          -4,
          2,
          -71,
          -9,
          -96,
          7,
          -87,
          0,
          122
         ],
         "marker": {
          "color": [
           5,
           5,
           5,
           5,
           5,
           5,
           5,
           5,
           5,
           5,
           5,
           5,
           5,
           5,
           5,
           5,
           5
          ],
          "coloraxis": "coloraxis"
         },
         "mode": "markers",
         "name": "",
         "showlegend": false,
         "subplot": "mapbox",
         "type": "scattermapbox"
        }
       ],
       "layout": {
        "coloraxis": {
         "colorbar": {
          "title": {
           "text": "Cluster"
          }
         },
         "colorscale": [
          [
           0,
           "#0d0887"
          ],
          [
           0.1111111111111111,
           "#46039f"
          ],
          [
           0.2222222222222222,
           "#7201a8"
          ],
          [
           0.3333333333333333,
           "#9c179e"
          ],
          [
           0.4444444444444444,
           "#bd3786"
          ],
          [
           0.5555555555555556,
           "#d8576b"
          ],
          [
           0.6666666666666666,
           "#ed7953"
          ],
          [
           0.7777777777777778,
           "#fb9f3a"
          ],
          [
           0.8888888888888888,
           "#fdca26"
          ],
          [
           1,
           "#f0f921"
          ]
         ],
         "showscale": false
        },
        "legend": {
         "tracegroupgap": 0
        },
        "mapbox": {
         "center": {
          "lat": 44.11764705882353,
          "lon": -9.117647058823529
         },
         "domain": {
          "x": [
           0,
           1
          ],
          "y": [
           0,
           1
          ]
         },
         "style": "carto-positron",
         "zoom": 1
        },
        "margin": {
         "t": 60
        },
        "template": {
         "data": {
          "bar": [
           {
            "error_x": {
             "color": "#2a3f5f"
            },
            "error_y": {
             "color": "#2a3f5f"
            },
            "marker": {
             "line": {
              "color": "#E5ECF6",
              "width": 0.5
             }
            },
            "type": "bar"
           }
          ],
          "barpolar": [
           {
            "marker": {
             "line": {
              "color": "#E5ECF6",
              "width": 0.5
             }
            },
            "type": "barpolar"
           }
          ],
          "carpet": [
           {
            "aaxis": {
             "endlinecolor": "#2a3f5f",
             "gridcolor": "white",
             "linecolor": "white",
             "minorgridcolor": "white",
             "startlinecolor": "#2a3f5f"
            },
            "baxis": {
             "endlinecolor": "#2a3f5f",
             "gridcolor": "white",
             "linecolor": "white",
             "minorgridcolor": "white",
             "startlinecolor": "#2a3f5f"
            },
            "type": "carpet"
           }
          ],
          "choropleth": [
           {
            "colorbar": {
             "outlinewidth": 0,
             "ticks": ""
            },
            "type": "choropleth"
           }
          ],
          "contour": [
           {
            "colorbar": {
             "outlinewidth": 0,
             "ticks": ""
            },
            "colorscale": [
             [
              0,
              "#0d0887"
             ],
             [
              0.1111111111111111,
              "#46039f"
             ],
             [
              0.2222222222222222,
              "#7201a8"
             ],
             [
              0.3333333333333333,
              "#9c179e"
             ],
             [
              0.4444444444444444,
              "#bd3786"
             ],
             [
              0.5555555555555556,
              "#d8576b"
             ],
             [
              0.6666666666666666,
              "#ed7953"
             ],
             [
              0.7777777777777778,
              "#fb9f3a"
             ],
             [
              0.8888888888888888,
              "#fdca26"
             ],
             [
              1,
              "#f0f921"
             ]
            ],
            "type": "contour"
           }
          ],
          "contourcarpet": [
           {
            "colorbar": {
             "outlinewidth": 0,
             "ticks": ""
            },
            "type": "contourcarpet"
           }
          ],
          "heatmap": [
           {
            "colorbar": {
             "outlinewidth": 0,
             "ticks": ""
            },
            "colorscale": [
             [
              0,
              "#0d0887"
             ],
             [
              0.1111111111111111,
              "#46039f"
             ],
             [
              0.2222222222222222,
              "#7201a8"
             ],
             [
              0.3333333333333333,
              "#9c179e"
             ],
             [
              0.4444444444444444,
              "#bd3786"
             ],
             [
              0.5555555555555556,
              "#d8576b"
             ],
             [
              0.6666666666666666,
              "#ed7953"
             ],
             [
              0.7777777777777778,
              "#fb9f3a"
             ],
             [
              0.8888888888888888,
              "#fdca26"
             ],
             [
              1,
              "#f0f921"
             ]
            ],
            "type": "heatmap"
           }
          ],
          "heatmapgl": [
           {
            "colorbar": {
             "outlinewidth": 0,
             "ticks": ""
            },
            "colorscale": [
             [
              0,
              "#0d0887"
             ],
             [
              0.1111111111111111,
              "#46039f"
             ],
             [
              0.2222222222222222,
              "#7201a8"
             ],
             [
              0.3333333333333333,
              "#9c179e"
             ],
             [
              0.4444444444444444,
              "#bd3786"
             ],
             [
              0.5555555555555556,
              "#d8576b"
             ],
             [
              0.6666666666666666,
              "#ed7953"
             ],
             [
              0.7777777777777778,
              "#fb9f3a"
             ],
             [
              0.8888888888888888,
              "#fdca26"
             ],
             [
              1,
              "#f0f921"
             ]
            ],
            "type": "heatmapgl"
           }
          ],
          "histogram": [
           {
            "marker": {
             "colorbar": {
              "outlinewidth": 0,
              "ticks": ""
             }
            },
            "type": "histogram"
           }
          ],
          "histogram2d": [
           {
            "colorbar": {
             "outlinewidth": 0,
             "ticks": ""
            },
            "colorscale": [
             [
              0,
              "#0d0887"
             ],
             [
              0.1111111111111111,
              "#46039f"
             ],
             [
              0.2222222222222222,
              "#7201a8"
             ],
             [
              0.3333333333333333,
              "#9c179e"
             ],
             [
              0.4444444444444444,
              "#bd3786"
             ],
             [
              0.5555555555555556,
              "#d8576b"
             ],
             [
              0.6666666666666666,
              "#ed7953"
             ],
             [
              0.7777777777777778,
              "#fb9f3a"
             ],
             [
              0.8888888888888888,
              "#fdca26"
             ],
             [
              1,
              "#f0f921"
             ]
            ],
            "type": "histogram2d"
           }
          ],
          "histogram2dcontour": [
           {
            "colorbar": {
             "outlinewidth": 0,
             "ticks": ""
            },
            "colorscale": [
             [
              0,
              "#0d0887"
             ],
             [
              0.1111111111111111,
              "#46039f"
             ],
             [
              0.2222222222222222,
              "#7201a8"
             ],
             [
              0.3333333333333333,
              "#9c179e"
             ],
             [
              0.4444444444444444,
              "#bd3786"
             ],
             [
              0.5555555555555556,
              "#d8576b"
             ],
             [
              0.6666666666666666,
              "#ed7953"
             ],
             [
              0.7777777777777778,
              "#fb9f3a"
             ],
             [
              0.8888888888888888,
              "#fdca26"
             ],
             [
              1,
              "#f0f921"
             ]
            ],
            "type": "histogram2dcontour"
           }
          ],
          "mesh3d": [
           {
            "colorbar": {
             "outlinewidth": 0,
             "ticks": ""
            },
            "type": "mesh3d"
           }
          ],
          "parcoords": [
           {
            "line": {
             "colorbar": {
              "outlinewidth": 0,
              "ticks": ""
             }
            },
            "type": "parcoords"
           }
          ],
          "pie": [
           {
            "automargin": true,
            "type": "pie"
           }
          ],
          "scatter": [
           {
            "marker": {
             "colorbar": {
              "outlinewidth": 0,
              "ticks": ""
             }
            },
            "type": "scatter"
           }
          ],
          "scatter3d": [
           {
            "line": {
             "colorbar": {
              "outlinewidth": 0,
              "ticks": ""
             }
            },
            "marker": {
             "colorbar": {
              "outlinewidth": 0,
              "ticks": ""
             }
            },
            "type": "scatter3d"
           }
          ],
          "scattercarpet": [
           {
            "marker": {
             "colorbar": {
              "outlinewidth": 0,
              "ticks": ""
             }
            },
            "type": "scattercarpet"
           }
          ],
          "scattergeo": [
           {
            "marker": {
             "colorbar": {
              "outlinewidth": 0,
              "ticks": ""
             }
            },
            "type": "scattergeo"
           }
          ],
          "scattergl": [
           {
            "marker": {
             "colorbar": {
              "outlinewidth": 0,
              "ticks": ""
             }
            },
            "type": "scattergl"
           }
          ],
          "scattermapbox": [
           {
            "marker": {
             "colorbar": {
              "outlinewidth": 0,
              "ticks": ""
             }
            },
            "type": "scattermapbox"
           }
          ],
          "scatterpolar": [
           {
            "marker": {
             "colorbar": {
              "outlinewidth": 0,
              "ticks": ""
             }
            },
            "type": "scatterpolar"
           }
          ],
          "scatterpolargl": [
           {
            "marker": {
             "colorbar": {
              "outlinewidth": 0,
              "ticks": ""
             }
            },
            "type": "scatterpolargl"
           }
          ],
          "scatterternary": [
           {
            "marker": {
             "colorbar": {
              "outlinewidth": 0,
              "ticks": ""
             }
            },
            "type": "scatterternary"
           }
          ],
          "surface": [
           {
            "colorbar": {
             "outlinewidth": 0,
             "ticks": ""
            },
            "colorscale": [
             [
              0,
              "#0d0887"
             ],
             [
              0.1111111111111111,
              "#46039f"
             ],
             [
              0.2222222222222222,
              "#7201a8"
             ],
             [
              0.3333333333333333,
              "#9c179e"
             ],
             [
              0.4444444444444444,
              "#bd3786"
             ],
             [
              0.5555555555555556,
              "#d8576b"
             ],
             [
              0.6666666666666666,
              "#ed7953"
             ],
             [
              0.7777777777777778,
              "#fb9f3a"
             ],
             [
              0.8888888888888888,
              "#fdca26"
             ],
             [
              1,
              "#f0f921"
             ]
            ],
            "type": "surface"
           }
          ],
          "table": [
           {
            "cells": {
             "fill": {
              "color": "#EBF0F8"
             },
             "line": {
              "color": "white"
             }
            },
            "header": {
             "fill": {
              "color": "#C8D4E3"
             },
             "line": {
              "color": "white"
             }
            },
            "type": "table"
           }
          ]
         },
         "layout": {
          "annotationdefaults": {
           "arrowcolor": "#2a3f5f",
           "arrowhead": 0,
           "arrowwidth": 1
          },
          "coloraxis": {
           "colorbar": {
            "outlinewidth": 0,
            "ticks": ""
           }
          },
          "colorscale": {
           "diverging": [
            [
             0,
             "#8e0152"
            ],
            [
             0.1,
             "#c51b7d"
            ],
            [
             0.2,
             "#de77ae"
            ],
            [
             0.3,
             "#f1b6da"
            ],
            [
             0.4,
             "#fde0ef"
            ],
            [
             0.5,
             "#f7f7f7"
            ],
            [
             0.6,
             "#e6f5d0"
            ],
            [
             0.7,
             "#b8e186"
            ],
            [
             0.8,
             "#7fbc41"
            ],
            [
             0.9,
             "#4d9221"
            ],
            [
             1,
             "#276419"
            ]
           ],
           "sequential": [
            [
             0,
             "#0d0887"
            ],
            [
             0.1111111111111111,
             "#46039f"
            ],
            [
             0.2222222222222222,
             "#7201a8"
            ],
            [
             0.3333333333333333,
             "#9c179e"
            ],
            [
             0.4444444444444444,
             "#bd3786"
            ],
            [
             0.5555555555555556,
             "#d8576b"
            ],
            [
             0.6666666666666666,
             "#ed7953"
            ],
            [
             0.7777777777777778,
             "#fb9f3a"
            ],
            [
             0.8888888888888888,
             "#fdca26"
            ],
            [
             1,
             "#f0f921"
            ]
           ],
           "sequentialminus": [
            [
             0,
             "#0d0887"
            ],
            [
             0.1111111111111111,
             "#46039f"
            ],
            [
             0.2222222222222222,
             "#7201a8"
            ],
            [
             0.3333333333333333,
             "#9c179e"
            ],
            [
             0.4444444444444444,
             "#bd3786"
            ],
            [
             0.5555555555555556,
             "#d8576b"
            ],
            [
             0.6666666666666666,
             "#ed7953"
            ],
            [
             0.7777777777777778,
             "#fb9f3a"
            ],
            [
             0.8888888888888888,
             "#fdca26"
            ],
            [
             1,
             "#f0f921"
            ]
           ]
          },
          "colorway": [
           "#636efa",
           "#EF553B",
           "#00cc96",
           "#ab63fa",
           "#FFA15A",
           "#19d3f3",
           "#FF6692",
           "#B6E880",
           "#FF97FF",
           "#FECB52"
          ],
          "font": {
           "color": "#2a3f5f"
          },
          "geo": {
           "bgcolor": "white",
           "lakecolor": "white",
           "landcolor": "#E5ECF6",
           "showlakes": true,
           "showland": true,
           "subunitcolor": "white"
          },
          "hoverlabel": {
           "align": "left"
          },
          "hovermode": "closest",
          "mapbox": {
           "style": "light"
          },
          "paper_bgcolor": "white",
          "plot_bgcolor": "#E5ECF6",
          "polar": {
           "angularaxis": {
            "gridcolor": "white",
            "linecolor": "white",
            "ticks": ""
           },
           "bgcolor": "#E5ECF6",
           "radialaxis": {
            "gridcolor": "white",
            "linecolor": "white",
            "ticks": ""
           }
          },
          "scene": {
           "xaxis": {
            "backgroundcolor": "#E5ECF6",
            "gridcolor": "white",
            "gridwidth": 2,
            "linecolor": "white",
            "showbackground": true,
            "ticks": "",
            "zerolinecolor": "white"
           },
           "yaxis": {
            "backgroundcolor": "#E5ECF6",
            "gridcolor": "white",
            "gridwidth": 2,
            "linecolor": "white",
            "showbackground": true,
            "ticks": "",
            "zerolinecolor": "white"
           },
           "zaxis": {
            "backgroundcolor": "#E5ECF6",
            "gridcolor": "white",
            "gridwidth": 2,
            "linecolor": "white",
            "showbackground": true,
            "ticks": "",
            "zerolinecolor": "white"
           }
          },
          "shapedefaults": {
           "line": {
            "color": "#2a3f5f"
           }
          },
          "ternary": {
           "aaxis": {
            "gridcolor": "white",
            "linecolor": "white",
            "ticks": ""
           },
           "baxis": {
            "gridcolor": "white",
            "linecolor": "white",
            "ticks": ""
           },
           "bgcolor": "#E5ECF6",
           "caxis": {
            "gridcolor": "white",
            "linecolor": "white",
            "ticks": ""
           }
          },
          "title": {
           "x": 0.05
          },
          "xaxis": {
           "automargin": true,
           "gridcolor": "white",
           "linecolor": "white",
           "ticks": "",
           "title": {
            "standoff": 15
           },
           "zerolinecolor": "white",
           "zerolinewidth": 2
          },
          "yaxis": {
           "automargin": true,
           "gridcolor": "white",
           "linecolor": "white",
           "ticks": "",
           "title": {
            "standoff": 15
           },
           "zerolinecolor": "white",
           "zerolinewidth": 2
          }
         }
        }
       }
      },
      "text/html": [
       "<div>                            <div id=\"3df6ebd8-a734-42e4-a822-592b06525e68\" class=\"plotly-graph-div\" style=\"height:525px; width:100%;\"></div>            <script type=\"text/javascript\">                require([\"plotly\"], function(Plotly) {                    window.PLOTLYENV=window.PLOTLYENV || {};                                    if (document.getElementById(\"3df6ebd8-a734-42e4-a822-592b06525e68\")) {                    Plotly.newPlot(                        \"3df6ebd8-a734-42e4-a822-592b06525e68\",                        [{\"customdata\": [[87.0, 63.0, 69.0, 63.0, 75.0, 66.0, 42, 81.0, 65.0, \"This is a beautiful city with kind people and pleasant weather.\"], [81.0, 53.0, 88.0, 60.0, 83.0, 34.0, 15, 87.0, 47.0, \"This is a beautiful city with kind people and pleasant weather.\"], [82.0, 54.0, 75.0, 60.0, 86.0, 21.0, 40, 92.0, 54.0, \"This is a beautiful city with kind people and pleasant weather.\"], [82.0, 55.0, 81.0, 71.0, 57.0, 24.0, 30, 99.0, 47.0, \"This is a beautiful city with kind people and pleasant weather.\"], [85.0, 61.0, 82.0, 87.0, 68.0, 26.0, 34, 57.0, 47.0, \"This is a beautiful city with kind people and pleasant weather.\"], [82.0, 59.0, 68.0, 83.0, 68.0, 27.0, 26, 66.0, 50.0, \"This is a beautiful city with kind people and pleasant weather.\"], [84.0, 78.0, 80.0, 88.0, 59.0, 28.0, 26, 68.0, 50.0, \"This is a beautiful city with kind people and pleasant weather.\"], [84.0, 47.0, 68.0, 73.0, 53.0, 30.0, 26, 82.0, 49.0, \"This is a beautiful city with kind people and pleasant weather.\"], [85.0, 54.0, 74.0, 60.0, 56.0, 39.0, 23, 80.0, 59.0, \"This is a beautiful city with kind people and pleasant weather.\"], [96.0, 47.0, 83.0, 53.0, 59.0, 54.0, 39, 94.0, 54.0, \"This is a beautiful city with kind people and pleasant weather.\"], [82.0, 59.0, 78.0, 83.0, 62.0, 41.0, 26, 91.0, 52.0, \"This is a beautiful city with kind people and pleasant weather.\"], [83.0, 59.0, 53.0, 78.0, 52.0, 41.0, 9, 75.0, 50.0, \"This is a beautiful city with kind people and pleasant weather.\"], [83.0, 46.0, 58.0, 47.0, 72.0, 41.0, 29, 84.0, 65.0, \"This is a beautiful city with kind people and pleasant weather.\"], [83.0, 50.0, 88.0, 68.0, 59.0, 47.0, 31, 64.0, 59.0, \"This is a beautiful city with kind people and pleasant weather.\"], [81.0, 46.0, 75.0, 75.0, 67.0, 48.0, 28, 63.0, 49.0, \"This is a beautiful city with kind people and pleasant weather.\"], [100.0, 53.0, 70.0, 48.0, 58.0, 50.0, 38, 99.0, 50.0, \"This is a beautiful city with kind people and pleasant weather.\"], [77.0, 38.0, 89.0, 52.0, 88.0, 16.0, 35, 86.0, 73.0, \"This is a beautiful city with kind people and pleasant weather.\"]], \"hovertemplate\": \"<b>%{hovertext}</b><br><br>lat=%{lat}<br>lng=%{lon}<br>Movehub Rating=%{customdata[0]}<br>Purchase Power=%{customdata[1]}<br>Health Care=%{customdata[2]}<br>Quality of Life=%{customdata[3]}<br>Pollution=%{customdata[4]}<br>Crime Rating=%{customdata[5]}<br>Congestion Level=%{customdata[6]}<br>Education=%{customdata[7]}<br>Annual Temperature=%{customdata[8]}<br>Description=%{customdata[9]}<br>Cluster=%{marker.color}<extra></extra>\", \"hovertext\": [\"Los Angeles\", \"Malmo\", \"Seoul\", \"Cambridge\", \"Hamburg\", \"Cologne\", \"Basel\", \"Amsterdam\", \"Madrid\", \"Paris\", \"Boston\", \"Galway\", \"Barcelona\", \"Nice\", \"Birmingham\", \"London\", \"Taipei\"], \"lat\": [34.0, 56.0, 38.0, 42.0, 54.0, 51.0, 48.0, 52.0, 40.0, 49.0, 42.0, 53.0, 36.0, 44.0, 34.0, 52.0, 25.0], \"legendgroup\": \"\", \"lon\": [-118.0, 13.0, 127.0, -71.0, 10.0, 7.0, 8.0, 5.0, -4.0, 2.0, -71.0, -9.0, -96.0, 7.0, -87.0, -0.0, 122.0], \"marker\": {\"color\": [5, 5, 5, 5, 5, 5, 5, 5, 5, 5, 5, 5, 5, 5, 5, 5, 5], \"coloraxis\": \"coloraxis\"}, \"mode\": \"markers\", \"name\": \"\", \"showlegend\": false, \"subplot\": \"mapbox\", \"type\": \"scattermapbox\"}],                        {\"coloraxis\": {\"colorbar\": {\"title\": {\"text\": \"Cluster\"}}, \"colorscale\": [[0.0, \"#0d0887\"], [0.1111111111111111, \"#46039f\"], [0.2222222222222222, \"#7201a8\"], [0.3333333333333333, \"#9c179e\"], [0.4444444444444444, \"#bd3786\"], [0.5555555555555556, \"#d8576b\"], [0.6666666666666666, \"#ed7953\"], [0.7777777777777778, \"#fb9f3a\"], [0.8888888888888888, \"#fdca26\"], [1.0, \"#f0f921\"]], \"showscale\": false}, \"legend\": {\"tracegroupgap\": 0}, \"mapbox\": {\"center\": {\"lat\": 44.11764705882353, \"lon\": -9.117647058823529}, \"domain\": {\"x\": [0.0, 1.0], \"y\": [0.0, 1.0]}, \"style\": \"carto-positron\", \"zoom\": 1}, \"margin\": {\"t\": 60}, \"template\": {\"data\": {\"bar\": [{\"error_x\": {\"color\": \"#2a3f5f\"}, \"error_y\": {\"color\": \"#2a3f5f\"}, \"marker\": {\"line\": {\"color\": \"#E5ECF6\", \"width\": 0.5}}, \"type\": \"bar\"}], \"barpolar\": [{\"marker\": {\"line\": {\"color\": \"#E5ECF6\", \"width\": 0.5}}, \"type\": \"barpolar\"}], \"carpet\": [{\"aaxis\": {\"endlinecolor\": \"#2a3f5f\", \"gridcolor\": \"white\", \"linecolor\": \"white\", \"minorgridcolor\": \"white\", \"startlinecolor\": \"#2a3f5f\"}, \"baxis\": {\"endlinecolor\": \"#2a3f5f\", \"gridcolor\": \"white\", \"linecolor\": \"white\", \"minorgridcolor\": \"white\", \"startlinecolor\": \"#2a3f5f\"}, \"type\": \"carpet\"}], \"choropleth\": [{\"colorbar\": {\"outlinewidth\": 0, \"ticks\": \"\"}, \"type\": \"choropleth\"}], \"contour\": [{\"colorbar\": {\"outlinewidth\": 0, \"ticks\": \"\"}, \"colorscale\": [[0.0, \"#0d0887\"], [0.1111111111111111, \"#46039f\"], [0.2222222222222222, \"#7201a8\"], [0.3333333333333333, \"#9c179e\"], [0.4444444444444444, \"#bd3786\"], [0.5555555555555556, \"#d8576b\"], [0.6666666666666666, \"#ed7953\"], [0.7777777777777778, \"#fb9f3a\"], [0.8888888888888888, \"#fdca26\"], [1.0, \"#f0f921\"]], \"type\": \"contour\"}], \"contourcarpet\": [{\"colorbar\": {\"outlinewidth\": 0, \"ticks\": \"\"}, \"type\": \"contourcarpet\"}], \"heatmap\": [{\"colorbar\": {\"outlinewidth\": 0, \"ticks\": \"\"}, \"colorscale\": [[0.0, \"#0d0887\"], [0.1111111111111111, \"#46039f\"], [0.2222222222222222, \"#7201a8\"], [0.3333333333333333, \"#9c179e\"], [0.4444444444444444, \"#bd3786\"], [0.5555555555555556, \"#d8576b\"], [0.6666666666666666, \"#ed7953\"], [0.7777777777777778, \"#fb9f3a\"], [0.8888888888888888, \"#fdca26\"], [1.0, \"#f0f921\"]], \"type\": \"heatmap\"}], \"heatmapgl\": [{\"colorbar\": {\"outlinewidth\": 0, \"ticks\": \"\"}, \"colorscale\": [[0.0, \"#0d0887\"], [0.1111111111111111, \"#46039f\"], [0.2222222222222222, \"#7201a8\"], [0.3333333333333333, \"#9c179e\"], [0.4444444444444444, \"#bd3786\"], [0.5555555555555556, \"#d8576b\"], [0.6666666666666666, \"#ed7953\"], [0.7777777777777778, \"#fb9f3a\"], [0.8888888888888888, \"#fdca26\"], [1.0, \"#f0f921\"]], \"type\": \"heatmapgl\"}], \"histogram\": [{\"marker\": {\"colorbar\": {\"outlinewidth\": 0, \"ticks\": \"\"}}, \"type\": \"histogram\"}], \"histogram2d\": [{\"colorbar\": {\"outlinewidth\": 0, \"ticks\": \"\"}, \"colorscale\": [[0.0, \"#0d0887\"], [0.1111111111111111, \"#46039f\"], [0.2222222222222222, \"#7201a8\"], [0.3333333333333333, \"#9c179e\"], [0.4444444444444444, \"#bd3786\"], [0.5555555555555556, \"#d8576b\"], [0.6666666666666666, \"#ed7953\"], [0.7777777777777778, \"#fb9f3a\"], [0.8888888888888888, \"#fdca26\"], [1.0, \"#f0f921\"]], \"type\": \"histogram2d\"}], \"histogram2dcontour\": [{\"colorbar\": {\"outlinewidth\": 0, \"ticks\": \"\"}, \"colorscale\": [[0.0, \"#0d0887\"], [0.1111111111111111, \"#46039f\"], [0.2222222222222222, \"#7201a8\"], [0.3333333333333333, \"#9c179e\"], [0.4444444444444444, \"#bd3786\"], [0.5555555555555556, \"#d8576b\"], [0.6666666666666666, \"#ed7953\"], [0.7777777777777778, \"#fb9f3a\"], [0.8888888888888888, \"#fdca26\"], [1.0, \"#f0f921\"]], \"type\": \"histogram2dcontour\"}], \"mesh3d\": [{\"colorbar\": {\"outlinewidth\": 0, \"ticks\": \"\"}, \"type\": \"mesh3d\"}], \"parcoords\": [{\"line\": {\"colorbar\": {\"outlinewidth\": 0, \"ticks\": \"\"}}, \"type\": \"parcoords\"}], \"pie\": [{\"automargin\": true, \"type\": \"pie\"}], \"scatter\": [{\"marker\": {\"colorbar\": {\"outlinewidth\": 0, \"ticks\": \"\"}}, \"type\": \"scatter\"}], \"scatter3d\": [{\"line\": {\"colorbar\": {\"outlinewidth\": 0, \"ticks\": \"\"}}, \"marker\": {\"colorbar\": {\"outlinewidth\": 0, \"ticks\": \"\"}}, \"type\": \"scatter3d\"}], \"scattercarpet\": [{\"marker\": {\"colorbar\": {\"outlinewidth\": 0, \"ticks\": \"\"}}, \"type\": \"scattercarpet\"}], \"scattergeo\": [{\"marker\": {\"colorbar\": {\"outlinewidth\": 0, \"ticks\": \"\"}}, \"type\": \"scattergeo\"}], \"scattergl\": [{\"marker\": {\"colorbar\": {\"outlinewidth\": 0, \"ticks\": \"\"}}, \"type\": \"scattergl\"}], \"scattermapbox\": [{\"marker\": {\"colorbar\": {\"outlinewidth\": 0, \"ticks\": \"\"}}, \"type\": \"scattermapbox\"}], \"scatterpolar\": [{\"marker\": {\"colorbar\": {\"outlinewidth\": 0, \"ticks\": \"\"}}, \"type\": \"scatterpolar\"}], \"scatterpolargl\": [{\"marker\": {\"colorbar\": {\"outlinewidth\": 0, \"ticks\": \"\"}}, \"type\": \"scatterpolargl\"}], \"scatterternary\": [{\"marker\": {\"colorbar\": {\"outlinewidth\": 0, \"ticks\": \"\"}}, \"type\": \"scatterternary\"}], \"surface\": [{\"colorbar\": {\"outlinewidth\": 0, \"ticks\": \"\"}, \"colorscale\": [[0.0, \"#0d0887\"], [0.1111111111111111, \"#46039f\"], [0.2222222222222222, \"#7201a8\"], [0.3333333333333333, \"#9c179e\"], [0.4444444444444444, \"#bd3786\"], [0.5555555555555556, \"#d8576b\"], [0.6666666666666666, \"#ed7953\"], [0.7777777777777778, \"#fb9f3a\"], [0.8888888888888888, \"#fdca26\"], [1.0, \"#f0f921\"]], \"type\": \"surface\"}], \"table\": [{\"cells\": {\"fill\": {\"color\": \"#EBF0F8\"}, \"line\": {\"color\": \"white\"}}, \"header\": {\"fill\": {\"color\": \"#C8D4E3\"}, \"line\": {\"color\": \"white\"}}, \"type\": \"table\"}]}, \"layout\": {\"annotationdefaults\": {\"arrowcolor\": \"#2a3f5f\", \"arrowhead\": 0, \"arrowwidth\": 1}, \"coloraxis\": {\"colorbar\": {\"outlinewidth\": 0, \"ticks\": \"\"}}, \"colorscale\": {\"diverging\": [[0, \"#8e0152\"], [0.1, \"#c51b7d\"], [0.2, \"#de77ae\"], [0.3, \"#f1b6da\"], [0.4, \"#fde0ef\"], [0.5, \"#f7f7f7\"], [0.6, \"#e6f5d0\"], [0.7, \"#b8e186\"], [0.8, \"#7fbc41\"], [0.9, \"#4d9221\"], [1, \"#276419\"]], \"sequential\": [[0.0, \"#0d0887\"], [0.1111111111111111, \"#46039f\"], [0.2222222222222222, \"#7201a8\"], [0.3333333333333333, \"#9c179e\"], [0.4444444444444444, \"#bd3786\"], [0.5555555555555556, \"#d8576b\"], [0.6666666666666666, \"#ed7953\"], [0.7777777777777778, \"#fb9f3a\"], [0.8888888888888888, \"#fdca26\"], [1.0, \"#f0f921\"]], \"sequentialminus\": [[0.0, \"#0d0887\"], [0.1111111111111111, \"#46039f\"], [0.2222222222222222, \"#7201a8\"], [0.3333333333333333, \"#9c179e\"], [0.4444444444444444, \"#bd3786\"], [0.5555555555555556, \"#d8576b\"], [0.6666666666666666, \"#ed7953\"], [0.7777777777777778, \"#fb9f3a\"], [0.8888888888888888, \"#fdca26\"], [1.0, \"#f0f921\"]]}, \"colorway\": [\"#636efa\", \"#EF553B\", \"#00cc96\", \"#ab63fa\", \"#FFA15A\", \"#19d3f3\", \"#FF6692\", \"#B6E880\", \"#FF97FF\", \"#FECB52\"], \"font\": {\"color\": \"#2a3f5f\"}, \"geo\": {\"bgcolor\": \"white\", \"lakecolor\": \"white\", \"landcolor\": \"#E5ECF6\", \"showlakes\": true, \"showland\": true, \"subunitcolor\": \"white\"}, \"hoverlabel\": {\"align\": \"left\"}, \"hovermode\": \"closest\", \"mapbox\": {\"style\": \"light\"}, \"paper_bgcolor\": \"white\", \"plot_bgcolor\": \"#E5ECF6\", \"polar\": {\"angularaxis\": {\"gridcolor\": \"white\", \"linecolor\": \"white\", \"ticks\": \"\"}, \"bgcolor\": \"#E5ECF6\", \"radialaxis\": {\"gridcolor\": \"white\", \"linecolor\": \"white\", \"ticks\": \"\"}}, \"scene\": {\"xaxis\": {\"backgroundcolor\": \"#E5ECF6\", \"gridcolor\": \"white\", \"gridwidth\": 2, \"linecolor\": \"white\", \"showbackground\": true, \"ticks\": \"\", \"zerolinecolor\": \"white\"}, \"yaxis\": {\"backgroundcolor\": \"#E5ECF6\", \"gridcolor\": \"white\", \"gridwidth\": 2, \"linecolor\": \"white\", \"showbackground\": true, \"ticks\": \"\", \"zerolinecolor\": \"white\"}, \"zaxis\": {\"backgroundcolor\": \"#E5ECF6\", \"gridcolor\": \"white\", \"gridwidth\": 2, \"linecolor\": \"white\", \"showbackground\": true, \"ticks\": \"\", \"zerolinecolor\": \"white\"}}, \"shapedefaults\": {\"line\": {\"color\": \"#2a3f5f\"}}, \"ternary\": {\"aaxis\": {\"gridcolor\": \"white\", \"linecolor\": \"white\", \"ticks\": \"\"}, \"baxis\": {\"gridcolor\": \"white\", \"linecolor\": \"white\", \"ticks\": \"\"}, \"bgcolor\": \"#E5ECF6\", \"caxis\": {\"gridcolor\": \"white\", \"linecolor\": \"white\", \"ticks\": \"\"}}, \"title\": {\"x\": 0.05}, \"xaxis\": {\"automargin\": true, \"gridcolor\": \"white\", \"linecolor\": \"white\", \"ticks\": \"\", \"title\": {\"standoff\": 15}, \"zerolinecolor\": \"white\", \"zerolinewidth\": 2}, \"yaxis\": {\"automargin\": true, \"gridcolor\": \"white\", \"linecolor\": \"white\", \"ticks\": \"\", \"title\": {\"standoff\": 15}, \"zerolinecolor\": \"white\", \"zerolinewidth\": 2}}}},                        {\"responsive\": true}                    ).then(function(){\n",
       "                            \n",
       "var gd = document.getElementById('3df6ebd8-a734-42e4-a822-592b06525e68');\n",
       "var x = new MutationObserver(function (mutations, observer) {{\n",
       "        var display = window.getComputedStyle(gd).display;\n",
       "        if (!display || display === 'none') {{\n",
       "            console.log([gd, 'removed!']);\n",
       "            Plotly.purge(gd);\n",
       "            observer.disconnect();\n",
       "        }}\n",
       "}});\n",
       "\n",
       "// Listen for the removal of the full notebook cells\n",
       "var notebookContainer = gd.closest('#notebook-container');\n",
       "if (notebookContainer) {{\n",
       "    x.observe(notebookContainer, {childList: true});\n",
       "}}\n",
       "\n",
       "// Listen for the clearing of the current output cell\n",
       "var outputEl = gd.closest('.output');\n",
       "if (outputEl) {{\n",
       "    x.observe(outputEl, {childList: true});\n",
       "}}\n",
       "\n",
       "                        })                };                });            </script>        </div>"
      ]
     },
     "metadata": {},
     "output_type": "display_data"
    }
   ],
   "source": [
    "create_lucky_graph(find_df(user_input_city))"
   ]
  },
  {
   "cell_type": "code",
   "execution_count": null,
   "metadata": {},
   "outputs": [],
   "source": []
  },
  {
   "cell_type": "code",
   "execution_count": null,
   "metadata": {},
   "outputs": [],
   "source": []
  }
 ],
 "metadata": {
  "kernelspec": {
   "display_name": "Python 3",
   "language": "python",
   "name": "python3"
  },
  "language_info": {
   "codemirror_mode": {
    "name": "ipython",
    "version": 3
   },
   "file_extension": ".py",
   "mimetype": "text/x-python",
   "name": "python",
   "nbconvert_exporter": "python",
   "pygments_lexer": "ipython3",
   "version": "3.8.3"
  }
 },
 "nbformat": 4,
 "nbformat_minor": 4
}
