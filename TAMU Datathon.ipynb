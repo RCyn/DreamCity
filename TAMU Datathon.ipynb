{
 "cells": [
  {
   "cell_type": "code",
   "execution_count": 281,
   "metadata": {},
   "outputs": [],
   "source": [
    "###############################################     Libraries      ##############################"
   ]
  },
  {
   "cell_type": "code",
   "execution_count": 12,
   "metadata": {},
   "outputs": [
    {
     "ename": "ModuleNotFoundError",
     "evalue": "No module named 'plotly'",
     "output_type": "error",
     "traceback": [
      "\u001b[0;31m---------------------------------------------------------------------------\u001b[0m",
      "\u001b[0;31mModuleNotFoundError\u001b[0m                       Traceback (most recent call last)",
      "\u001b[0;32m<ipython-input-12-146b83da5bd1>\u001b[0m in \u001b[0;36m<module>\u001b[0;34m\u001b[0m\n\u001b[1;32m      3\u001b[0m \u001b[0;32mimport\u001b[0m \u001b[0mnumpy\u001b[0m \u001b[0;32mas\u001b[0m \u001b[0mnp\u001b[0m\u001b[0;34m\u001b[0m\u001b[0;34m\u001b[0m\u001b[0m\n\u001b[1;32m      4\u001b[0m \u001b[0;32mimport\u001b[0m \u001b[0mseaborn\u001b[0m\u001b[0;34m\u001b[0m\u001b[0;34m\u001b[0m\u001b[0m\n\u001b[0;32m----> 5\u001b[0;31m \u001b[0;32mimport\u001b[0m \u001b[0mplotly\u001b[0m \u001b[0;32mas\u001b[0m \u001b[0mpy\u001b[0m\u001b[0;34m\u001b[0m\u001b[0;34m\u001b[0m\u001b[0m\n\u001b[0m\u001b[1;32m      6\u001b[0m \u001b[0;32mimport\u001b[0m \u001b[0mplotly\u001b[0m\u001b[0;34m.\u001b[0m\u001b[0mgraph_objects\u001b[0m \u001b[0;32mas\u001b[0m \u001b[0mgo\u001b[0m\u001b[0;34m\u001b[0m\u001b[0;34m\u001b[0m\u001b[0m\n\u001b[1;32m      7\u001b[0m \u001b[0;32mimport\u001b[0m \u001b[0mplotly\u001b[0m\u001b[0;34m.\u001b[0m\u001b[0mexpress\u001b[0m \u001b[0;32mas\u001b[0m \u001b[0mpx\u001b[0m\u001b[0;34m\u001b[0m\u001b[0;34m\u001b[0m\u001b[0m\n",
      "\u001b[0;31mModuleNotFoundError\u001b[0m: No module named 'plotly'"
     ]
    }
   ],
   "source": [
    "import math\n",
    "import matplotlib as pp\n",
    "import numpy as np\n",
    "import seaborn\n",
    "from matplotlib import pyplot as plt\n",
    "import plotly as py\n",
    "import plotly.graph_objects as go\n",
    "import plotly.express as px\n",
    "import datetime as dt\n",
    "from plotly.subplots import make_subplots\n",
    "import os\n",
    "\n",
    "\n",
    "import sklearn.datasets as datasets\n",
    "from sklearn.datasets import make_classification\n",
    "from sklearn import metrics\n",
    "from sklearn import cluster, datasets, mixture\n",
    "from sklearn.neighbors import kneighbors_graph\n",
    "from sklearn.preprocessing import StandardScaler\n",
    "from itertools import cycle, islice\n",
    "from mpl_toolkits.mplot3d import Axes3D\n",
    "\n",
    "\n",
    "from numpy import where\n",
    "from numpy import unique\n",
    "\n",
    "from sklearn.decomposition import PCA\n",
    "from sklearn.decomposition import KernelPCA\n"
   ]
  },
  {
   "cell_type": "code",
   "execution_count": null,
   "metadata": {},
   "outputs": [],
   "source": [
    "######################################            Importing and Cleaning              ############################# "
   ]
  },
  {
   "cell_type": "code",
   "execution_count": null,
   "metadata": {},
   "outputs": [],
   "source": [
    "user_input = [[-9999,1.25,5,8,8.61,8.5,9,-9999,-9999]]"
   ]
  },
  {
   "cell_type": "code",
   "execution_count": null,
   "metadata": {},
   "outputs": [],
   "source": [
    "df = pd.read_csv(r'C:\\Users\\wjhwj\\Desktop\\DreamCity\\FinalData.csv')"
   ]
  },
  {
   "cell_type": "code",
   "execution_count": 2,
   "metadata": {},
   "outputs": [
    {
     "ename": "NameError",
     "evalue": "name 'df' is not defined",
     "output_type": "error",
     "traceback": [
      "\u001b[0;31m---------------------------------------------------------------------------\u001b[0m",
      "\u001b[0;31mNameError\u001b[0m                                 Traceback (most recent call last)",
      "\u001b[0;32m<ipython-input-2-00cf07b74dcd>\u001b[0m in \u001b[0;36m<module>\u001b[0;34m\u001b[0m\n\u001b[0;32m----> 1\u001b[0;31m \u001b[0mdf\u001b[0m\u001b[0;34m\u001b[0m\u001b[0;34m\u001b[0m\u001b[0m\n\u001b[0m",
      "\u001b[0;31mNameError\u001b[0m: name 'df' is not defined"
     ]
    }
   ],
   "source": [
    "df"
   ]
  },
  {
   "cell_type": "code",
   "execution_count": 3,
   "metadata": {},
   "outputs": [],
   "source": [
    "col_1='Movehub Rating'\n",
    "col_2='Purchase Power'\n",
    "col_3='Health Care'\n",
    "col_4='Pollution'\n",
    "col_5='Quality of Life'\n",
    "col_6='Crime Rating'\n",
    "col_7='Congestion Level'\n",
    "col_8='Education'\n",
    "col_9='Annual Temperature'"
   ]
  },
  {
   "cell_type": "code",
   "execution_count": 4,
   "metadata": {},
   "outputs": [
    {
     "ename": "NameError",
     "evalue": "name 'df' is not defined",
     "output_type": "error",
     "traceback": [
      "\u001b[0;31m---------------------------------------------------------------------------\u001b[0m",
      "\u001b[0;31mNameError\u001b[0m                                 Traceback (most recent call last)",
      "\u001b[0;32m<ipython-input-4-07eaf3b9a8e6>\u001b[0m in \u001b[0;36m<module>\u001b[0;34m\u001b[0m\n\u001b[0;32m----> 1\u001b[0;31m \u001b[0mval_df\u001b[0m\u001b[0;34m=\u001b[0m\u001b[0mdf\u001b[0m\u001b[0;34m.\u001b[0m\u001b[0mloc\u001b[0m\u001b[0;34m[\u001b[0m\u001b[0;34m:\u001b[0m\u001b[0;34m,\u001b[0m \u001b[0mcol_1\u001b[0m\u001b[0;34m:\u001b[0m\u001b[0mcol_9\u001b[0m\u001b[0;34m]\u001b[0m\u001b[0;34m\u001b[0m\u001b[0;34m\u001b[0m\u001b[0m\n\u001b[0m\u001b[1;32m      2\u001b[0m \u001b[0mval_df\u001b[0m\u001b[0;34m\u001b[0m\u001b[0;34m\u001b[0m\u001b[0m\n",
      "\u001b[0;31mNameError\u001b[0m: name 'df' is not defined"
     ]
    }
   ],
   "source": [
    "val_df=df.loc[:, col_1:col_9]\n",
    "val_df"
   ]
  },
  {
   "cell_type": "code",
   "execution_count": 5,
   "metadata": {},
   "outputs": [],
   "source": [
    "######################################             End of Importing and Cleaning            ############################# "
   ]
  },
  {
   "cell_type": "code",
   "execution_count": 6,
   "metadata": {},
   "outputs": [],
   "source": [
    "#############################                         Clustering       ###################################################"
   ]
  },
  {
   "cell_type": "code",
   "execution_count": 7,
   "metadata": {},
   "outputs": [
    {
     "ename": "NameError",
     "evalue": "name 'PCA' is not defined",
     "output_type": "error",
     "traceback": [
      "\u001b[0;31m---------------------------------------------------------------------------\u001b[0m",
      "\u001b[0;31mNameError\u001b[0m                                 Traceback (most recent call last)",
      "\u001b[0;32m<ipython-input-7-d2af093d5556>\u001b[0m in \u001b[0;36m<module>\u001b[0;34m\u001b[0m\n\u001b[0;32m----> 1\u001b[0;31m \u001b[0mX_reduced\u001b[0m \u001b[0;34m=\u001b[0m \u001b[0mPCA\u001b[0m\u001b[0;34m(\u001b[0m\u001b[0mn_components\u001b[0m\u001b[0;34m=\u001b[0m\u001b[0;36m9\u001b[0m\u001b[0;34m)\u001b[0m\u001b[0;34m.\u001b[0m\u001b[0mfit_transform\u001b[0m\u001b[0;34m(\u001b[0m\u001b[0mval_df\u001b[0m\u001b[0;34m)\u001b[0m\u001b[0;34m\u001b[0m\u001b[0;34m\u001b[0m\u001b[0m\n\u001b[0m",
      "\u001b[0;31mNameError\u001b[0m: name 'PCA' is not defined"
     ]
    }
   ],
   "source": [
    "X_reduced = PCA(n_components=9).fit_transform(val_df)"
   ]
  },
  {
   "cell_type": "code",
   "execution_count": 8,
   "metadata": {},
   "outputs": [
    {
     "ename": "NameError",
     "evalue": "name 'X_reduced' is not defined",
     "output_type": "error",
     "traceback": [
      "\u001b[0;31m---------------------------------------------------------------------------\u001b[0m",
      "\u001b[0;31mNameError\u001b[0m                                 Traceback (most recent call last)",
      "\u001b[0;32m<ipython-input-8-a5ba4093b165>\u001b[0m in \u001b[0;36m<module>\u001b[0;34m\u001b[0m\n\u001b[1;32m      4\u001b[0m           [60,46,66,33,52,30,44,55,59],[90,50,45,33,60,41,15,47,70]])\n\u001b[1;32m      5\u001b[0m \u001b[0mmodel\u001b[0m \u001b[0;34m=\u001b[0m \u001b[0mKMeans\u001b[0m\u001b[0;34m(\u001b[0m\u001b[0mn_clusters\u001b[0m\u001b[0;34m=\u001b[0m\u001b[0;36m8\u001b[0m\u001b[0;34m,\u001b[0m \u001b[0mn_init\u001b[0m\u001b[0;34m=\u001b[0m\u001b[0;36m100\u001b[0m\u001b[0;34m,\u001b[0m \u001b[0minit\u001b[0m\u001b[0;34m=\u001b[0m\u001b[0mstartup\u001b[0m\u001b[0;34m)\u001b[0m\u001b[0;34m\u001b[0m\u001b[0;34m\u001b[0m\u001b[0m\n\u001b[0;32m----> 6\u001b[0;31m \u001b[0mmodel\u001b[0m\u001b[0;34m.\u001b[0m\u001b[0mfit\u001b[0m\u001b[0;34m(\u001b[0m\u001b[0mX_reduced\u001b[0m\u001b[0;34m)\u001b[0m\u001b[0;34m\u001b[0m\u001b[0;34m\u001b[0m\u001b[0m\n\u001b[0m\u001b[1;32m      7\u001b[0m \u001b[0mclusters\u001b[0m \u001b[0;34m=\u001b[0m \u001b[0munique\u001b[0m\u001b[0;34m(\u001b[0m\u001b[0mmodel\u001b[0m\u001b[0;34m.\u001b[0m\u001b[0mlabels_\u001b[0m\u001b[0;34m)\u001b[0m\u001b[0;34m\u001b[0m\u001b[0;34m\u001b[0m\u001b[0m\n\u001b[1;32m      8\u001b[0m \u001b[0mdf\u001b[0m\u001b[0;34m[\u001b[0m\u001b[0;34m\"Cluster\"\u001b[0m\u001b[0;34m]\u001b[0m \u001b[0;34m=\u001b[0m \u001b[0mmodel\u001b[0m\u001b[0;34m.\u001b[0m\u001b[0mlabels_\u001b[0m\u001b[0;34m\u001b[0m\u001b[0;34m\u001b[0m\u001b[0m\n",
      "\u001b[0;31mNameError\u001b[0m: name 'X_reduced' is not defined"
     ]
    }
   ],
   "source": [
    "from sklearn.cluster import KMeans\n",
    "startup = np.array([[60,30,50,30,50,33,22,40,47],[60,60,55,30,80,55,13,35,47],[90,60,55,60,80,33,44,60,70],\n",
    "           [79,46,66,44,60,41,27,47,29],[90,56,70,56,34,55,33,34,50],[79,56,77,33,55,50,33,55,70],\n",
    "          [60,46,66,33,52,30,44,55,59],[90,50,45,33,60,41,15,47,70]])\n",
    "model = KMeans(n_clusters=8, n_init=100, init=startup)\n",
    "model.fit(X_reduced)\n",
    "clusters = unique(model.labels_)\n",
    "df[\"Cluster\"] = model.labels_\n",
    "print(df.mean(axis = 0))\n",
    "for i in range(len(user_input[0])):\n",
    "    if list[0][i] == -9999:\n",
    "        list[0][i] = df.mean(axis = 0)[i]\n",
    "prediction = model.predict(list)[0]"
   ]
  },
  {
   "cell_type": "code",
   "execution_count": 9,
   "metadata": {},
   "outputs": [
    {
     "ename": "NameError",
     "evalue": "name 'clusters' is not defined",
     "output_type": "error",
     "traceback": [
      "\u001b[0;31m---------------------------------------------------------------------------\u001b[0m",
      "\u001b[0;31mNameError\u001b[0m                                 Traceback (most recent call last)",
      "\u001b[0;32m<ipython-input-9-56a6172ace17>\u001b[0m in \u001b[0;36m<module>\u001b[0;34m\u001b[0m\n\u001b[0;32m----> 1\u001b[0;31m \u001b[0;32mfor\u001b[0m \u001b[0mcluster\u001b[0m \u001b[0;32min\u001b[0m \u001b[0mclusters\u001b[0m\u001b[0;34m:\u001b[0m\u001b[0;34m\u001b[0m\u001b[0;34m\u001b[0m\u001b[0m\n\u001b[0m\u001b[1;32m      2\u001b[0m     \u001b[0mrow_ix\u001b[0m \u001b[0;34m=\u001b[0m \u001b[0mwhere\u001b[0m\u001b[0;34m(\u001b[0m\u001b[0mmodel\u001b[0m\u001b[0;34m.\u001b[0m\u001b[0mlabels_\u001b[0m \u001b[0;34m==\u001b[0m \u001b[0mcluster\u001b[0m\u001b[0;34m)\u001b[0m\u001b[0;34m\u001b[0m\u001b[0;34m\u001b[0m\u001b[0m\n\u001b[1;32m      3\u001b[0m     \u001b[0mplt\u001b[0m\u001b[0;34m.\u001b[0m\u001b[0mscatter\u001b[0m\u001b[0;34m(\u001b[0m\u001b[0mX\u001b[0m\u001b[0;34m[\u001b[0m\u001b[0mrow_ix\u001b[0m\u001b[0;34m,\u001b[0m \u001b[0;36m0\u001b[0m\u001b[0;34m]\u001b[0m\u001b[0;34m,\u001b[0m \u001b[0mX\u001b[0m\u001b[0;34m[\u001b[0m\u001b[0mrow_ix\u001b[0m\u001b[0;34m,\u001b[0m \u001b[0;36m1\u001b[0m\u001b[0;34m]\u001b[0m\u001b[0;34m)\u001b[0m\u001b[0;34m\u001b[0m\u001b[0;34m\u001b[0m\u001b[0m\n\u001b[1;32m      4\u001b[0m     \u001b[0;32mif\u001b[0m \u001b[0mcluster\u001b[0m \u001b[0;34m==\u001b[0m \u001b[0mprediction\u001b[0m\u001b[0;34m:\u001b[0m\u001b[0;34m\u001b[0m\u001b[0;34m\u001b[0m\u001b[0m\n\u001b[1;32m      5\u001b[0m         \u001b[0mtargetCluster\u001b[0m \u001b[0;34m=\u001b[0m \u001b[0mrow_ix\u001b[0m\u001b[0;34m\u001b[0m\u001b[0;34m\u001b[0m\u001b[0m\n",
      "\u001b[0;31mNameError\u001b[0m: name 'clusters' is not defined"
     ]
    }
   ],
   "source": [
    "for cluster in clusters:\n",
    "    row_ix = where(model.labels_ == cluster)\n",
    "    plt.scatter(X_reduced[row_ix, 0], X_reduced[row_ix, 1])\n",
    "    if cluster == prediction:\n",
    "        targetCluster = row_ix\n",
    "plt.show()"
   ]
  },
  {
   "cell_type": "code",
   "execution_count": 320,
   "metadata": {},
   "outputs": [
    {
     "name": "stdout",
     "output_type": "stream",
     "text": [
      "(array([  0,   2,   5,   6,   8,  14,  15,  16,  18,  19,  21,  23,  26,\n",
      "        30,  33,  40,  41,  44,  46,  47,  48,  49,  54,  60,  61,  62,\n",
      "        64,  66,  67,  68,  77,  78,  79,  80,  83,  84,  88, 100, 112,\n",
      "       114, 115, 117, 118, 119, 125, 131, 132, 139, 141, 165, 168],\n",
      "      dtype=int64),)\n"
     ]
    }
   ],
   "source": [
    "print(targetCluster)"
   ]
  },
  {
   "cell_type": "code",
   "execution_count": 321,
   "metadata": {},
   "outputs": [],
   "source": [
    "######################################             End of Clustering            ############################# "
   ]
  },
  {
   "cell_type": "code",
   "execution_count": null,
   "metadata": {},
   "outputs": [],
   "source": []
  },
  {
   "cell_type": "code",
   "execution_count": 322,
   "metadata": {},
   "outputs": [],
   "source": [
    "######################################             Plot Making            ############################# "
   ]
  },
  {
   "cell_type": "code",
   "execution_count": 323,
   "metadata": {},
   "outputs": [],
   "source": [
    "def generate_score(val_df,importance,ideal_temp):\n",
    "    score=[]\n",
    "    for i in range(val_df.shape[0]):\n",
    "        score_num=0\n",
    "        score_num=score_num+sum([x*y for x,y in zip(val_df.loc[:,col_1:col_8].values.tolist()[i],importance)])\n",
    "        score_num=score_num+math.fabs(val_df.loc[:,col_9].values.tolist()[i]-ideal_temp)\n",
    "        score.append(score_num)\n",
    "    return score\n"
   ]
  },
  {
   "cell_type": "code",
   "execution_count": 324,
   "metadata": {},
   "outputs": [],
   "source": [
    "importance=user_input[0]\n",
    "for i in range(len(importance)):\n",
    "    if importance[i]==-9999:\n",
    "        importance[i]=0\n",
    "ideal_temp=68\n",
    "generate_score(val_df,importance,ideal_temp)\n",
    "df['Score']=generate_score(val_df,importance,ideal_temp)"
   ]
  },
  {
   "cell_type": "code",
   "execution_count": 325,
   "metadata": {},
   "outputs": [],
   "source": [
    "#Parse df for ploting\n",
    "df_to_plot=df.iloc[[targetCluster[0][0]]]\n",
    "\n",
    "for i in range(1,len(targetCluster[0])):\n",
    "    df_to_plot=df_to_plot.append(df.iloc[[targetCluster[0][i]]])"
   ]
  },
  {
   "cell_type": "code",
   "execution_count": 326,
   "metadata": {},
   "outputs": [],
   "source": [
    "df_to_plot['Score']=generate_score(df_to_plot,importance,ideal_temp)"
   ]
  },
  {
   "cell_type": "code",
   "execution_count": 328,
   "metadata": {},
   "outputs": [
    {
     "data": {
      "text/html": [
       "<div>\n",
       "<style scoped>\n",
       "    .dataframe tbody tr th:only-of-type {\n",
       "        vertical-align: middle;\n",
       "    }\n",
       "\n",
       "    .dataframe tbody tr th {\n",
       "        vertical-align: top;\n",
       "    }\n",
       "\n",
       "    .dataframe thead th {\n",
       "        text-align: right;\n",
       "    }\n",
       "</style>\n",
       "<table border=\"1\" class=\"dataframe\">\n",
       "  <thead>\n",
       "    <tr style=\"text-align: right;\">\n",
       "      <th></th>\n",
       "      <th>City</th>\n",
       "      <th>Movehub Rating</th>\n",
       "      <th>Purchase Power</th>\n",
       "      <th>Health Care</th>\n",
       "      <th>Pollution</th>\n",
       "      <th>Quality of Life</th>\n",
       "      <th>Crime Rating</th>\n",
       "      <th>Congestion Level</th>\n",
       "      <th>Education</th>\n",
       "      <th>Annual Temperature</th>\n",
       "      <th>lat</th>\n",
       "      <th>lng</th>\n",
       "      <th>Cluster</th>\n",
       "      <th>Score</th>\n",
       "    </tr>\n",
       "  </thead>\n",
       "  <tbody>\n",
       "    <tr>\n",
       "      <th>0</th>\n",
       "      <td>Caracas</td>\n",
       "      <td>65.18</td>\n",
       "      <td>11.25</td>\n",
       "      <td>44.44</td>\n",
       "      <td>83.45</td>\n",
       "      <td>8.61</td>\n",
       "      <td>85.70</td>\n",
       "      <td>9</td>\n",
       "      <td>10.00</td>\n",
       "      <td>71.6</td>\n",
       "      <td>10.480594</td>\n",
       "      <td>-66.903606</td>\n",
       "      <td>0</td>\n",
       "      <td>1791.0446</td>\n",
       "    </tr>\n",
       "    <tr>\n",
       "      <th>2</th>\n",
       "      <td>Fortaleza</td>\n",
       "      <td>80.17</td>\n",
       "      <td>52.28</td>\n",
       "      <td>45.46</td>\n",
       "      <td>66.32</td>\n",
       "      <td>36.68</td>\n",
       "      <td>78.65</td>\n",
       "      <td>37</td>\n",
       "      <td>10.00</td>\n",
       "      <td>79.9</td>\n",
       "      <td>-3.732714</td>\n",
       "      <td>-38.526998</td>\n",
       "      <td>0</td>\n",
       "      <td>2152.4498</td>\n",
       "    </tr>\n",
       "    <tr>\n",
       "      <th>5</th>\n",
       "      <td>Porto Alegre</td>\n",
       "      <td>70.46</td>\n",
       "      <td>19.07</td>\n",
       "      <td>51.01</td>\n",
       "      <td>86.16</td>\n",
       "      <td>31.87</td>\n",
       "      <td>76.46</td>\n",
       "      <td>35</td>\n",
       "      <td>10.00</td>\n",
       "      <td>67.1</td>\n",
       "      <td>-30.034647</td>\n",
       "      <td>-51.217658</td>\n",
       "      <td>0</td>\n",
       "      <td>2208.3782</td>\n",
       "    </tr>\n",
       "    <tr>\n",
       "      <th>6</th>\n",
       "      <td>Karachi</td>\n",
       "      <td>67.81</td>\n",
       "      <td>14.63</td>\n",
       "      <td>51.57</td>\n",
       "      <td>69.63</td>\n",
       "      <td>18.50</td>\n",
       "      <td>74.36</td>\n",
       "      <td>9</td>\n",
       "      <td>26.00</td>\n",
       "      <td>78.8</td>\n",
       "      <td>24.860734</td>\n",
       "      <td>67.001136</td>\n",
       "      <td>0</td>\n",
       "      <td>1716.3225</td>\n",
       "    </tr>\n",
       "    <tr>\n",
       "      <th>8</th>\n",
       "      <td>Nairobi</td>\n",
       "      <td>71.12</td>\n",
       "      <td>15.82</td>\n",
       "      <td>61.34</td>\n",
       "      <td>39.16</td>\n",
       "      <td>14.36</td>\n",
       "      <td>71.88</td>\n",
       "      <td>9</td>\n",
       "      <td>20.25</td>\n",
       "      <td>64.0</td>\n",
       "      <td>-1.292066</td>\n",
       "      <td>36.821946</td>\n",
       "      <td>0</td>\n",
       "      <td>1459.3746</td>\n",
       "    </tr>\n",
       "    <tr>\n",
       "      <th>14</th>\n",
       "      <td>Rio De Janeiro</td>\n",
       "      <td>73.44</td>\n",
       "      <td>22.13</td>\n",
       "      <td>61.67</td>\n",
       "      <td>84.51</td>\n",
       "      <td>21.32</td>\n",
       "      <td>67.93</td>\n",
       "      <td>46</td>\n",
       "      <td>23.50</td>\n",
       "      <td>74.8</td>\n",
       "      <td>-22.906847</td>\n",
       "      <td>-43.172897</td>\n",
       "      <td>0</td>\n",
       "      <td>2193.8627</td>\n",
       "    </tr>\n",
       "    <tr>\n",
       "      <th>15</th>\n",
       "      <td>Manila</td>\n",
       "      <td>68.31</td>\n",
       "      <td>14.80</td>\n",
       "      <td>80.56</td>\n",
       "      <td>65.22</td>\n",
       "      <td>13.14</td>\n",
       "      <td>66.36</td>\n",
       "      <td>71</td>\n",
       "      <td>36.25</td>\n",
       "      <td>83.1</td>\n",
       "      <td>14.599512</td>\n",
       "      <td>120.984220</td>\n",
       "      <td>0</td>\n",
       "      <td>2274.3554</td>\n",
       "    </tr>\n",
       "    <tr>\n",
       "      <th>16</th>\n",
       "      <td>Sao Paulo</td>\n",
       "      <td>75.40</td>\n",
       "      <td>24.24</td>\n",
       "      <td>63.79</td>\n",
       "      <td>72.04</td>\n",
       "      <td>30.57</td>\n",
       "      <td>66.31</td>\n",
       "      <td>45</td>\n",
       "      <td>26.00</td>\n",
       "      <td>66.6</td>\n",
       "      <td>-23.550520</td>\n",
       "      <td>-46.633309</td>\n",
       "      <td>0</td>\n",
       "      <td>2158.8127</td>\n",
       "    </tr>\n",
       "    <tr>\n",
       "      <th>18</th>\n",
       "      <td>Gurgaon</td>\n",
       "      <td>77.88</td>\n",
       "      <td>37.08</td>\n",
       "      <td>77.18</td>\n",
       "      <td>27.78</td>\n",
       "      <td>42.77</td>\n",
       "      <td>65.51</td>\n",
       "      <td>9</td>\n",
       "      <td>15.00</td>\n",
       "      <td>77.3</td>\n",
       "      <td>28.459497</td>\n",
       "      <td>77.026638</td>\n",
       "      <td>0</td>\n",
       "      <td>1669.8747</td>\n",
       "    </tr>\n",
       "    <tr>\n",
       "      <th>19</th>\n",
       "      <td>Lima</td>\n",
       "      <td>73.19</td>\n",
       "      <td>23.22</td>\n",
       "      <td>53.70</td>\n",
       "      <td>58.49</td>\n",
       "      <td>22.67</td>\n",
       "      <td>65.31</td>\n",
       "      <td>57</td>\n",
       "      <td>26.50</td>\n",
       "      <td>66.6</td>\n",
       "      <td>-12.046373</td>\n",
       "      <td>-77.042754</td>\n",
       "      <td>0</td>\n",
       "      <td>2030.1687</td>\n",
       "    </tr>\n",
       "    <tr>\n",
       "      <th>21</th>\n",
       "      <td>Lodz</td>\n",
       "      <td>73.32</td>\n",
       "      <td>26.37</td>\n",
       "      <td>53.21</td>\n",
       "      <td>37.21</td>\n",
       "      <td>46.29</td>\n",
       "      <td>64.51</td>\n",
       "      <td>47</td>\n",
       "      <td>30.25</td>\n",
       "      <td>53.6</td>\n",
       "      <td>51.759248</td>\n",
       "      <td>19.455983</td>\n",
       "      <td>0</td>\n",
       "      <td>1980.9844</td>\n",
       "    </tr>\n",
       "    <tr>\n",
       "      <th>23</th>\n",
       "      <td>Santo Domingo</td>\n",
       "      <td>74.60</td>\n",
       "      <td>28.82</td>\n",
       "      <td>62.50</td>\n",
       "      <td>18.59</td>\n",
       "      <td>41.88</td>\n",
       "      <td>62.19</td>\n",
       "      <td>26</td>\n",
       "      <td>16.25</td>\n",
       "      <td>78.6</td>\n",
       "      <td>18.486058</td>\n",
       "      <td>-69.931212</td>\n",
       "      <td>0</td>\n",
       "      <td>1631.0468</td>\n",
       "    </tr>\n",
       "    <tr>\n",
       "      <th>26</th>\n",
       "      <td>Lagos</td>\n",
       "      <td>72.47</td>\n",
       "      <td>14.91</td>\n",
       "      <td>62.04</td>\n",
       "      <td>26.63</td>\n",
       "      <td>19.48</td>\n",
       "      <td>60.44</td>\n",
       "      <td>9</td>\n",
       "      <td>16.25</td>\n",
       "      <td>80.2</td>\n",
       "      <td>6.524379</td>\n",
       "      <td>3.379206</td>\n",
       "      <td>0</td>\n",
       "      <td>1316.5403</td>\n",
       "    </tr>\n",
       "    <tr>\n",
       "      <th>30</th>\n",
       "      <td>Dhaka</td>\n",
       "      <td>71.58</td>\n",
       "      <td>21.32</td>\n",
       "      <td>20.83</td>\n",
       "      <td>62.14</td>\n",
       "      <td>13.48</td>\n",
       "      <td>59.06</td>\n",
       "      <td>16</td>\n",
       "      <td>16.25</td>\n",
       "      <td>78.6</td>\n",
       "      <td>23.810332</td>\n",
       "      <td>90.412518</td>\n",
       "      <td>0</td>\n",
       "      <td>1400.5928</td>\n",
       "    </tr>\n",
       "    <tr>\n",
       "      <th>33</th>\n",
       "      <td>Saint Petersburg</td>\n",
       "      <td>73.10</td>\n",
       "      <td>24.82</td>\n",
       "      <td>46.34</td>\n",
       "      <td>77.98</td>\n",
       "      <td>25.97</td>\n",
       "      <td>56.96</td>\n",
       "      <td>49</td>\n",
       "      <td>39.25</td>\n",
       "      <td>42.4</td>\n",
       "      <td>59.931058</td>\n",
       "      <td>30.360910</td>\n",
       "      <td>0</td>\n",
       "      <td>2060.9267</td>\n",
       "    </tr>\n",
       "    <tr>\n",
       "      <th>40</th>\n",
       "      <td>Kiev</td>\n",
       "      <td>69.98</td>\n",
       "      <td>18.88</td>\n",
       "      <td>36.48</td>\n",
       "      <td>67.36</td>\n",
       "      <td>24.05</td>\n",
       "      <td>54.19</td>\n",
       "      <td>26</td>\n",
       "      <td>11.50</td>\n",
       "      <td>47.1</td>\n",
       "      <td>50.450100</td>\n",
       "      <td>30.523400</td>\n",
       "      <td>0</td>\n",
       "      <td>1667.4655</td>\n",
       "    </tr>\n",
       "    <tr>\n",
       "      <th>41</th>\n",
       "      <td>Tehran</td>\n",
       "      <td>72.13</td>\n",
       "      <td>18.09</td>\n",
       "      <td>43.98</td>\n",
       "      <td>87.62</td>\n",
       "      <td>14.33</td>\n",
       "      <td>54.16</td>\n",
       "      <td>19</td>\n",
       "      <td>35.50</td>\n",
       "      <td>63.0</td>\n",
       "      <td>35.689197</td>\n",
       "      <td>51.388974</td>\n",
       "      <td>0</td>\n",
       "      <td>1703.2138</td>\n",
       "    </tr>\n",
       "    <tr>\n",
       "      <th>44</th>\n",
       "      <td>Kharkiv</td>\n",
       "      <td>68.99</td>\n",
       "      <td>17.11</td>\n",
       "      <td>35.06</td>\n",
       "      <td>67.05</td>\n",
       "      <td>30.76</td>\n",
       "      <td>53.75</td>\n",
       "      <td>43</td>\n",
       "      <td>36.50</td>\n",
       "      <td>45.3</td>\n",
       "      <td>49.993500</td>\n",
       "      <td>36.230383</td>\n",
       "      <td>0</td>\n",
       "      <td>1864.5061</td>\n",
       "    </tr>\n",
       "    <tr>\n",
       "      <th>46</th>\n",
       "      <td>Delhi</td>\n",
       "      <td>77.12</td>\n",
       "      <td>34.39</td>\n",
       "      <td>74.99</td>\n",
       "      <td>73.03</td>\n",
       "      <td>42.45</td>\n",
       "      <td>52.56</td>\n",
       "      <td>56</td>\n",
       "      <td>15.25</td>\n",
       "      <td>77.2</td>\n",
       "      <td>28.704059</td>\n",
       "      <td>77.102490</td>\n",
       "      <td>0</td>\n",
       "      <td>2327.6320</td>\n",
       "    </tr>\n",
       "    <tr>\n",
       "      <th>47</th>\n",
       "      <td>Lahore</td>\n",
       "      <td>67.32</td>\n",
       "      <td>12.45</td>\n",
       "      <td>48.94</td>\n",
       "      <td>30.55</td>\n",
       "      <td>28.52</td>\n",
       "      <td>51.98</td>\n",
       "      <td>9</td>\n",
       "      <td>13.75</td>\n",
       "      <td>75.7</td>\n",
       "      <td>31.520370</td>\n",
       "      <td>74.358747</td>\n",
       "      <td>0</td>\n",
       "      <td>1280.7497</td>\n",
       "    </tr>\n",
       "    <tr>\n",
       "      <th>48</th>\n",
       "      <td>Hanoi</td>\n",
       "      <td>66.77</td>\n",
       "      <td>12.22</td>\n",
       "      <td>20.83</td>\n",
       "      <td>24.02</td>\n",
       "      <td>5.29</td>\n",
       "      <td>51.81</td>\n",
       "      <td>13</td>\n",
       "      <td>9.50</td>\n",
       "      <td>74.5</td>\n",
       "      <td>21.027764</td>\n",
       "      <td>105.834160</td>\n",
       "      <td>0</td>\n",
       "      <td>921.0169</td>\n",
       "    </tr>\n",
       "    <tr>\n",
       "      <th>49</th>\n",
       "      <td>Cordoba</td>\n",
       "      <td>73.76</td>\n",
       "      <td>27.56</td>\n",
       "      <td>75.24</td>\n",
       "      <td>48.76</td>\n",
       "      <td>47.68</td>\n",
       "      <td>51.56</td>\n",
       "      <td>14</td>\n",
       "      <td>24.50</td>\n",
       "      <td>64.8</td>\n",
       "      <td>37.888175</td>\n",
       "      <td>-4.779383</td>\n",
       "      <td>0</td>\n",
       "      <td>1778.7148</td>\n",
       "    </tr>\n",
       "    <tr>\n",
       "      <th>54</th>\n",
       "      <td>Belo Horizonte</td>\n",
       "      <td>71.79</td>\n",
       "      <td>21.77</td>\n",
       "      <td>57.26</td>\n",
       "      <td>59.73</td>\n",
       "      <td>36.26</td>\n",
       "      <td>50.99</td>\n",
       "      <td>35</td>\n",
       "      <td>36.50</td>\n",
       "      <td>70.0</td>\n",
       "      <td>-19.916681</td>\n",
       "      <td>-43.934493</td>\n",
       "      <td>0</td>\n",
       "      <td>1853.9661</td>\n",
       "    </tr>\n",
       "    <tr>\n",
       "      <th>60</th>\n",
       "      <td>Gaborone</td>\n",
       "      <td>75.32</td>\n",
       "      <td>30.98</td>\n",
       "      <td>27.78</td>\n",
       "      <td>30.55</td>\n",
       "      <td>31.77</td>\n",
       "      <td>50.00</td>\n",
       "      <td>9</td>\n",
       "      <td>42.75</td>\n",
       "      <td>70.0</td>\n",
       "      <td>-24.628208</td>\n",
       "      <td>25.923147</td>\n",
       "      <td>0</td>\n",
       "      <td>1203.5647</td>\n",
       "    </tr>\n",
       "    <tr>\n",
       "      <th>61</th>\n",
       "      <td>Colombo</td>\n",
       "      <td>72.52</td>\n",
       "      <td>20.18</td>\n",
       "      <td>75.00</td>\n",
       "      <td>33.59</td>\n",
       "      <td>26.68</td>\n",
       "      <td>50.00</td>\n",
       "      <td>9</td>\n",
       "      <td>12.75</td>\n",
       "      <td>81.3</td>\n",
       "      <td>6.927079</td>\n",
       "      <td>79.861243</td>\n",
       "      <td>0</td>\n",
       "      <td>1417.9598</td>\n",
       "    </tr>\n",
       "    <tr>\n",
       "      <th>62</th>\n",
       "      <td>Cairo</td>\n",
       "      <td>67.93</td>\n",
       "      <td>11.90</td>\n",
       "      <td>56.48</td>\n",
       "      <td>86.16</td>\n",
       "      <td>17.25</td>\n",
       "      <td>48.81</td>\n",
       "      <td>40</td>\n",
       "      <td>19.75</td>\n",
       "      <td>70.5</td>\n",
       "      <td>30.044420</td>\n",
       "      <td>31.235712</td>\n",
       "      <td>0</td>\n",
       "      <td>1912.4625</td>\n",
       "    </tr>\n",
       "    <tr>\n",
       "      <th>64</th>\n",
       "      <td>Quito</td>\n",
       "      <td>67.15</td>\n",
       "      <td>14.24</td>\n",
       "      <td>32.41</td>\n",
       "      <td>14.76</td>\n",
       "      <td>46.43</td>\n",
       "      <td>48.36</td>\n",
       "      <td>9</td>\n",
       "      <td>21.50</td>\n",
       "      <td>57.9</td>\n",
       "      <td>-0.180653</td>\n",
       "      <td>-78.467838</td>\n",
       "      <td>0</td>\n",
       "      <td>1199.8523</td>\n",
       "    </tr>\n",
       "    <tr>\n",
       "      <th>66</th>\n",
       "      <td>Jakarta</td>\n",
       "      <td>69.15</td>\n",
       "      <td>17.38</td>\n",
       "      <td>38.33</td>\n",
       "      <td>57.91</td>\n",
       "      <td>15.66</td>\n",
       "      <td>48.27</td>\n",
       "      <td>53</td>\n",
       "      <td>18.25</td>\n",
       "      <td>80.1</td>\n",
       "      <td>-6.208763</td>\n",
       "      <td>106.845599</td>\n",
       "      <td>0</td>\n",
       "      <td>1710.8826</td>\n",
       "    </tr>\n",
       "    <tr>\n",
       "      <th>67</th>\n",
       "      <td>Sofia</td>\n",
       "      <td>71.97</td>\n",
       "      <td>23.03</td>\n",
       "      <td>51.43</td>\n",
       "      <td>26.63</td>\n",
       "      <td>37.72</td>\n",
       "      <td>48.26</td>\n",
       "      <td>36</td>\n",
       "      <td>9.00</td>\n",
       "      <td>51.1</td>\n",
       "      <td>42.697708</td>\n",
       "      <td>23.321867</td>\n",
       "      <td>0</td>\n",
       "      <td>1574.8567</td>\n",
       "    </tr>\n",
       "    <tr>\n",
       "      <th>68</th>\n",
       "      <td>Tirana</td>\n",
       "      <td>69.78</td>\n",
       "      <td>17.80</td>\n",
       "      <td>44.44</td>\n",
       "      <td>80.84</td>\n",
       "      <td>36.81</td>\n",
       "      <td>47.99</td>\n",
       "      <td>9</td>\n",
       "      <td>9.00</td>\n",
       "      <td>59.4</td>\n",
       "      <td>41.327546</td>\n",
       "      <td>19.818698</td>\n",
       "      <td>0</td>\n",
       "      <td>1705.6191</td>\n",
       "    </tr>\n",
       "    <tr>\n",
       "      <th>77</th>\n",
       "      <td>Ulaanbaatar</td>\n",
       "      <td>68.29</td>\n",
       "      <td>15.35</td>\n",
       "      <td>43.06</td>\n",
       "      <td>55.87</td>\n",
       "      <td>24.50</td>\n",
       "      <td>46.87</td>\n",
       "      <td>10</td>\n",
       "      <td>15.00</td>\n",
       "      <td>31.3</td>\n",
       "      <td>47.886399</td>\n",
       "      <td>106.905744</td>\n",
       "      <td>0</td>\n",
       "      <td>1417.4875</td>\n",
       "    </tr>\n",
       "    <tr>\n",
       "      <th>78</th>\n",
       "      <td>Jerusalem</td>\n",
       "      <td>78.28</td>\n",
       "      <td>37.22</td>\n",
       "      <td>79.40</td>\n",
       "      <td>64.44</td>\n",
       "      <td>50.87</td>\n",
       "      <td>46.59</td>\n",
       "      <td>40</td>\n",
       "      <td>10.00</td>\n",
       "      <td>63.0</td>\n",
       "      <td>31.768319</td>\n",
       "      <td>35.213710</td>\n",
       "      <td>0</td>\n",
       "      <td>2158.0507</td>\n",
       "    </tr>\n",
       "    <tr>\n",
       "      <th>79</th>\n",
       "      <td>Curitiba</td>\n",
       "      <td>76.15</td>\n",
       "      <td>34.97</td>\n",
       "      <td>59.03</td>\n",
       "      <td>33.59</td>\n",
       "      <td>58.67</td>\n",
       "      <td>46.27</td>\n",
       "      <td>28</td>\n",
       "      <td>9.00</td>\n",
       "      <td>62.2</td>\n",
       "      <td>-25.428954</td>\n",
       "      <td>-49.267137</td>\n",
       "      <td>0</td>\n",
       "      <td>1763.8262</td>\n",
       "    </tr>\n",
       "    <tr>\n",
       "      <th>80</th>\n",
       "      <td>Medellin</td>\n",
       "      <td>70.14</td>\n",
       "      <td>19.20</td>\n",
       "      <td>85.88</td>\n",
       "      <td>37.27</td>\n",
       "      <td>39.70</td>\n",
       "      <td>46.02</td>\n",
       "      <td>30</td>\n",
       "      <td>9.00</td>\n",
       "      <td>72.5</td>\n",
       "      <td>6.247638</td>\n",
       "      <td>-75.565815</td>\n",
       "      <td>0</td>\n",
       "      <td>1759.0470</td>\n",
       "    </tr>\n",
       "    <tr>\n",
       "      <th>83</th>\n",
       "      <td>Pattaya</td>\n",
       "      <td>70.69</td>\n",
       "      <td>19.51</td>\n",
       "      <td>91.46</td>\n",
       "      <td>29.86</td>\n",
       "      <td>46.01</td>\n",
       "      <td>45.52</td>\n",
       "      <td>30</td>\n",
       "      <td>9.00</td>\n",
       "      <td>83.0</td>\n",
       "      <td>12.923556</td>\n",
       "      <td>100.882455</td>\n",
       "      <td>0</td>\n",
       "      <td>1788.6336</td>\n",
       "    </tr>\n",
       "    <tr>\n",
       "      <th>84</th>\n",
       "      <td>Antalya</td>\n",
       "      <td>71.91</td>\n",
       "      <td>22.91</td>\n",
       "      <td>59.55</td>\n",
       "      <td>30.55</td>\n",
       "      <td>40.51</td>\n",
       "      <td>44.53</td>\n",
       "      <td>29</td>\n",
       "      <td>24.00</td>\n",
       "      <td>65.5</td>\n",
       "      <td>36.896891</td>\n",
       "      <td>30.713323</td>\n",
       "      <td>0</td>\n",
       "      <td>1561.5836</td>\n",
       "    </tr>\n",
       "    <tr>\n",
       "      <th>88</th>\n",
       "      <td>Kolkata</td>\n",
       "      <td>75.35</td>\n",
       "      <td>28.80</td>\n",
       "      <td>31.29</td>\n",
       "      <td>72.59</td>\n",
       "      <td>25.64</td>\n",
       "      <td>43.33</td>\n",
       "      <td>19</td>\n",
       "      <td>18.75</td>\n",
       "      <td>80.1</td>\n",
       "      <td>22.572646</td>\n",
       "      <td>88.363895</td>\n",
       "      <td>0</td>\n",
       "      <td>1545.3354</td>\n",
       "    </tr>\n",
       "    <tr>\n",
       "      <th>100</th>\n",
       "      <td>Pune</td>\n",
       "      <td>79.20</td>\n",
       "      <td>37.96</td>\n",
       "      <td>66.62</td>\n",
       "      <td>79.24</td>\n",
       "      <td>43.84</td>\n",
       "      <td>41.37</td>\n",
       "      <td>59</td>\n",
       "      <td>12.75</td>\n",
       "      <td>77.0</td>\n",
       "      <td>18.520430</td>\n",
       "      <td>73.856744</td>\n",
       "      <td>0</td>\n",
       "      <td>2283.5774</td>\n",
       "    </tr>\n",
       "    <tr>\n",
       "      <th>112</th>\n",
       "      <td>Casablanca</td>\n",
       "      <td>68.27</td>\n",
       "      <td>13.20</td>\n",
       "      <td>53.70</td>\n",
       "      <td>62.97</td>\n",
       "      <td>48.69</td>\n",
       "      <td>38.28</td>\n",
       "      <td>9</td>\n",
       "      <td>43.25</td>\n",
       "      <td>63.8</td>\n",
       "      <td>43.037178</td>\n",
       "      <td>-88.135195</td>\n",
       "      <td>0</td>\n",
       "      <td>1618.5609</td>\n",
       "    </tr>\n",
       "    <tr>\n",
       "      <th>114</th>\n",
       "      <td>Belgrade</td>\n",
       "      <td>71.65</td>\n",
       "      <td>21.46</td>\n",
       "      <td>52.53</td>\n",
       "      <td>77.08</td>\n",
       "      <td>35.69</td>\n",
       "      <td>37.97</td>\n",
       "      <td>9</td>\n",
       "      <td>9.00</td>\n",
       "      <td>54.5</td>\n",
       "      <td>44.786568</td>\n",
       "      <td>20.448922</td>\n",
       "      <td>0</td>\n",
       "      <td>1630.6509</td>\n",
       "    </tr>\n",
       "    <tr>\n",
       "      <th>115</th>\n",
       "      <td>Chiang Mai</td>\n",
       "      <td>68.64</td>\n",
       "      <td>15.89</td>\n",
       "      <td>85.91</td>\n",
       "      <td>30.55</td>\n",
       "      <td>37.50</td>\n",
       "      <td>37.78</td>\n",
       "      <td>16</td>\n",
       "      <td>9.00</td>\n",
       "      <td>78.4</td>\n",
       "      <td>18.788344</td>\n",
       "      <td>98.985301</td>\n",
       "      <td>0</td>\n",
       "      <td>1492.2175</td>\n",
       "    </tr>\n",
       "    <tr>\n",
       "      <th>117</th>\n",
       "      <td>Hyderabad</td>\n",
       "      <td>79.35</td>\n",
       "      <td>39.93</td>\n",
       "      <td>63.89</td>\n",
       "      <td>89.72</td>\n",
       "      <td>54.97</td>\n",
       "      <td>36.90</td>\n",
       "      <td>9</td>\n",
       "      <td>16.50</td>\n",
       "      <td>80.1</td>\n",
       "      <td>17.385044</td>\n",
       "      <td>78.486671</td>\n",
       "      <td>0</td>\n",
       "      <td>1967.1642</td>\n",
       "    </tr>\n",
       "    <tr>\n",
       "      <th>118</th>\n",
       "      <td>Baku</td>\n",
       "      <td>66.42</td>\n",
       "      <td>11.38</td>\n",
       "      <td>28.70</td>\n",
       "      <td>49.47</td>\n",
       "      <td>17.20</td>\n",
       "      <td>36.69</td>\n",
       "      <td>16</td>\n",
       "      <td>9.00</td>\n",
       "      <td>59.2</td>\n",
       "      <td>40.409262</td>\n",
       "      <td>49.867092</td>\n",
       "      <td>0</td>\n",
       "      <td>1166.2420</td>\n",
       "    </tr>\n",
       "    <tr>\n",
       "      <th>119</th>\n",
       "      <td>Varna</td>\n",
       "      <td>71.11</td>\n",
       "      <td>20.34</td>\n",
       "      <td>50.23</td>\n",
       "      <td>80.84</td>\n",
       "      <td>36.03</td>\n",
       "      <td>36.46</td>\n",
       "      <td>26</td>\n",
       "      <td>9.00</td>\n",
       "      <td>54.1</td>\n",
       "      <td>43.214050</td>\n",
       "      <td>27.914733</td>\n",
       "      <td>0</td>\n",
       "      <td>1791.3233</td>\n",
       "    </tr>\n",
       "    <tr>\n",
       "      <th>125</th>\n",
       "      <td>Mumbai</td>\n",
       "      <td>77.13</td>\n",
       "      <td>28.83</td>\n",
       "      <td>58.41</td>\n",
       "      <td>70.49</td>\n",
       "      <td>26.43</td>\n",
       "      <td>34.63</td>\n",
       "      <td>65</td>\n",
       "      <td>36.25</td>\n",
       "      <td>80.8</td>\n",
       "      <td>19.075984</td>\n",
       "      <td>72.877656</td>\n",
       "      <td>0</td>\n",
       "      <td>2011.7248</td>\n",
       "    </tr>\n",
       "    <tr>\n",
       "      <th>131</th>\n",
       "      <td>Bucharest</td>\n",
       "      <td>72.28</td>\n",
       "      <td>22.85</td>\n",
       "      <td>52.05</td>\n",
       "      <td>74.57</td>\n",
       "      <td>29.45</td>\n",
       "      <td>33.41</td>\n",
       "      <td>52</td>\n",
       "      <td>15.00</td>\n",
       "      <td>51.4</td>\n",
       "      <td>44.430449</td>\n",
       "      <td>26.097934</td>\n",
       "      <td>0</td>\n",
       "      <td>1907.5220</td>\n",
       "    </tr>\n",
       "    <tr>\n",
       "      <th>132</th>\n",
       "      <td>Chennai</td>\n",
       "      <td>78.12</td>\n",
       "      <td>32.91</td>\n",
       "      <td>67.49</td>\n",
       "      <td>78.07</td>\n",
       "      <td>43.89</td>\n",
       "      <td>33.22</td>\n",
       "      <td>9</td>\n",
       "      <td>13.75</td>\n",
       "      <td>83.5</td>\n",
       "      <td>13.082680</td>\n",
       "      <td>80.270718</td>\n",
       "      <td>0</td>\n",
       "      <td>1759.9104</td>\n",
       "    </tr>\n",
       "    <tr>\n",
       "      <th>139</th>\n",
       "      <td>Zagreb</td>\n",
       "      <td>73.84</td>\n",
       "      <td>26.71</td>\n",
       "      <td>52.78</td>\n",
       "      <td>83.45</td>\n",
       "      <td>47.59</td>\n",
       "      <td>32.29</td>\n",
       "      <td>9</td>\n",
       "      <td>35.00</td>\n",
       "      <td>51.3</td>\n",
       "      <td>45.815011</td>\n",
       "      <td>15.981919</td>\n",
       "      <td>0</td>\n",
       "      <td>1746.8024</td>\n",
       "    </tr>\n",
       "    <tr>\n",
       "      <th>141</th>\n",
       "      <td>Vadodara</td>\n",
       "      <td>76.54</td>\n",
       "      <td>36.37</td>\n",
       "      <td>77.87</td>\n",
       "      <td>92.42</td>\n",
       "      <td>54.98</td>\n",
       "      <td>32.03</td>\n",
       "      <td>9</td>\n",
       "      <td>10.00</td>\n",
       "      <td>81.0</td>\n",
       "      <td>22.307159</td>\n",
       "      <td>73.181219</td>\n",
       "      <td>0</td>\n",
       "      <td>2013.8053</td>\n",
       "    </tr>\n",
       "    <tr>\n",
       "      <th>165</th>\n",
       "      <td>Minsk</td>\n",
       "      <td>68.41</td>\n",
       "      <td>16.14</td>\n",
       "      <td>50.00</td>\n",
       "      <td>66.89</td>\n",
       "      <td>51.66</td>\n",
       "      <td>26.82</td>\n",
       "      <td>32</td>\n",
       "      <td>10.00</td>\n",
       "      <td>44.1</td>\n",
       "      <td>53.900601</td>\n",
       "      <td>27.558972</td>\n",
       "      <td>0</td>\n",
       "      <td>1789.9576</td>\n",
       "    </tr>\n",
       "    <tr>\n",
       "      <th>168</th>\n",
       "      <td>Izmir</td>\n",
       "      <td>76.07</td>\n",
       "      <td>32.12</td>\n",
       "      <td>57.33</td>\n",
       "      <td>30.55</td>\n",
       "      <td>42.90</td>\n",
       "      <td>25.91</td>\n",
       "      <td>29</td>\n",
       "      <td>21.00</td>\n",
       "      <td>64.2</td>\n",
       "      <td>38.423734</td>\n",
       "      <td>27.142826</td>\n",
       "      <td>0</td>\n",
       "      <td>1425.6040</td>\n",
       "    </tr>\n",
       "  </tbody>\n",
       "</table>\n",
       "</div>"
      ],
      "text/plain": [
       "                 City  Movehub Rating  Purchase Power  Health Care  Pollution  \\\n",
       "0             Caracas           65.18           11.25        44.44      83.45   \n",
       "2           Fortaleza           80.17           52.28        45.46      66.32   \n",
       "5        Porto Alegre           70.46           19.07        51.01      86.16   \n",
       "6             Karachi           67.81           14.63        51.57      69.63   \n",
       "8             Nairobi           71.12           15.82        61.34      39.16   \n",
       "14     Rio De Janeiro           73.44           22.13        61.67      84.51   \n",
       "15             Manila           68.31           14.80        80.56      65.22   \n",
       "16          Sao Paulo           75.40           24.24        63.79      72.04   \n",
       "18            Gurgaon           77.88           37.08        77.18      27.78   \n",
       "19               Lima           73.19           23.22        53.70      58.49   \n",
       "21               Lodz           73.32           26.37        53.21      37.21   \n",
       "23      Santo Domingo           74.60           28.82        62.50      18.59   \n",
       "26              Lagos           72.47           14.91        62.04      26.63   \n",
       "30              Dhaka           71.58           21.32        20.83      62.14   \n",
       "33   Saint Petersburg           73.10           24.82        46.34      77.98   \n",
       "40               Kiev           69.98           18.88        36.48      67.36   \n",
       "41             Tehran           72.13           18.09        43.98      87.62   \n",
       "44            Kharkiv           68.99           17.11        35.06      67.05   \n",
       "46              Delhi           77.12           34.39        74.99      73.03   \n",
       "47             Lahore           67.32           12.45        48.94      30.55   \n",
       "48              Hanoi           66.77           12.22        20.83      24.02   \n",
       "49            Cordoba           73.76           27.56        75.24      48.76   \n",
       "54     Belo Horizonte           71.79           21.77        57.26      59.73   \n",
       "60           Gaborone           75.32           30.98        27.78      30.55   \n",
       "61            Colombo           72.52           20.18        75.00      33.59   \n",
       "62              Cairo           67.93           11.90        56.48      86.16   \n",
       "64              Quito           67.15           14.24        32.41      14.76   \n",
       "66            Jakarta           69.15           17.38        38.33      57.91   \n",
       "67              Sofia           71.97           23.03        51.43      26.63   \n",
       "68             Tirana           69.78           17.80        44.44      80.84   \n",
       "77        Ulaanbaatar           68.29           15.35        43.06      55.87   \n",
       "78          Jerusalem           78.28           37.22        79.40      64.44   \n",
       "79           Curitiba           76.15           34.97        59.03      33.59   \n",
       "80           Medellin           70.14           19.20        85.88      37.27   \n",
       "83            Pattaya           70.69           19.51        91.46      29.86   \n",
       "84            Antalya           71.91           22.91        59.55      30.55   \n",
       "88            Kolkata           75.35           28.80        31.29      72.59   \n",
       "100              Pune           79.20           37.96        66.62      79.24   \n",
       "112        Casablanca           68.27           13.20        53.70      62.97   \n",
       "114          Belgrade           71.65           21.46        52.53      77.08   \n",
       "115        Chiang Mai           68.64           15.89        85.91      30.55   \n",
       "117         Hyderabad           79.35           39.93        63.89      89.72   \n",
       "118              Baku           66.42           11.38        28.70      49.47   \n",
       "119             Varna           71.11           20.34        50.23      80.84   \n",
       "125            Mumbai           77.13           28.83        58.41      70.49   \n",
       "131         Bucharest           72.28           22.85        52.05      74.57   \n",
       "132           Chennai           78.12           32.91        67.49      78.07   \n",
       "139            Zagreb           73.84           26.71        52.78      83.45   \n",
       "141          Vadodara           76.54           36.37        77.87      92.42   \n",
       "165             Minsk           68.41           16.14        50.00      66.89   \n",
       "168             Izmir           76.07           32.12        57.33      30.55   \n",
       "\n",
       "     Quality of Life  Crime Rating  Congestion Level  Education  \\\n",
       "0               8.61         85.70                 9      10.00   \n",
       "2              36.68         78.65                37      10.00   \n",
       "5              31.87         76.46                35      10.00   \n",
       "6              18.50         74.36                 9      26.00   \n",
       "8              14.36         71.88                 9      20.25   \n",
       "14             21.32         67.93                46      23.50   \n",
       "15             13.14         66.36                71      36.25   \n",
       "16             30.57         66.31                45      26.00   \n",
       "18             42.77         65.51                 9      15.00   \n",
       "19             22.67         65.31                57      26.50   \n",
       "21             46.29         64.51                47      30.25   \n",
       "23             41.88         62.19                26      16.25   \n",
       "26             19.48         60.44                 9      16.25   \n",
       "30             13.48         59.06                16      16.25   \n",
       "33             25.97         56.96                49      39.25   \n",
       "40             24.05         54.19                26      11.50   \n",
       "41             14.33         54.16                19      35.50   \n",
       "44             30.76         53.75                43      36.50   \n",
       "46             42.45         52.56                56      15.25   \n",
       "47             28.52         51.98                 9      13.75   \n",
       "48              5.29         51.81                13       9.50   \n",
       "49             47.68         51.56                14      24.50   \n",
       "54             36.26         50.99                35      36.50   \n",
       "60             31.77         50.00                 9      42.75   \n",
       "61             26.68         50.00                 9      12.75   \n",
       "62             17.25         48.81                40      19.75   \n",
       "64             46.43         48.36                 9      21.50   \n",
       "66             15.66         48.27                53      18.25   \n",
       "67             37.72         48.26                36       9.00   \n",
       "68             36.81         47.99                 9       9.00   \n",
       "77             24.50         46.87                10      15.00   \n",
       "78             50.87         46.59                40      10.00   \n",
       "79             58.67         46.27                28       9.00   \n",
       "80             39.70         46.02                30       9.00   \n",
       "83             46.01         45.52                30       9.00   \n",
       "84             40.51         44.53                29      24.00   \n",
       "88             25.64         43.33                19      18.75   \n",
       "100            43.84         41.37                59      12.75   \n",
       "112            48.69         38.28                 9      43.25   \n",
       "114            35.69         37.97                 9       9.00   \n",
       "115            37.50         37.78                16       9.00   \n",
       "117            54.97         36.90                 9      16.50   \n",
       "118            17.20         36.69                16       9.00   \n",
       "119            36.03         36.46                26       9.00   \n",
       "125            26.43         34.63                65      36.25   \n",
       "131            29.45         33.41                52      15.00   \n",
       "132            43.89         33.22                 9      13.75   \n",
       "139            47.59         32.29                 9      35.00   \n",
       "141            54.98         32.03                 9      10.00   \n",
       "165            51.66         26.82                32      10.00   \n",
       "168            42.90         25.91                29      21.00   \n",
       "\n",
       "     Annual Temperature        lat         lng  Cluster      Score  \n",
       "0                  71.6  10.480594  -66.903606        0  1791.0446  \n",
       "2                  79.9  -3.732714  -38.526998        0  2152.4498  \n",
       "5                  67.1 -30.034647  -51.217658        0  2208.3782  \n",
       "6                  78.8  24.860734   67.001136        0  1716.3225  \n",
       "8                  64.0  -1.292066   36.821946        0  1459.3746  \n",
       "14                 74.8 -22.906847  -43.172897        0  2193.8627  \n",
       "15                 83.1  14.599512  120.984220        0  2274.3554  \n",
       "16                 66.6 -23.550520  -46.633309        0  2158.8127  \n",
       "18                 77.3  28.459497   77.026638        0  1669.8747  \n",
       "19                 66.6 -12.046373  -77.042754        0  2030.1687  \n",
       "21                 53.6  51.759248   19.455983        0  1980.9844  \n",
       "23                 78.6  18.486058  -69.931212        0  1631.0468  \n",
       "26                 80.2   6.524379    3.379206        0  1316.5403  \n",
       "30                 78.6  23.810332   90.412518        0  1400.5928  \n",
       "33                 42.4  59.931058   30.360910        0  2060.9267  \n",
       "40                 47.1  50.450100   30.523400        0  1667.4655  \n",
       "41                 63.0  35.689197   51.388974        0  1703.2138  \n",
       "44                 45.3  49.993500   36.230383        0  1864.5061  \n",
       "46                 77.2  28.704059   77.102490        0  2327.6320  \n",
       "47                 75.7  31.520370   74.358747        0  1280.7497  \n",
       "48                 74.5  21.027764  105.834160        0   921.0169  \n",
       "49                 64.8  37.888175   -4.779383        0  1778.7148  \n",
       "54                 70.0 -19.916681  -43.934493        0  1853.9661  \n",
       "60                 70.0 -24.628208   25.923147        0  1203.5647  \n",
       "61                 81.3   6.927079   79.861243        0  1417.9598  \n",
       "62                 70.5  30.044420   31.235712        0  1912.4625  \n",
       "64                 57.9  -0.180653  -78.467838        0  1199.8523  \n",
       "66                 80.1  -6.208763  106.845599        0  1710.8826  \n",
       "67                 51.1  42.697708   23.321867        0  1574.8567  \n",
       "68                 59.4  41.327546   19.818698        0  1705.6191  \n",
       "77                 31.3  47.886399  106.905744        0  1417.4875  \n",
       "78                 63.0  31.768319   35.213710        0  2158.0507  \n",
       "79                 62.2 -25.428954  -49.267137        0  1763.8262  \n",
       "80                 72.5   6.247638  -75.565815        0  1759.0470  \n",
       "83                 83.0  12.923556  100.882455        0  1788.6336  \n",
       "84                 65.5  36.896891   30.713323        0  1561.5836  \n",
       "88                 80.1  22.572646   88.363895        0  1545.3354  \n",
       "100                77.0  18.520430   73.856744        0  2283.5774  \n",
       "112                63.8  43.037178  -88.135195        0  1618.5609  \n",
       "114                54.5  44.786568   20.448922        0  1630.6509  \n",
       "115                78.4  18.788344   98.985301        0  1492.2175  \n",
       "117                80.1  17.385044   78.486671        0  1967.1642  \n",
       "118                59.2  40.409262   49.867092        0  1166.2420  \n",
       "119                54.1  43.214050   27.914733        0  1791.3233  \n",
       "125                80.8  19.075984   72.877656        0  2011.7248  \n",
       "131                51.4  44.430449   26.097934        0  1907.5220  \n",
       "132                83.5  13.082680   80.270718        0  1759.9104  \n",
       "139                51.3  45.815011   15.981919        0  1746.8024  \n",
       "141                81.0  22.307159   73.181219        0  2013.8053  \n",
       "165                44.1  53.900601   27.558972        0  1789.9576  \n",
       "168                64.2  38.423734   27.142826        0  1425.6040  "
      ]
     },
     "execution_count": 328,
     "metadata": {},
     "output_type": "execute_result"
    }
   ],
   "source": [
    "df_to_plot"
   ]
  },
  {
   "cell_type": "code",
   "execution_count": 329,
   "metadata": {},
   "outputs": [],
   "source": [
    "features = ['Movehub Rating', 'Purchase Power', 'Health Care', 'Quality of Life', 'Pollution', 'Crime Rating','Congestion Level','Education','Annual Temperature']"
   ]
  },
  {
   "cell_type": "code",
   "execution_count": 330,
   "metadata": {},
   "outputs": [],
   "source": [
    "def create_graph(df):\n",
    "    fig = px.scatter_mapbox(df.sort_values('Score', ascending=False).round(),\n",
    "                        lat=\"lat\", lon=\"lng\", color=\"Score\", hover_name=\"City\",\n",
    "                        hover_data=features,\n",
    "                        color_continuous_scale=px.colors.cyclical.IceFire, size_max=15, zoom=1,\n",
    "                        mapbox_style=\"carto-positron\")\n",
    "    fig.show()"
   ]
  },
  {
   "cell_type": "code",
   "execution_count": 331,
   "metadata": {},
   "outputs": [
    {
     "data": {
      "application/vnd.plotly.v1+json": {
       "config": {
        "plotlyServerURL": "https://plot.ly"
       },
       "data": [
        {
         "customdata": [
          [
           77,
           34,
           75,
           42,
           73,
           53,
           56,
           15,
           77
          ],
          [
           79,
           38,
           67,
           44,
           79,
           41,
           59,
           13,
           77
          ],
          [
           68,
           15,
           81,
           13,
           65,
           66,
           71,
           36,
           83
          ],
          [
           70,
           19,
           51,
           32,
           86,
           76,
           35,
           10,
           67
          ],
          [
           73,
           22,
           62,
           21,
           85,
           68,
           46,
           24,
           75
          ],
          [
           75,
           24,
           64,
           31,
           72,
           66,
           45,
           26,
           67
          ],
          [
           78,
           37,
           79,
           51,
           64,
           47,
           40,
           10,
           63
          ],
          [
           80,
           52,
           45,
           37,
           66,
           79,
           37,
           10,
           80
          ],
          [
           73,
           25,
           46,
           26,
           78,
           57,
           49,
           39,
           42
          ],
          [
           73,
           23,
           54,
           23,
           58,
           65,
           57,
           26,
           67
          ],
          [
           77,
           36,
           78,
           55,
           92,
           32,
           9,
           10,
           81
          ],
          [
           77,
           29,
           58,
           26,
           70,
           35,
           65,
           36,
           81
          ],
          [
           73,
           26,
           53,
           46,
           37,
           65,
           47,
           30,
           54
          ],
          [
           79,
           40,
           64,
           55,
           90,
           37,
           9,
           16,
           80
          ],
          [
           68,
           12,
           56,
           17,
           86,
           49,
           40,
           20,
           70
          ],
          [
           72,
           23,
           52,
           29,
           75,
           33,
           52,
           15,
           51
          ],
          [
           69,
           17,
           35,
           31,
           67,
           54,
           43,
           36,
           45
          ],
          [
           72,
           22,
           57,
           36,
           60,
           51,
           35,
           36,
           70
          ],
          [
           71,
           20,
           50,
           36,
           81,
           36,
           26,
           9,
           54
          ],
          [
           65,
           11,
           44,
           9,
           83,
           86,
           9,
           10,
           72
          ],
          [
           68,
           16,
           50,
           52,
           67,
           27,
           32,
           10,
           44
          ],
          [
           71,
           20,
           91,
           46,
           30,
           46,
           30,
           9,
           83
          ],
          [
           74,
           28,
           75,
           48,
           49,
           52,
           14,
           24,
           65
          ],
          [
           76,
           35,
           59,
           59,
           34,
           46,
           28,
           9,
           62
          ],
          [
           78,
           33,
           67,
           44,
           78,
           33,
           9,
           14,
           84
          ],
          [
           70,
           19,
           86,
           40,
           37,
           46,
           30,
           9,
           72
          ],
          [
           74,
           27,
           53,
           48,
           83,
           32,
           9,
           35,
           51
          ],
          [
           68,
           15,
           52,
           18,
           70,
           74,
           9,
           26,
           79
          ],
          [
           69,
           17,
           38,
           16,
           58,
           48,
           53,
           18,
           80
          ],
          [
           70,
           18,
           44,
           37,
           81,
           48,
           9,
           9,
           59
          ],
          [
           72,
           18,
           44,
           14,
           88,
           54,
           19,
           36,
           63
          ],
          [
           78,
           37,
           77,
           43,
           28,
           66,
           9,
           15,
           77
          ],
          [
           70,
           19,
           36,
           24,
           67,
           54,
           26,
           12,
           47
          ],
          [
           75,
           29,
           62,
           42,
           19,
           62,
           26,
           16,
           79
          ],
          [
           72,
           21,
           53,
           36,
           77,
           38,
           9,
           9,
           54
          ],
          [
           68,
           13,
           54,
           49,
           63,
           38,
           9,
           43,
           64
          ],
          [
           72,
           23,
           51,
           38,
           27,
           48,
           36,
           9,
           51
          ],
          [
           72,
           23,
           60,
           41,
           31,
           45,
           29,
           24,
           66
          ],
          [
           75,
           29,
           31,
           26,
           73,
           43,
           19,
           19,
           80
          ],
          [
           69,
           16,
           86,
           38,
           31,
           38,
           16,
           9,
           78
          ],
          [
           71,
           16,
           61,
           14,
           39,
           72,
           9,
           20,
           64
          ],
          [
           76,
           32,
           57,
           43,
           31,
           26,
           29,
           21,
           64
          ],
          [
           73,
           20,
           75,
           27,
           34,
           50,
           9,
           13,
           81
          ],
          [
           68,
           15,
           43,
           24,
           56,
           47,
           10,
           15,
           31
          ],
          [
           72,
           21,
           21,
           13,
           62,
           59,
           16,
           16,
           79
          ],
          [
           72,
           15,
           62,
           19,
           27,
           60,
           9,
           16,
           80
          ],
          [
           67,
           12,
           49,
           29,
           31,
           52,
           9,
           14,
           76
          ],
          [
           75,
           31,
           28,
           32,
           31,
           50,
           9,
           43,
           70
          ],
          [
           67,
           14,
           32,
           46,
           15,
           48,
           9,
           22,
           58
          ],
          [
           66,
           11,
           29,
           17,
           49,
           37,
           16,
           9,
           59
          ],
          [
           67,
           12,
           21,
           5,
           24,
           52,
           13,
           10,
           74
          ]
         ],
         "hovertemplate": "<b>%{hovertext}</b><br><br>lat=%{lat}<br>lng=%{lon}<br>Movehub Rating=%{customdata[0]}<br>Purchase Power=%{customdata[1]}<br>Health Care=%{customdata[2]}<br>Quality of Life=%{customdata[3]}<br>Pollution=%{customdata[4]}<br>Crime Rating=%{customdata[5]}<br>Congestion Level=%{customdata[6]}<br>Education=%{customdata[7]}<br>Annual Temperature=%{customdata[8]}<br>Score=%{marker.color}<extra></extra>",
         "hovertext": [
          "Delhi",
          "Pune",
          "Manila",
          "Porto Alegre",
          "Rio De Janeiro",
          "Sao Paulo",
          "Jerusalem",
          "Fortaleza",
          "Saint Petersburg",
          "Lima",
          "Vadodara",
          "Mumbai",
          "Lodz",
          "Hyderabad",
          "Cairo",
          "Bucharest",
          "Kharkiv",
          "Belo Horizonte",
          "Varna",
          "Caracas",
          "Minsk",
          "Pattaya",
          "Cordoba",
          "Curitiba",
          "Chennai",
          "Medellin",
          "Zagreb",
          "Karachi",
          "Jakarta",
          "Tirana",
          "Tehran",
          "Gurgaon",
          "Kiev",
          "Santo Domingo",
          "Belgrade",
          "Casablanca",
          "Sofia",
          "Antalya",
          "Kolkata",
          "Chiang Mai",
          "Nairobi",
          "Izmir",
          "Colombo",
          "Ulaanbaatar",
          "Dhaka",
          "Lagos",
          "Lahore",
          "Gaborone",
          "Quito",
          "Baku",
          "Hanoi"
         ],
         "lat": [
          29,
          19,
          15,
          -30,
          -23,
          -24,
          32,
          -4,
          60,
          -12,
          22,
          19,
          52,
          17,
          30,
          44,
          50,
          -20,
          43,
          10,
          54,
          13,
          38,
          -25,
          13,
          6,
          46,
          25,
          -6,
          41,
          36,
          28,
          50,
          18,
          45,
          43,
          43,
          37,
          23,
          19,
          -1,
          38,
          7,
          48,
          24,
          7,
          32,
          -25,
          0,
          40,
          21
         ],
         "legendgroup": "",
         "lon": [
          77,
          74,
          121,
          -51,
          -43,
          -47,
          35,
          -39,
          30,
          -77,
          73,
          73,
          19,
          78,
          31,
          26,
          36,
          -44,
          28,
          -67,
          28,
          101,
          -5,
          -49,
          80,
          -76,
          16,
          67,
          107,
          20,
          51,
          77,
          31,
          -70,
          20,
          -88,
          23,
          31,
          88,
          99,
          37,
          27,
          80,
          107,
          90,
          3,
          74,
          26,
          -78,
          50,
          106
         ],
         "marker": {
          "color": [
           2328,
           2284,
           2274,
           2208,
           2194,
           2159,
           2158,
           2152,
           2061,
           2030,
           2014,
           2012,
           1981,
           1967,
           1912,
           1908,
           1865,
           1854,
           1791,
           1791,
           1790,
           1789,
           1779,
           1764,
           1760,
           1759,
           1747,
           1716,
           1711,
           1706,
           1703,
           1670,
           1667,
           1631,
           1631,
           1619,
           1575,
           1562,
           1545,
           1492,
           1459,
           1426,
           1418,
           1417,
           1401,
           1317,
           1281,
           1204,
           1200,
           1166,
           921
          ],
          "coloraxis": "coloraxis"
         },
         "mode": "markers",
         "name": "",
         "showlegend": false,
         "subplot": "mapbox",
         "type": "scattermapbox"
        }
       ],
       "layout": {
        "coloraxis": {
         "colorbar": {
          "title": {
           "text": "Score"
          }
         },
         "colorscale": [
          [
           0,
           "#000000"
          ],
          [
           0.0625,
           "#001f4d"
          ],
          [
           0.125,
           "#003786"
          ],
          [
           0.1875,
           "#0e58a8"
          ],
          [
           0.25,
           "#217eb8"
          ],
          [
           0.3125,
           "#30a4ca"
          ],
          [
           0.375,
           "#54c8df"
          ],
          [
           0.4375,
           "#9be4ef"
          ],
          [
           0.5,
           "#e1e9d1"
          ],
          [
           0.5625,
           "#f3d573"
          ],
          [
           0.625,
           "#e7b000"
          ],
          [
           0.6875,
           "#da8200"
          ],
          [
           0.75,
           "#c65400"
          ],
          [
           0.8125,
           "#ac2301"
          ],
          [
           0.875,
           "#820000"
          ],
          [
           0.9375,
           "#4c0000"
          ],
          [
           1,
           "#000000"
          ]
         ]
        },
        "legend": {
         "tracegroupgap": 0
        },
        "mapbox": {
         "center": {
          "lat": 20.92156862745098,
          "lon": 27.568627450980394
         },
         "domain": {
          "x": [
           0,
           1
          ],
          "y": [
           0,
           1
          ]
         },
         "style": "carto-positron",
         "zoom": 1
        },
        "margin": {
         "t": 60
        },
        "template": {
         "data": {
          "bar": [
           {
            "error_x": {
             "color": "#2a3f5f"
            },
            "error_y": {
             "color": "#2a3f5f"
            },
            "marker": {
             "line": {
              "color": "#E5ECF6",
              "width": 0.5
             }
            },
            "type": "bar"
           }
          ],
          "barpolar": [
           {
            "marker": {
             "line": {
              "color": "#E5ECF6",
              "width": 0.5
             }
            },
            "type": "barpolar"
           }
          ],
          "carpet": [
           {
            "aaxis": {
             "endlinecolor": "#2a3f5f",
             "gridcolor": "white",
             "linecolor": "white",
             "minorgridcolor": "white",
             "startlinecolor": "#2a3f5f"
            },
            "baxis": {
             "endlinecolor": "#2a3f5f",
             "gridcolor": "white",
             "linecolor": "white",
             "minorgridcolor": "white",
             "startlinecolor": "#2a3f5f"
            },
            "type": "carpet"
           }
          ],
          "choropleth": [
           {
            "colorbar": {
             "outlinewidth": 0,
             "ticks": ""
            },
            "type": "choropleth"
           }
          ],
          "contour": [
           {
            "colorbar": {
             "outlinewidth": 0,
             "ticks": ""
            },
            "colorscale": [
             [
              0,
              "#0d0887"
             ],
             [
              0.1111111111111111,
              "#46039f"
             ],
             [
              0.2222222222222222,
              "#7201a8"
             ],
             [
              0.3333333333333333,
              "#9c179e"
             ],
             [
              0.4444444444444444,
              "#bd3786"
             ],
             [
              0.5555555555555556,
              "#d8576b"
             ],
             [
              0.6666666666666666,
              "#ed7953"
             ],
             [
              0.7777777777777778,
              "#fb9f3a"
             ],
             [
              0.8888888888888888,
              "#fdca26"
             ],
             [
              1,
              "#f0f921"
             ]
            ],
            "type": "contour"
           }
          ],
          "contourcarpet": [
           {
            "colorbar": {
             "outlinewidth": 0,
             "ticks": ""
            },
            "type": "contourcarpet"
           }
          ],
          "heatmap": [
           {
            "colorbar": {
             "outlinewidth": 0,
             "ticks": ""
            },
            "colorscale": [
             [
              0,
              "#0d0887"
             ],
             [
              0.1111111111111111,
              "#46039f"
             ],
             [
              0.2222222222222222,
              "#7201a8"
             ],
             [
              0.3333333333333333,
              "#9c179e"
             ],
             [
              0.4444444444444444,
              "#bd3786"
             ],
             [
              0.5555555555555556,
              "#d8576b"
             ],
             [
              0.6666666666666666,
              "#ed7953"
             ],
             [
              0.7777777777777778,
              "#fb9f3a"
             ],
             [
              0.8888888888888888,
              "#fdca26"
             ],
             [
              1,
              "#f0f921"
             ]
            ],
            "type": "heatmap"
           }
          ],
          "heatmapgl": [
           {
            "colorbar": {
             "outlinewidth": 0,
             "ticks": ""
            },
            "colorscale": [
             [
              0,
              "#0d0887"
             ],
             [
              0.1111111111111111,
              "#46039f"
             ],
             [
              0.2222222222222222,
              "#7201a8"
             ],
             [
              0.3333333333333333,
              "#9c179e"
             ],
             [
              0.4444444444444444,
              "#bd3786"
             ],
             [
              0.5555555555555556,
              "#d8576b"
             ],
             [
              0.6666666666666666,
              "#ed7953"
             ],
             [
              0.7777777777777778,
              "#fb9f3a"
             ],
             [
              0.8888888888888888,
              "#fdca26"
             ],
             [
              1,
              "#f0f921"
             ]
            ],
            "type": "heatmapgl"
           }
          ],
          "histogram": [
           {
            "marker": {
             "colorbar": {
              "outlinewidth": 0,
              "ticks": ""
             }
            },
            "type": "histogram"
           }
          ],
          "histogram2d": [
           {
            "colorbar": {
             "outlinewidth": 0,
             "ticks": ""
            },
            "colorscale": [
             [
              0,
              "#0d0887"
             ],
             [
              0.1111111111111111,
              "#46039f"
             ],
             [
              0.2222222222222222,
              "#7201a8"
             ],
             [
              0.3333333333333333,
              "#9c179e"
             ],
             [
              0.4444444444444444,
              "#bd3786"
             ],
             [
              0.5555555555555556,
              "#d8576b"
             ],
             [
              0.6666666666666666,
              "#ed7953"
             ],
             [
              0.7777777777777778,
              "#fb9f3a"
             ],
             [
              0.8888888888888888,
              "#fdca26"
             ],
             [
              1,
              "#f0f921"
             ]
            ],
            "type": "histogram2d"
           }
          ],
          "histogram2dcontour": [
           {
            "colorbar": {
             "outlinewidth": 0,
             "ticks": ""
            },
            "colorscale": [
             [
              0,
              "#0d0887"
             ],
             [
              0.1111111111111111,
              "#46039f"
             ],
             [
              0.2222222222222222,
              "#7201a8"
             ],
             [
              0.3333333333333333,
              "#9c179e"
             ],
             [
              0.4444444444444444,
              "#bd3786"
             ],
             [
              0.5555555555555556,
              "#d8576b"
             ],
             [
              0.6666666666666666,
              "#ed7953"
             ],
             [
              0.7777777777777778,
              "#fb9f3a"
             ],
             [
              0.8888888888888888,
              "#fdca26"
             ],
             [
              1,
              "#f0f921"
             ]
            ],
            "type": "histogram2dcontour"
           }
          ],
          "mesh3d": [
           {
            "colorbar": {
             "outlinewidth": 0,
             "ticks": ""
            },
            "type": "mesh3d"
           }
          ],
          "parcoords": [
           {
            "line": {
             "colorbar": {
              "outlinewidth": 0,
              "ticks": ""
             }
            },
            "type": "parcoords"
           }
          ],
          "pie": [
           {
            "automargin": true,
            "type": "pie"
           }
          ],
          "scatter": [
           {
            "marker": {
             "colorbar": {
              "outlinewidth": 0,
              "ticks": ""
             }
            },
            "type": "scatter"
           }
          ],
          "scatter3d": [
           {
            "line": {
             "colorbar": {
              "outlinewidth": 0,
              "ticks": ""
             }
            },
            "marker": {
             "colorbar": {
              "outlinewidth": 0,
              "ticks": ""
             }
            },
            "type": "scatter3d"
           }
          ],
          "scattercarpet": [
           {
            "marker": {
             "colorbar": {
              "outlinewidth": 0,
              "ticks": ""
             }
            },
            "type": "scattercarpet"
           }
          ],
          "scattergeo": [
           {
            "marker": {
             "colorbar": {
              "outlinewidth": 0,
              "ticks": ""
             }
            },
            "type": "scattergeo"
           }
          ],
          "scattergl": [
           {
            "marker": {
             "colorbar": {
              "outlinewidth": 0,
              "ticks": ""
             }
            },
            "type": "scattergl"
           }
          ],
          "scattermapbox": [
           {
            "marker": {
             "colorbar": {
              "outlinewidth": 0,
              "ticks": ""
             }
            },
            "type": "scattermapbox"
           }
          ],
          "scatterpolar": [
           {
            "marker": {
             "colorbar": {
              "outlinewidth": 0,
              "ticks": ""
             }
            },
            "type": "scatterpolar"
           }
          ],
          "scatterpolargl": [
           {
            "marker": {
             "colorbar": {
              "outlinewidth": 0,
              "ticks": ""
             }
            },
            "type": "scatterpolargl"
           }
          ],
          "scatterternary": [
           {
            "marker": {
             "colorbar": {
              "outlinewidth": 0,
              "ticks": ""
             }
            },
            "type": "scatterternary"
           }
          ],
          "surface": [
           {
            "colorbar": {
             "outlinewidth": 0,
             "ticks": ""
            },
            "colorscale": [
             [
              0,
              "#0d0887"
             ],
             [
              0.1111111111111111,
              "#46039f"
             ],
             [
              0.2222222222222222,
              "#7201a8"
             ],
             [
              0.3333333333333333,
              "#9c179e"
             ],
             [
              0.4444444444444444,
              "#bd3786"
             ],
             [
              0.5555555555555556,
              "#d8576b"
             ],
             [
              0.6666666666666666,
              "#ed7953"
             ],
             [
              0.7777777777777778,
              "#fb9f3a"
             ],
             [
              0.8888888888888888,
              "#fdca26"
             ],
             [
              1,
              "#f0f921"
             ]
            ],
            "type": "surface"
           }
          ],
          "table": [
           {
            "cells": {
             "fill": {
              "color": "#EBF0F8"
             },
             "line": {
              "color": "white"
             }
            },
            "header": {
             "fill": {
              "color": "#C8D4E3"
             },
             "line": {
              "color": "white"
             }
            },
            "type": "table"
           }
          ]
         },
         "layout": {
          "annotationdefaults": {
           "arrowcolor": "#2a3f5f",
           "arrowhead": 0,
           "arrowwidth": 1
          },
          "coloraxis": {
           "colorbar": {
            "outlinewidth": 0,
            "ticks": ""
           }
          },
          "colorscale": {
           "diverging": [
            [
             0,
             "#8e0152"
            ],
            [
             0.1,
             "#c51b7d"
            ],
            [
             0.2,
             "#de77ae"
            ],
            [
             0.3,
             "#f1b6da"
            ],
            [
             0.4,
             "#fde0ef"
            ],
            [
             0.5,
             "#f7f7f7"
            ],
            [
             0.6,
             "#e6f5d0"
            ],
            [
             0.7,
             "#b8e186"
            ],
            [
             0.8,
             "#7fbc41"
            ],
            [
             0.9,
             "#4d9221"
            ],
            [
             1,
             "#276419"
            ]
           ],
           "sequential": [
            [
             0,
             "#0d0887"
            ],
            [
             0.1111111111111111,
             "#46039f"
            ],
            [
             0.2222222222222222,
             "#7201a8"
            ],
            [
             0.3333333333333333,
             "#9c179e"
            ],
            [
             0.4444444444444444,
             "#bd3786"
            ],
            [
             0.5555555555555556,
             "#d8576b"
            ],
            [
             0.6666666666666666,
             "#ed7953"
            ],
            [
             0.7777777777777778,
             "#fb9f3a"
            ],
            [
             0.8888888888888888,
             "#fdca26"
            ],
            [
             1,
             "#f0f921"
            ]
           ],
           "sequentialminus": [
            [
             0,
             "#0d0887"
            ],
            [
             0.1111111111111111,
             "#46039f"
            ],
            [
             0.2222222222222222,
             "#7201a8"
            ],
            [
             0.3333333333333333,
             "#9c179e"
            ],
            [
             0.4444444444444444,
             "#bd3786"
            ],
            [
             0.5555555555555556,
             "#d8576b"
            ],
            [
             0.6666666666666666,
             "#ed7953"
            ],
            [
             0.7777777777777778,
             "#fb9f3a"
            ],
            [
             0.8888888888888888,
             "#fdca26"
            ],
            [
             1,
             "#f0f921"
            ]
           ]
          },
          "colorway": [
           "#636efa",
           "#EF553B",
           "#00cc96",
           "#ab63fa",
           "#FFA15A",
           "#19d3f3",
           "#FF6692",
           "#B6E880",
           "#FF97FF",
           "#FECB52"
          ],
          "font": {
           "color": "#2a3f5f"
          },
          "geo": {
           "bgcolor": "white",
           "lakecolor": "white",
           "landcolor": "#E5ECF6",
           "showlakes": true,
           "showland": true,
           "subunitcolor": "white"
          },
          "hoverlabel": {
           "align": "left"
          },
          "hovermode": "closest",
          "mapbox": {
           "style": "light"
          },
          "paper_bgcolor": "white",
          "plot_bgcolor": "#E5ECF6",
          "polar": {
           "angularaxis": {
            "gridcolor": "white",
            "linecolor": "white",
            "ticks": ""
           },
           "bgcolor": "#E5ECF6",
           "radialaxis": {
            "gridcolor": "white",
            "linecolor": "white",
            "ticks": ""
           }
          },
          "scene": {
           "xaxis": {
            "backgroundcolor": "#E5ECF6",
            "gridcolor": "white",
            "gridwidth": 2,
            "linecolor": "white",
            "showbackground": true,
            "ticks": "",
            "zerolinecolor": "white"
           },
           "yaxis": {
            "backgroundcolor": "#E5ECF6",
            "gridcolor": "white",
            "gridwidth": 2,
            "linecolor": "white",
            "showbackground": true,
            "ticks": "",
            "zerolinecolor": "white"
           },
           "zaxis": {
            "backgroundcolor": "#E5ECF6",
            "gridcolor": "white",
            "gridwidth": 2,
            "linecolor": "white",
            "showbackground": true,
            "ticks": "",
            "zerolinecolor": "white"
           }
          },
          "shapedefaults": {
           "line": {
            "color": "#2a3f5f"
           }
          },
          "ternary": {
           "aaxis": {
            "gridcolor": "white",
            "linecolor": "white",
            "ticks": ""
           },
           "baxis": {
            "gridcolor": "white",
            "linecolor": "white",
            "ticks": ""
           },
           "bgcolor": "#E5ECF6",
           "caxis": {
            "gridcolor": "white",
            "linecolor": "white",
            "ticks": ""
           }
          },
          "title": {
           "x": 0.05
          },
          "xaxis": {
           "automargin": true,
           "gridcolor": "white",
           "linecolor": "white",
           "ticks": "",
           "title": {
            "standoff": 15
           },
           "zerolinecolor": "white",
           "zerolinewidth": 2
          },
          "yaxis": {
           "automargin": true,
           "gridcolor": "white",
           "linecolor": "white",
           "ticks": "",
           "title": {
            "standoff": 15
           },
           "zerolinecolor": "white",
           "zerolinewidth": 2
          }
         }
        }
       }
      },
      "text/html": [
       "<div>                            <div id=\"c65b186b-a467-4281-be62-81843d15cb6c\" class=\"plotly-graph-div\" style=\"height:525px; width:100%;\"></div>            <script type=\"text/javascript\">                require([\"plotly\"], function(Plotly) {                    window.PLOTLYENV=window.PLOTLYENV || {};                                    if (document.getElementById(\"c65b186b-a467-4281-be62-81843d15cb6c\")) {                    Plotly.newPlot(                        \"c65b186b-a467-4281-be62-81843d15cb6c\",                        [{\"customdata\": [[77.0, 34.0, 75.0, 42.0, 73.0, 53.0, 56.0, 15.0, 77.0], [79.0, 38.0, 67.0, 44.0, 79.0, 41.0, 59.0, 13.0, 77.0], [68.0, 15.0, 81.0, 13.0, 65.0, 66.0, 71.0, 36.0, 83.0], [70.0, 19.0, 51.0, 32.0, 86.0, 76.0, 35.0, 10.0, 67.0], [73.0, 22.0, 62.0, 21.0, 85.0, 68.0, 46.0, 24.0, 75.0], [75.0, 24.0, 64.0, 31.0, 72.0, 66.0, 45.0, 26.0, 67.0], [78.0, 37.0, 79.0, 51.0, 64.0, 47.0, 40.0, 10.0, 63.0], [80.0, 52.0, 45.0, 37.0, 66.0, 79.0, 37.0, 10.0, 80.0], [73.0, 25.0, 46.0, 26.0, 78.0, 57.0, 49.0, 39.0, 42.0], [73.0, 23.0, 54.0, 23.0, 58.0, 65.0, 57.0, 26.0, 67.0], [77.0, 36.0, 78.0, 55.0, 92.0, 32.0, 9.0, 10.0, 81.0], [77.0, 29.0, 58.0, 26.0, 70.0, 35.0, 65.0, 36.0, 81.0], [73.0, 26.0, 53.0, 46.0, 37.0, 65.0, 47.0, 30.0, 54.0], [79.0, 40.0, 64.0, 55.0, 90.0, 37.0, 9.0, 16.0, 80.0], [68.0, 12.0, 56.0, 17.0, 86.0, 49.0, 40.0, 20.0, 70.0], [72.0, 23.0, 52.0, 29.0, 75.0, 33.0, 52.0, 15.0, 51.0], [69.0, 17.0, 35.0, 31.0, 67.0, 54.0, 43.0, 36.0, 45.0], [72.0, 22.0, 57.0, 36.0, 60.0, 51.0, 35.0, 36.0, 70.0], [71.0, 20.0, 50.0, 36.0, 81.0, 36.0, 26.0, 9.0, 54.0], [65.0, 11.0, 44.0, 9.0, 83.0, 86.0, 9.0, 10.0, 72.0], [68.0, 16.0, 50.0, 52.0, 67.0, 27.0, 32.0, 10.0, 44.0], [71.0, 20.0, 91.0, 46.0, 30.0, 46.0, 30.0, 9.0, 83.0], [74.0, 28.0, 75.0, 48.0, 49.0, 52.0, 14.0, 24.0, 65.0], [76.0, 35.0, 59.0, 59.0, 34.0, 46.0, 28.0, 9.0, 62.0], [78.0, 33.0, 67.0, 44.0, 78.0, 33.0, 9.0, 14.0, 84.0], [70.0, 19.0, 86.0, 40.0, 37.0, 46.0, 30.0, 9.0, 72.0], [74.0, 27.0, 53.0, 48.0, 83.0, 32.0, 9.0, 35.0, 51.0], [68.0, 15.0, 52.0, 18.0, 70.0, 74.0, 9.0, 26.0, 79.0], [69.0, 17.0, 38.0, 16.0, 58.0, 48.0, 53.0, 18.0, 80.0], [70.0, 18.0, 44.0, 37.0, 81.0, 48.0, 9.0, 9.0, 59.0], [72.0, 18.0, 44.0, 14.0, 88.0, 54.0, 19.0, 36.0, 63.0], [78.0, 37.0, 77.0, 43.0, 28.0, 66.0, 9.0, 15.0, 77.0], [70.0, 19.0, 36.0, 24.0, 67.0, 54.0, 26.0, 12.0, 47.0], [75.0, 29.0, 62.0, 42.0, 19.0, 62.0, 26.0, 16.0, 79.0], [72.0, 21.0, 53.0, 36.0, 77.0, 38.0, 9.0, 9.0, 54.0], [68.0, 13.0, 54.0, 49.0, 63.0, 38.0, 9.0, 43.0, 64.0], [72.0, 23.0, 51.0, 38.0, 27.0, 48.0, 36.0, 9.0, 51.0], [72.0, 23.0, 60.0, 41.0, 31.0, 45.0, 29.0, 24.0, 66.0], [75.0, 29.0, 31.0, 26.0, 73.0, 43.0, 19.0, 19.0, 80.0], [69.0, 16.0, 86.0, 38.0, 31.0, 38.0, 16.0, 9.0, 78.0], [71.0, 16.0, 61.0, 14.0, 39.0, 72.0, 9.0, 20.0, 64.0], [76.0, 32.0, 57.0, 43.0, 31.0, 26.0, 29.0, 21.0, 64.0], [73.0, 20.0, 75.0, 27.0, 34.0, 50.0, 9.0, 13.0, 81.0], [68.0, 15.0, 43.0, 24.0, 56.0, 47.0, 10.0, 15.0, 31.0], [72.0, 21.0, 21.0, 13.0, 62.0, 59.0, 16.0, 16.0, 79.0], [72.0, 15.0, 62.0, 19.0, 27.0, 60.0, 9.0, 16.0, 80.0], [67.0, 12.0, 49.0, 29.0, 31.0, 52.0, 9.0, 14.0, 76.0], [75.0, 31.0, 28.0, 32.0, 31.0, 50.0, 9.0, 43.0, 70.0], [67.0, 14.0, 32.0, 46.0, 15.0, 48.0, 9.0, 22.0, 58.0], [66.0, 11.0, 29.0, 17.0, 49.0, 37.0, 16.0, 9.0, 59.0], [67.0, 12.0, 21.0, 5.0, 24.0, 52.0, 13.0, 10.0, 74.0]], \"hovertemplate\": \"<b>%{hovertext}</b><br><br>lat=%{lat}<br>lng=%{lon}<br>Movehub Rating=%{customdata[0]}<br>Purchase Power=%{customdata[1]}<br>Health Care=%{customdata[2]}<br>Quality of Life=%{customdata[3]}<br>Pollution=%{customdata[4]}<br>Crime Rating=%{customdata[5]}<br>Congestion Level=%{customdata[6]}<br>Education=%{customdata[7]}<br>Annual Temperature=%{customdata[8]}<br>Score=%{marker.color}<extra></extra>\", \"hovertext\": [\"Delhi\", \"Pune\", \"Manila\", \"Porto Alegre\", \"Rio De Janeiro\", \"Sao Paulo\", \"Jerusalem\", \"Fortaleza\", \"Saint Petersburg\", \"Lima\", \"Vadodara\", \"Mumbai\", \"Lodz\", \"Hyderabad\", \"Cairo\", \"Bucharest\", \"Kharkiv\", \"Belo Horizonte\", \"Varna\", \"Caracas\", \"Minsk\", \"Pattaya\", \"Cordoba\", \"Curitiba\", \"Chennai\", \"Medellin\", \"Zagreb\", \"Karachi\", \"Jakarta\", \"Tirana\", \"Tehran\", \"Gurgaon\", \"Kiev\", \"Santo Domingo\", \"Belgrade\", \"Casablanca\", \"Sofia\", \"Antalya\", \"Kolkata\", \"Chiang Mai\", \"Nairobi\", \"Izmir\", \"Colombo\", \"Ulaanbaatar\", \"Dhaka\", \"Lagos\", \"Lahore\", \"Gaborone\", \"Quito\", \"Baku\", \"Hanoi\"], \"lat\": [29.0, 19.0, 15.0, -30.0, -23.0, -24.0, 32.0, -4.0, 60.0, -12.0, 22.0, 19.0, 52.0, 17.0, 30.0, 44.0, 50.0, -20.0, 43.0, 10.0, 54.0, 13.0, 38.0, -25.0, 13.0, 6.0, 46.0, 25.0, -6.0, 41.0, 36.0, 28.0, 50.0, 18.0, 45.0, 43.0, 43.0, 37.0, 23.0, 19.0, -1.0, 38.0, 7.0, 48.0, 24.0, 7.0, 32.0, -25.0, -0.0, 40.0, 21.0], \"legendgroup\": \"\", \"lon\": [77.0, 74.0, 121.0, -51.0, -43.0, -47.0, 35.0, -39.0, 30.0, -77.0, 73.0, 73.0, 19.0, 78.0, 31.0, 26.0, 36.0, -44.0, 28.0, -67.0, 28.0, 101.0, -5.0, -49.0, 80.0, -76.0, 16.0, 67.0, 107.0, 20.0, 51.0, 77.0, 31.0, -70.0, 20.0, -88.0, 23.0, 31.0, 88.0, 99.0, 37.0, 27.0, 80.0, 107.0, 90.0, 3.0, 74.0, 26.0, -78.0, 50.0, 106.0], \"marker\": {\"color\": [2328.0, 2284.0, 2274.0, 2208.0, 2194.0, 2159.0, 2158.0, 2152.0, 2061.0, 2030.0, 2014.0, 2012.0, 1981.0, 1967.0, 1912.0, 1908.0, 1865.0, 1854.0, 1791.0, 1791.0, 1790.0, 1789.0, 1779.0, 1764.0, 1760.0, 1759.0, 1747.0, 1716.0, 1711.0, 1706.0, 1703.0, 1670.0, 1667.0, 1631.0, 1631.0, 1619.0, 1575.0, 1562.0, 1545.0, 1492.0, 1459.0, 1426.0, 1418.0, 1417.0, 1401.0, 1317.0, 1281.0, 1204.0, 1200.0, 1166.0, 921.0], \"coloraxis\": \"coloraxis\"}, \"mode\": \"markers\", \"name\": \"\", \"showlegend\": false, \"subplot\": \"mapbox\", \"type\": \"scattermapbox\"}],                        {\"coloraxis\": {\"colorbar\": {\"title\": {\"text\": \"Score\"}}, \"colorscale\": [[0.0, \"#000000\"], [0.0625, \"#001f4d\"], [0.125, \"#003786\"], [0.1875, \"#0e58a8\"], [0.25, \"#217eb8\"], [0.3125, \"#30a4ca\"], [0.375, \"#54c8df\"], [0.4375, \"#9be4ef\"], [0.5, \"#e1e9d1\"], [0.5625, \"#f3d573\"], [0.625, \"#e7b000\"], [0.6875, \"#da8200\"], [0.75, \"#c65400\"], [0.8125, \"#ac2301\"], [0.875, \"#820000\"], [0.9375, \"#4c0000\"], [1.0, \"#000000\"]]}, \"legend\": {\"tracegroupgap\": 0}, \"mapbox\": {\"center\": {\"lat\": 20.92156862745098, \"lon\": 27.568627450980394}, \"domain\": {\"x\": [0.0, 1.0], \"y\": [0.0, 1.0]}, \"style\": \"carto-positron\", \"zoom\": 1}, \"margin\": {\"t\": 60}, \"template\": {\"data\": {\"bar\": [{\"error_x\": {\"color\": \"#2a3f5f\"}, \"error_y\": {\"color\": \"#2a3f5f\"}, \"marker\": {\"line\": {\"color\": \"#E5ECF6\", \"width\": 0.5}}, \"type\": \"bar\"}], \"barpolar\": [{\"marker\": {\"line\": {\"color\": \"#E5ECF6\", \"width\": 0.5}}, \"type\": \"barpolar\"}], \"carpet\": [{\"aaxis\": {\"endlinecolor\": \"#2a3f5f\", \"gridcolor\": \"white\", \"linecolor\": \"white\", \"minorgridcolor\": \"white\", \"startlinecolor\": \"#2a3f5f\"}, \"baxis\": {\"endlinecolor\": \"#2a3f5f\", \"gridcolor\": \"white\", \"linecolor\": \"white\", \"minorgridcolor\": \"white\", \"startlinecolor\": \"#2a3f5f\"}, \"type\": \"carpet\"}], \"choropleth\": [{\"colorbar\": {\"outlinewidth\": 0, \"ticks\": \"\"}, \"type\": \"choropleth\"}], \"contour\": [{\"colorbar\": {\"outlinewidth\": 0, \"ticks\": \"\"}, \"colorscale\": [[0.0, \"#0d0887\"], [0.1111111111111111, \"#46039f\"], [0.2222222222222222, \"#7201a8\"], [0.3333333333333333, \"#9c179e\"], [0.4444444444444444, \"#bd3786\"], [0.5555555555555556, \"#d8576b\"], [0.6666666666666666, \"#ed7953\"], [0.7777777777777778, \"#fb9f3a\"], [0.8888888888888888, \"#fdca26\"], [1.0, \"#f0f921\"]], \"type\": \"contour\"}], \"contourcarpet\": [{\"colorbar\": {\"outlinewidth\": 0, \"ticks\": \"\"}, \"type\": \"contourcarpet\"}], \"heatmap\": [{\"colorbar\": {\"outlinewidth\": 0, \"ticks\": \"\"}, \"colorscale\": [[0.0, \"#0d0887\"], [0.1111111111111111, \"#46039f\"], [0.2222222222222222, \"#7201a8\"], [0.3333333333333333, \"#9c179e\"], [0.4444444444444444, \"#bd3786\"], [0.5555555555555556, \"#d8576b\"], [0.6666666666666666, \"#ed7953\"], [0.7777777777777778, \"#fb9f3a\"], [0.8888888888888888, \"#fdca26\"], [1.0, \"#f0f921\"]], \"type\": \"heatmap\"}], \"heatmapgl\": [{\"colorbar\": {\"outlinewidth\": 0, \"ticks\": \"\"}, \"colorscale\": [[0.0, \"#0d0887\"], [0.1111111111111111, \"#46039f\"], [0.2222222222222222, \"#7201a8\"], [0.3333333333333333, \"#9c179e\"], [0.4444444444444444, \"#bd3786\"], [0.5555555555555556, \"#d8576b\"], [0.6666666666666666, \"#ed7953\"], [0.7777777777777778, \"#fb9f3a\"], [0.8888888888888888, \"#fdca26\"], [1.0, \"#f0f921\"]], \"type\": \"heatmapgl\"}], \"histogram\": [{\"marker\": {\"colorbar\": {\"outlinewidth\": 0, \"ticks\": \"\"}}, \"type\": \"histogram\"}], \"histogram2d\": [{\"colorbar\": {\"outlinewidth\": 0, \"ticks\": \"\"}, \"colorscale\": [[0.0, \"#0d0887\"], [0.1111111111111111, \"#46039f\"], [0.2222222222222222, \"#7201a8\"], [0.3333333333333333, \"#9c179e\"], [0.4444444444444444, \"#bd3786\"], [0.5555555555555556, \"#d8576b\"], [0.6666666666666666, \"#ed7953\"], [0.7777777777777778, \"#fb9f3a\"], [0.8888888888888888, \"#fdca26\"], [1.0, \"#f0f921\"]], \"type\": \"histogram2d\"}], \"histogram2dcontour\": [{\"colorbar\": {\"outlinewidth\": 0, \"ticks\": \"\"}, \"colorscale\": [[0.0, \"#0d0887\"], [0.1111111111111111, \"#46039f\"], [0.2222222222222222, \"#7201a8\"], [0.3333333333333333, \"#9c179e\"], [0.4444444444444444, \"#bd3786\"], [0.5555555555555556, \"#d8576b\"], [0.6666666666666666, \"#ed7953\"], [0.7777777777777778, \"#fb9f3a\"], [0.8888888888888888, \"#fdca26\"], [1.0, \"#f0f921\"]], \"type\": \"histogram2dcontour\"}], \"mesh3d\": [{\"colorbar\": {\"outlinewidth\": 0, \"ticks\": \"\"}, \"type\": \"mesh3d\"}], \"parcoords\": [{\"line\": {\"colorbar\": {\"outlinewidth\": 0, \"ticks\": \"\"}}, \"type\": \"parcoords\"}], \"pie\": [{\"automargin\": true, \"type\": \"pie\"}], \"scatter\": [{\"marker\": {\"colorbar\": {\"outlinewidth\": 0, \"ticks\": \"\"}}, \"type\": \"scatter\"}], \"scatter3d\": [{\"line\": {\"colorbar\": {\"outlinewidth\": 0, \"ticks\": \"\"}}, \"marker\": {\"colorbar\": {\"outlinewidth\": 0, \"ticks\": \"\"}}, \"type\": \"scatter3d\"}], \"scattercarpet\": [{\"marker\": {\"colorbar\": {\"outlinewidth\": 0, \"ticks\": \"\"}}, \"type\": \"scattercarpet\"}], \"scattergeo\": [{\"marker\": {\"colorbar\": {\"outlinewidth\": 0, \"ticks\": \"\"}}, \"type\": \"scattergeo\"}], \"scattergl\": [{\"marker\": {\"colorbar\": {\"outlinewidth\": 0, \"ticks\": \"\"}}, \"type\": \"scattergl\"}], \"scattermapbox\": [{\"marker\": {\"colorbar\": {\"outlinewidth\": 0, \"ticks\": \"\"}}, \"type\": \"scattermapbox\"}], \"scatterpolar\": [{\"marker\": {\"colorbar\": {\"outlinewidth\": 0, \"ticks\": \"\"}}, \"type\": \"scatterpolar\"}], \"scatterpolargl\": [{\"marker\": {\"colorbar\": {\"outlinewidth\": 0, \"ticks\": \"\"}}, \"type\": \"scatterpolargl\"}], \"scatterternary\": [{\"marker\": {\"colorbar\": {\"outlinewidth\": 0, \"ticks\": \"\"}}, \"type\": \"scatterternary\"}], \"surface\": [{\"colorbar\": {\"outlinewidth\": 0, \"ticks\": \"\"}, \"colorscale\": [[0.0, \"#0d0887\"], [0.1111111111111111, \"#46039f\"], [0.2222222222222222, \"#7201a8\"], [0.3333333333333333, \"#9c179e\"], [0.4444444444444444, \"#bd3786\"], [0.5555555555555556, \"#d8576b\"], [0.6666666666666666, \"#ed7953\"], [0.7777777777777778, \"#fb9f3a\"], [0.8888888888888888, \"#fdca26\"], [1.0, \"#f0f921\"]], \"type\": \"surface\"}], \"table\": [{\"cells\": {\"fill\": {\"color\": \"#EBF0F8\"}, \"line\": {\"color\": \"white\"}}, \"header\": {\"fill\": {\"color\": \"#C8D4E3\"}, \"line\": {\"color\": \"white\"}}, \"type\": \"table\"}]}, \"layout\": {\"annotationdefaults\": {\"arrowcolor\": \"#2a3f5f\", \"arrowhead\": 0, \"arrowwidth\": 1}, \"coloraxis\": {\"colorbar\": {\"outlinewidth\": 0, \"ticks\": \"\"}}, \"colorscale\": {\"diverging\": [[0, \"#8e0152\"], [0.1, \"#c51b7d\"], [0.2, \"#de77ae\"], [0.3, \"#f1b6da\"], [0.4, \"#fde0ef\"], [0.5, \"#f7f7f7\"], [0.6, \"#e6f5d0\"], [0.7, \"#b8e186\"], [0.8, \"#7fbc41\"], [0.9, \"#4d9221\"], [1, \"#276419\"]], \"sequential\": [[0.0, \"#0d0887\"], [0.1111111111111111, \"#46039f\"], [0.2222222222222222, \"#7201a8\"], [0.3333333333333333, \"#9c179e\"], [0.4444444444444444, \"#bd3786\"], [0.5555555555555556, \"#d8576b\"], [0.6666666666666666, \"#ed7953\"], [0.7777777777777778, \"#fb9f3a\"], [0.8888888888888888, \"#fdca26\"], [1.0, \"#f0f921\"]], \"sequentialminus\": [[0.0, \"#0d0887\"], [0.1111111111111111, \"#46039f\"], [0.2222222222222222, \"#7201a8\"], [0.3333333333333333, \"#9c179e\"], [0.4444444444444444, \"#bd3786\"], [0.5555555555555556, \"#d8576b\"], [0.6666666666666666, \"#ed7953\"], [0.7777777777777778, \"#fb9f3a\"], [0.8888888888888888, \"#fdca26\"], [1.0, \"#f0f921\"]]}, \"colorway\": [\"#636efa\", \"#EF553B\", \"#00cc96\", \"#ab63fa\", \"#FFA15A\", \"#19d3f3\", \"#FF6692\", \"#B6E880\", \"#FF97FF\", \"#FECB52\"], \"font\": {\"color\": \"#2a3f5f\"}, \"geo\": {\"bgcolor\": \"white\", \"lakecolor\": \"white\", \"landcolor\": \"#E5ECF6\", \"showlakes\": true, \"showland\": true, \"subunitcolor\": \"white\"}, \"hoverlabel\": {\"align\": \"left\"}, \"hovermode\": \"closest\", \"mapbox\": {\"style\": \"light\"}, \"paper_bgcolor\": \"white\", \"plot_bgcolor\": \"#E5ECF6\", \"polar\": {\"angularaxis\": {\"gridcolor\": \"white\", \"linecolor\": \"white\", \"ticks\": \"\"}, \"bgcolor\": \"#E5ECF6\", \"radialaxis\": {\"gridcolor\": \"white\", \"linecolor\": \"white\", \"ticks\": \"\"}}, \"scene\": {\"xaxis\": {\"backgroundcolor\": \"#E5ECF6\", \"gridcolor\": \"white\", \"gridwidth\": 2, \"linecolor\": \"white\", \"showbackground\": true, \"ticks\": \"\", \"zerolinecolor\": \"white\"}, \"yaxis\": {\"backgroundcolor\": \"#E5ECF6\", \"gridcolor\": \"white\", \"gridwidth\": 2, \"linecolor\": \"white\", \"showbackground\": true, \"ticks\": \"\", \"zerolinecolor\": \"white\"}, \"zaxis\": {\"backgroundcolor\": \"#E5ECF6\", \"gridcolor\": \"white\", \"gridwidth\": 2, \"linecolor\": \"white\", \"showbackground\": true, \"ticks\": \"\", \"zerolinecolor\": \"white\"}}, \"shapedefaults\": {\"line\": {\"color\": \"#2a3f5f\"}}, \"ternary\": {\"aaxis\": {\"gridcolor\": \"white\", \"linecolor\": \"white\", \"ticks\": \"\"}, \"baxis\": {\"gridcolor\": \"white\", \"linecolor\": \"white\", \"ticks\": \"\"}, \"bgcolor\": \"#E5ECF6\", \"caxis\": {\"gridcolor\": \"white\", \"linecolor\": \"white\", \"ticks\": \"\"}}, \"title\": {\"x\": 0.05}, \"xaxis\": {\"automargin\": true, \"gridcolor\": \"white\", \"linecolor\": \"white\", \"ticks\": \"\", \"title\": {\"standoff\": 15}, \"zerolinecolor\": \"white\", \"zerolinewidth\": 2}, \"yaxis\": {\"automargin\": true, \"gridcolor\": \"white\", \"linecolor\": \"white\", \"ticks\": \"\", \"title\": {\"standoff\": 15}, \"zerolinecolor\": \"white\", \"zerolinewidth\": 2}}}},                        {\"responsive\": true}                    ).then(function(){\n",
       "                            \n",
       "var gd = document.getElementById('c65b186b-a467-4281-be62-81843d15cb6c');\n",
       "var x = new MutationObserver(function (mutations, observer) {{\n",
       "        var display = window.getComputedStyle(gd).display;\n",
       "        if (!display || display === 'none') {{\n",
       "            console.log([gd, 'removed!']);\n",
       "            Plotly.purge(gd);\n",
       "            observer.disconnect();\n",
       "        }}\n",
       "}});\n",
       "\n",
       "// Listen for the removal of the full notebook cells\n",
       "var notebookContainer = gd.closest('#notebook-container');\n",
       "if (notebookContainer) {{\n",
       "    x.observe(notebookContainer, {childList: true});\n",
       "}}\n",
       "\n",
       "// Listen for the clearing of the current output cell\n",
       "var outputEl = gd.closest('.output');\n",
       "if (outputEl) {{\n",
       "    x.observe(outputEl, {childList: true});\n",
       "}}\n",
       "\n",
       "                        })                };                });            </script>        </div>"
      ]
     },
     "metadata": {},
     "output_type": "display_data"
    }
   ],
   "source": [
    "create_graph(df_to_plot)"
   ]
  },
  {
   "cell_type": "code",
   "execution_count": 332,
   "metadata": {},
   "outputs": [
    {
     "data": {
      "text/html": [
       "<div>\n",
       "<style scoped>\n",
       "    .dataframe tbody tr th:only-of-type {\n",
       "        vertical-align: middle;\n",
       "    }\n",
       "\n",
       "    .dataframe tbody tr th {\n",
       "        vertical-align: top;\n",
       "    }\n",
       "\n",
       "    .dataframe thead th {\n",
       "        text-align: right;\n",
       "    }\n",
       "</style>\n",
       "<table border=\"1\" class=\"dataframe\">\n",
       "  <thead>\n",
       "    <tr style=\"text-align: right;\">\n",
       "      <th></th>\n",
       "      <th>City</th>\n",
       "      <th>Score</th>\n",
       "      <th>Movehub Rating</th>\n",
       "      <th>Purchase Power</th>\n",
       "      <th>Health Care</th>\n",
       "      <th>Quality of Life</th>\n",
       "      <th>Pollution</th>\n",
       "      <th>Crime Rating</th>\n",
       "      <th>Congestion Level</th>\n",
       "      <th>Education</th>\n",
       "      <th>Annual Temperature</th>\n",
       "    </tr>\n",
       "  </thead>\n",
       "  <tbody>\n",
       "    <tr>\n",
       "      <th>12</th>\n",
       "      <td>Cape Town</td>\n",
       "      <td>2593.0</td>\n",
       "      <td>88.0</td>\n",
       "      <td>60.0</td>\n",
       "      <td>72.0</td>\n",
       "      <td>79.0</td>\n",
       "      <td>76.0</td>\n",
       "      <td>68.0</td>\n",
       "      <td>32</td>\n",
       "      <td>40.0</td>\n",
       "      <td>61.0</td>\n",
       "    </tr>\n",
       "    <tr>\n",
       "      <th>17</th>\n",
       "      <td>Los Angeles</td>\n",
       "      <td>2503.0</td>\n",
       "      <td>87.0</td>\n",
       "      <td>63.0</td>\n",
       "      <td>69.0</td>\n",
       "      <td>63.0</td>\n",
       "      <td>75.0</td>\n",
       "      <td>66.0</td>\n",
       "      <td>42</td>\n",
       "      <td>81.0</td>\n",
       "      <td>65.0</td>\n",
       "    </tr>\n",
       "    <tr>\n",
       "      <th>28</th>\n",
       "      <td>Dallas</td>\n",
       "      <td>2492.0</td>\n",
       "      <td>85.0</td>\n",
       "      <td>76.0</td>\n",
       "      <td>70.0</td>\n",
       "      <td>81.0</td>\n",
       "      <td>84.0</td>\n",
       "      <td>60.0</td>\n",
       "      <td>19</td>\n",
       "      <td>14.0</td>\n",
       "      <td>66.0</td>\n",
       "    </tr>\n",
       "    <tr>\n",
       "      <th>31</th>\n",
       "      <td>Baltimore</td>\n",
       "      <td>2481.0</td>\n",
       "      <td>84.0</td>\n",
       "      <td>79.0</td>\n",
       "      <td>72.0</td>\n",
       "      <td>82.0</td>\n",
       "      <td>78.0</td>\n",
       "      <td>59.0</td>\n",
       "      <td>20</td>\n",
       "      <td>61.0</td>\n",
       "      <td>56.0</td>\n",
       "    </tr>\n",
       "    <tr>\n",
       "      <th>122</th>\n",
       "      <td>Hamilton</td>\n",
       "      <td>2427.0</td>\n",
       "      <td>81.0</td>\n",
       "      <td>57.0</td>\n",
       "      <td>87.0</td>\n",
       "      <td>85.0</td>\n",
       "      <td>82.0</td>\n",
       "      <td>36.0</td>\n",
       "      <td>25</td>\n",
       "      <td>36.0</td>\n",
       "      <td>57.0</td>\n",
       "    </tr>\n",
       "    <tr>\n",
       "      <th>...</th>\n",
       "      <td>...</td>\n",
       "      <td>...</td>\n",
       "      <td>...</td>\n",
       "      <td>...</td>\n",
       "      <td>...</td>\n",
       "      <td>...</td>\n",
       "      <td>...</td>\n",
       "      <td>...</td>\n",
       "      <td>...</td>\n",
       "      <td>...</td>\n",
       "      <td>...</td>\n",
       "    </tr>\n",
       "    <tr>\n",
       "      <th>47</th>\n",
       "      <td>Lahore</td>\n",
       "      <td>1281.0</td>\n",
       "      <td>67.0</td>\n",
       "      <td>12.0</td>\n",
       "      <td>49.0</td>\n",
       "      <td>29.0</td>\n",
       "      <td>31.0</td>\n",
       "      <td>52.0</td>\n",
       "      <td>9</td>\n",
       "      <td>14.0</td>\n",
       "      <td>76.0</td>\n",
       "    </tr>\n",
       "    <tr>\n",
       "      <th>60</th>\n",
       "      <td>Gaborone</td>\n",
       "      <td>1204.0</td>\n",
       "      <td>75.0</td>\n",
       "      <td>31.0</td>\n",
       "      <td>28.0</td>\n",
       "      <td>32.0</td>\n",
       "      <td>31.0</td>\n",
       "      <td>50.0</td>\n",
       "      <td>9</td>\n",
       "      <td>43.0</td>\n",
       "      <td>70.0</td>\n",
       "    </tr>\n",
       "    <tr>\n",
       "      <th>64</th>\n",
       "      <td>Quito</td>\n",
       "      <td>1200.0</td>\n",
       "      <td>67.0</td>\n",
       "      <td>14.0</td>\n",
       "      <td>32.0</td>\n",
       "      <td>46.0</td>\n",
       "      <td>15.0</td>\n",
       "      <td>48.0</td>\n",
       "      <td>9</td>\n",
       "      <td>22.0</td>\n",
       "      <td>58.0</td>\n",
       "    </tr>\n",
       "    <tr>\n",
       "      <th>118</th>\n",
       "      <td>Baku</td>\n",
       "      <td>1166.0</td>\n",
       "      <td>66.0</td>\n",
       "      <td>11.0</td>\n",
       "      <td>29.0</td>\n",
       "      <td>17.0</td>\n",
       "      <td>49.0</td>\n",
       "      <td>37.0</td>\n",
       "      <td>16</td>\n",
       "      <td>9.0</td>\n",
       "      <td>59.0</td>\n",
       "    </tr>\n",
       "    <tr>\n",
       "      <th>48</th>\n",
       "      <td>Hanoi</td>\n",
       "      <td>921.0</td>\n",
       "      <td>67.0</td>\n",
       "      <td>12.0</td>\n",
       "      <td>21.0</td>\n",
       "      <td>5.0</td>\n",
       "      <td>24.0</td>\n",
       "      <td>52.0</td>\n",
       "      <td>13</td>\n",
       "      <td>10.0</td>\n",
       "      <td>74.0</td>\n",
       "    </tr>\n",
       "  </tbody>\n",
       "</table>\n",
       "<p>204 rows × 11 columns</p>\n",
       "</div>"
      ],
      "text/plain": [
       "            City   Score  Movehub Rating  Purchase Power  Health Care  \\\n",
       "12     Cape Town  2593.0            88.0            60.0         72.0   \n",
       "17   Los Angeles  2503.0            87.0            63.0         69.0   \n",
       "28        Dallas  2492.0            85.0            76.0         70.0   \n",
       "31     Baltimore  2481.0            84.0            79.0         72.0   \n",
       "122     Hamilton  2427.0            81.0            57.0         87.0   \n",
       "..           ...     ...             ...             ...          ...   \n",
       "47        Lahore  1281.0            67.0            12.0         49.0   \n",
       "60      Gaborone  1204.0            75.0            31.0         28.0   \n",
       "64         Quito  1200.0            67.0            14.0         32.0   \n",
       "118         Baku  1166.0            66.0            11.0         29.0   \n",
       "48         Hanoi   921.0            67.0            12.0         21.0   \n",
       "\n",
       "     Quality of Life  Pollution  Crime Rating  Congestion Level  Education  \\\n",
       "12              79.0       76.0          68.0                32       40.0   \n",
       "17              63.0       75.0          66.0                42       81.0   \n",
       "28              81.0       84.0          60.0                19       14.0   \n",
       "31              82.0       78.0          59.0                20       61.0   \n",
       "122             85.0       82.0          36.0                25       36.0   \n",
       "..               ...        ...           ...               ...        ...   \n",
       "47              29.0       31.0          52.0                 9       14.0   \n",
       "60              32.0       31.0          50.0                 9       43.0   \n",
       "64              46.0       15.0          48.0                 9       22.0   \n",
       "118             17.0       49.0          37.0                16        9.0   \n",
       "48               5.0       24.0          52.0                13       10.0   \n",
       "\n",
       "     Annual Temperature  \n",
       "12                 61.0  \n",
       "17                 65.0  \n",
       "28                 66.0  \n",
       "31                 56.0  \n",
       "122                57.0  \n",
       "..                  ...  \n",
       "47                 76.0  \n",
       "60                 70.0  \n",
       "64                 58.0  \n",
       "118                59.0  \n",
       "48                 74.0  \n",
       "\n",
       "[204 rows x 11 columns]"
      ]
     },
     "execution_count": 332,
     "metadata": {},
     "output_type": "execute_result"
    }
   ],
   "source": [
    "df.sort_values('Score', ascending=False)[['City', 'Score'] + features].round()"
   ]
  },
  {
   "cell_type": "code",
   "execution_count": 333,
   "metadata": {},
   "outputs": [],
   "source": [
    "######################################             End of Plot Making            ############################# "
   ]
  },
  {
   "cell_type": "code",
   "execution_count": null,
   "metadata": {},
   "outputs": [],
   "source": []
  },
  {
   "cell_type": "code",
   "execution_count": null,
   "metadata": {},
   "outputs": [],
   "source": []
  }
 ],
 "metadata": {
  "kernelspec": {
   "display_name": "Python 3",
   "language": "python",
   "name": "python3"
  },
  "language_info": {
   "codemirror_mode": {
    "name": "ipython",
    "version": 3
   },
   "file_extension": ".py",
   "mimetype": "text/x-python",
   "name": "python",
   "nbconvert_exporter": "python",
   "pygments_lexer": "ipython3",
   "version": "3.8.3"
  }
 },
 "nbformat": 4,
 "nbformat_minor": 4
}
